{
 "cells": [
  {
   "cell_type": "markdown",
   "metadata": {},
   "source": [
    "## Data Gathering\n",
    "This section includes that steps that I am going to take to gather the data needed for the analysis. The goal is to have the data ready for data assessing afterwards.\n",
    "\n",
    "At the end of this section, there will be three dataframes for further analysis:\n",
    "1. WeRateDogs Twitter archive\n",
    "2. Tweet image predictions\n",
    "3. Tweet JSON"
   ]
  },
  {
   "cell_type": "code",
   "execution_count": 1,
   "metadata": {},
   "outputs": [
    {
     "name": "stderr",
     "output_type": "stream",
     "text": [
      "/anaconda/lib/python3.6/site-packages/statsmodels/compat/pandas.py:56: FutureWarning: The pandas.core.datetools module is deprecated and will be removed in a future version. Please use the pandas.tseries module instead.\n",
      "  from pandas.core import datetools\n"
     ]
    }
   ],
   "source": [
    "### Load the packages that are necessary for the analysis\n",
    "\n",
    "import numpy as np\n",
    "import pandas as pd\n",
    "import matplotlib.pyplot as plt\n",
    "import seaborn as sns\n",
    "import scipy.stats as st\n",
    "import statsmodels.api as sm\n",
    "import requests\n",
    "import os\n",
    "import tweepy\n",
    "import json\n",
    "from tqdm import tqdm\n",
    "\n",
    "sns.set_style('darkgrid')\n",
    "st.chisqprob = lambda chisq, df_master_queried: st.chi2.sf(chisq, df_master_queried)\n",
    "\n",
    "%matplotlib inline"
   ]
  },
  {
   "cell_type": "code",
   "execution_count": 2,
   "metadata": {},
   "outputs": [],
   "source": [
    "### Create directories for gathered data and cleaned data\n",
    "\n",
    "folders = ['gathered_data', 'cleaned_data']\n",
    "\n",
    "for folder in folders:\n",
    "    if not os.path.exists(folder):\n",
    "        os.makedirs(folder)"
   ]
  },
  {
   "cell_type": "code",
   "execution_count": 3,
   "metadata": {},
   "outputs": [],
   "source": [
    "### Load up the Twitter Archive Enhanced data\n",
    "\n",
    "# create a dataframe for the data\n",
    "df_twt_arch = pd.read_csv(os.path.join(folders[0], 'twitter-archive-enhanced.csv'))"
   ]
  },
  {
   "cell_type": "code",
   "execution_count": 4,
   "metadata": {},
   "outputs": [],
   "source": [
    "### Gather the Twitter image predictions programmatically\n",
    "\n",
    "# the url for retrieving the Twitter image predictions file\n",
    "twt_img_url = 'https://d17h27t6h515a5.cloudfront.net/topher/2017/August/599fd2ad_image-predictions/image-predictions.tsv'\n",
    "\n",
    "# instantiate a response variable\n",
    "response = requests.get(twt_img_url)\n",
    "\n",
    "# open the file which will write the content of the response variable to\n",
    "with open(os.path.join(folders[0], twt_img_url.split('/')[-1]), mode = 'wb') as file:\n",
    "    file.write(response.content)"
   ]
  },
  {
   "cell_type": "code",
   "execution_count": 5,
   "metadata": {},
   "outputs": [],
   "source": [
    "### Load up the Twitter Image Predictions data\n",
    "\n",
    "# create a dataframe for the data\n",
    "df_img_pred = pd.read_csv(os.path.join(folders[0], 'image-predictions.tsv'), sep='\\t')"
   ]
  },
  {
   "cell_type": "code",
   "execution_count": 6,
   "metadata": {},
   "outputs": [],
   "source": [
    "### Construct API to retrieve relevant tweets\n",
    "\n",
    "# API credentials\n",
    "consumer_key = 'Mr0LgCpxVUS5wq2psLubbqWzH'\n",
    "consumer_secret = 'HPfPiWG0f0pbjRM9JDFTWaOpN958yK26V7V60JAt19W5tdDD5p'\n",
    "access_token = '847637417305620480-e62DbePxJQb0TpKmQypOzy9aU5QKTIF'\n",
    "access_secret = 'YOXvvTwgElstCpF1uhWn8ATRCZxPKCVlLgbJiYrnqS9A6'\n",
    "\n",
    "# instantiate authentication object\n",
    "auth = tweepy.OAuthHandler(consumer_key, consumer_secret)\n",
    "auth.set_access_token(access_token, access_secret)\n",
    "\n",
    "# instantiate API object and enable the JSON parser for serialization\n",
    "api = tweepy.API(auth, \n",
    "                 parser=tweepy.parsers.JSONParser(), \n",
    "                 wait_on_rate_limit=True, \n",
    "                 wait_on_rate_limit_notify=True)"
   ]
  },
  {
   "cell_type": "code",
   "execution_count": 7,
   "metadata": {},
   "outputs": [
    {
     "name": "stderr",
     "output_type": "stream",
     "text": [
      "  1%|          | 20/2356 [00:11<22:31,  1.73it/s]"
     ]
    },
    {
     "name": "stdout",
     "output_type": "stream",
     "text": [
      "ID missing: 888202515573088257\n"
     ]
    },
    {
     "name": "stderr",
     "output_type": "stream",
     "text": [
      "  4%|▍         | 96/2356 [00:56<22:09,  1.70it/s]"
     ]
    },
    {
     "name": "stdout",
     "output_type": "stream",
     "text": [
      "ID missing: 873697596434513921\n"
     ]
    },
    {
     "name": "stderr",
     "output_type": "stream",
     "text": [
      "  5%|▌         | 119/2356 [01:10<22:00,  1.69it/s]"
     ]
    },
    {
     "name": "stdout",
     "output_type": "stream",
     "text": [
      "ID missing: 869988702071779329\n"
     ]
    },
    {
     "name": "stderr",
     "output_type": "stream",
     "text": [
      "  6%|▌         | 133/2356 [01:17<21:42,  1.71it/s]"
     ]
    },
    {
     "name": "stdout",
     "output_type": "stream",
     "text": [
      "ID missing: 866816280283807744\n"
     ]
    },
    {
     "name": "stderr",
     "output_type": "stream",
     "text": [
      "  7%|▋         | 156/2356 [01:32<21:38,  1.69it/s]"
     ]
    },
    {
     "name": "stdout",
     "output_type": "stream",
     "text": [
      "ID missing: 861769973181624320\n"
     ]
    },
    {
     "name": "stderr",
     "output_type": "stream",
     "text": [
      " 11%|█         | 261/2356 [02:36<20:54,  1.67it/s]"
     ]
    },
    {
     "name": "stdout",
     "output_type": "stream",
     "text": [
      "ID missing: 842892208864923648\n"
     ]
    },
    {
     "name": "stderr",
     "output_type": "stream",
     "text": [
      " 16%|█▋        | 383/2356 [03:48<19:38,  1.67it/s]"
     ]
    },
    {
     "name": "stdout",
     "output_type": "stream",
     "text": [
      "ID missing: 827228250799742977\n"
     ]
    },
    {
     "name": "stderr",
     "output_type": "stream",
     "text": [
      " 24%|██▍       | 567/2356 [05:36<17:42,  1.68it/s]"
     ]
    },
    {
     "name": "stdout",
     "output_type": "stream",
     "text": [
      "ID missing: 802247111496568832\n"
     ]
    },
    {
     "name": "stderr",
     "output_type": "stream",
     "text": [
      " 33%|███▎      | 785/2356 [07:46<15:34,  1.68it/s]"
     ]
    },
    {
     "name": "stdout",
     "output_type": "stream",
     "text": [
      "ID missing: 775096608509886464\n"
     ]
    },
    {
     "name": "stderr",
     "output_type": "stream",
     "text": [
      " 38%|███▊      | 900/2356 [08:55<14:26,  1.68it/s]"
     ]
    },
    {
     "name": "stdout",
     "output_type": "stream",
     "text": [
      "Rate limit reached. Sleeping for: 364\n"
     ]
    },
    {
     "name": "stderr",
     "output_type": "stream",
     "text": [
      " 75%|███████▍  | 1759/2356 [43:43<14:50,  1.49s/it]"
     ]
    },
    {
     "name": "stdout",
     "output_type": "stream",
     "text": [
      "ID missing: 678755239630127104\n"
     ]
    },
    {
     "name": "stderr",
     "output_type": "stream",
     "text": [
      "100%|██████████| 2356/2356 [1:14:27<00:00,  1.90s/it]\n"
     ]
    }
   ],
   "source": [
    "### Query the Twitter API for each tweet's JSON data\n",
    "\n",
    "# create a dictionary to store the JSON data\n",
    "tweet_data = {}\n",
    "\n",
    "# a loop based on the Tweet ID in the Twitter Archive Enhanced dataframe\n",
    "for tweet in tqdm(df_twt_arch.tweet_id):\n",
    "    try:\n",
    "        tweet_status = api.get_status(tweet, tweet_mode='extended')\n",
    "        tweet_data[str(tweet)] = tweet_status\n",
    "    except: \n",
    "        print('ID missing: {}'.format(str(tweet)))"
   ]
  },
  {
   "cell_type": "code",
   "execution_count": 8,
   "metadata": {},
   "outputs": [],
   "source": [
    "### Create a file to store the entire set of the queried JSON data\n",
    "\n",
    "# open the file which will write the JSON data of the dictionary to\n",
    "with open(os.path.join(folders[0], 'tweet_json.txt'), 'w') as outfile:  \n",
    "    json.dump(tweet_data, outfile, \n",
    "              sort_keys = True,\n",
    "              indent=4,\n",
    "              ensure_ascii = False)"
   ]
  },
  {
   "cell_type": "code",
   "execution_count": 9,
   "metadata": {},
   "outputs": [],
   "source": [
    "### Load up the queried API JSON data\n",
    "\n",
    "# create a dataframe for the data\n",
    "df_twt_json = pd.read_json(os.path.join(folders[0], 'tweet_json.txt'), orient='index')\n",
    "\n",
    "# write out to a CSV file\n",
    "df_twt_json.to_csv(os.path.join(folders[0], 'tweet_json.csv'), index=False)"
   ]
  },
  {
   "cell_type": "markdown",
   "metadata": {},
   "source": [
    "The three dataframes for assessing are ready:\n",
    "1. WeRateDogs Twitter archive - `df_twt_arch`\n",
    "2. Tweet image predictions - `df_img_pred`\n",
    "3. Tweet JSON - `df_twt_json`"
   ]
  },
  {
   "cell_type": "markdown",
   "metadata": {},
   "source": [
    "## Data Assessing\n",
    "This section includes the steps that I am going to take to assess the gathered data. The goal is to summarize the quality and tidiness issues which will then be tackled afterwards."
   ]
  },
  {
   "cell_type": "markdown",
   "metadata": {},
   "source": [
    "Let's start with the Twitter Archive Enhanced data."
   ]
  },
  {
   "cell_type": "code",
   "execution_count": 10,
   "metadata": {},
   "outputs": [
    {
     "name": "stdout",
     "output_type": "stream",
     "text": [
      "<class 'pandas.core.frame.DataFrame'>\n",
      "RangeIndex: 2356 entries, 0 to 2355\n",
      "Data columns (total 17 columns):\n",
      "tweet_id                      2356 non-null int64\n",
      "in_reply_to_status_id         78 non-null float64\n",
      "in_reply_to_user_id           78 non-null float64\n",
      "timestamp                     2356 non-null object\n",
      "source                        2356 non-null object\n",
      "text                          2356 non-null object\n",
      "retweeted_status_id           181 non-null float64\n",
      "retweeted_status_user_id      181 non-null float64\n",
      "retweeted_status_timestamp    181 non-null object\n",
      "expanded_urls                 2297 non-null object\n",
      "rating_numerator              2356 non-null int64\n",
      "rating_denominator            2356 non-null int64\n",
      "name                          2356 non-null object\n",
      "doggo                         2356 non-null object\n",
      "floofer                       2356 non-null object\n",
      "pupper                        2356 non-null object\n",
      "puppo                         2356 non-null object\n",
      "dtypes: float64(4), int64(3), object(10)\n",
      "memory usage: 313.0+ KB\n"
     ]
    }
   ],
   "source": [
    "# info check\n",
    "df_twt_arch.info()"
   ]
  },
  {
   "cell_type": "code",
   "execution_count": 11,
   "metadata": {
    "scrolled": false
   },
   "outputs": [
    {
     "data": {
      "text/html": [
       "<div>\n",
       "<style scoped>\n",
       "    .dataframe tbody tr th:only-of-type {\n",
       "        vertical-align: middle;\n",
       "    }\n",
       "\n",
       "    .dataframe tbody tr th {\n",
       "        vertical-align: top;\n",
       "    }\n",
       "\n",
       "    .dataframe thead th {\n",
       "        text-align: right;\n",
       "    }\n",
       "</style>\n",
       "<table border=\"1\" class=\"dataframe\">\n",
       "  <thead>\n",
       "    <tr style=\"text-align: right;\">\n",
       "      <th></th>\n",
       "      <th>tweet_id</th>\n",
       "      <th>in_reply_to_status_id</th>\n",
       "      <th>in_reply_to_user_id</th>\n",
       "      <th>timestamp</th>\n",
       "      <th>source</th>\n",
       "      <th>text</th>\n",
       "      <th>retweeted_status_id</th>\n",
       "      <th>retweeted_status_user_id</th>\n",
       "      <th>retweeted_status_timestamp</th>\n",
       "      <th>expanded_urls</th>\n",
       "      <th>rating_numerator</th>\n",
       "      <th>rating_denominator</th>\n",
       "      <th>name</th>\n",
       "      <th>doggo</th>\n",
       "      <th>floofer</th>\n",
       "      <th>pupper</th>\n",
       "      <th>puppo</th>\n",
       "    </tr>\n",
       "  </thead>\n",
       "  <tbody>\n",
       "    <tr>\n",
       "      <th>1335</th>\n",
       "      <td>705239209544720384</td>\n",
       "      <td>NaN</td>\n",
       "      <td>NaN</td>\n",
       "      <td>2016-03-03 03:51:44 +0000</td>\n",
       "      <td>&lt;a href=\"http://twitter.com/download/iphone\" r...</td>\n",
       "      <td>This is Jimothy. He lost his body during the t...</td>\n",
       "      <td>NaN</td>\n",
       "      <td>NaN</td>\n",
       "      <td>NaN</td>\n",
       "      <td>https://twitter.com/dog_rates/status/705239209...</td>\n",
       "      <td>11</td>\n",
       "      <td>10</td>\n",
       "      <td>Jimothy</td>\n",
       "      <td>None</td>\n",
       "      <td>None</td>\n",
       "      <td>None</td>\n",
       "      <td>None</td>\n",
       "    </tr>\n",
       "    <tr>\n",
       "      <th>1173</th>\n",
       "      <td>720340705894408192</td>\n",
       "      <td>NaN</td>\n",
       "      <td>NaN</td>\n",
       "      <td>2016-04-13 19:59:42 +0000</td>\n",
       "      <td>&lt;a href=\"http://twitter.com/download/iphone\" r...</td>\n",
       "      <td>This is Derek. He just got balled on. Can't ev...</td>\n",
       "      <td>NaN</td>\n",
       "      <td>NaN</td>\n",
       "      <td>NaN</td>\n",
       "      <td>https://twitter.com/dog_rates/status/720340705...</td>\n",
       "      <td>10</td>\n",
       "      <td>10</td>\n",
       "      <td>Derek</td>\n",
       "      <td>None</td>\n",
       "      <td>None</td>\n",
       "      <td>pupper</td>\n",
       "      <td>None</td>\n",
       "    </tr>\n",
       "    <tr>\n",
       "      <th>1688</th>\n",
       "      <td>681523177663676416</td>\n",
       "      <td>NaN</td>\n",
       "      <td>NaN</td>\n",
       "      <td>2015-12-28 17:12:42 +0000</td>\n",
       "      <td>&lt;a href=\"http://twitter.com/download/iphone\" r...</td>\n",
       "      <td>This is Carly. She's actually 2 dogs fused tog...</td>\n",
       "      <td>NaN</td>\n",
       "      <td>NaN</td>\n",
       "      <td>NaN</td>\n",
       "      <td>https://twitter.com/dog_rates/status/681523177...</td>\n",
       "      <td>12</td>\n",
       "      <td>10</td>\n",
       "      <td>Carly</td>\n",
       "      <td>None</td>\n",
       "      <td>None</td>\n",
       "      <td>None</td>\n",
       "      <td>None</td>\n",
       "    </tr>\n",
       "    <tr>\n",
       "      <th>288</th>\n",
       "      <td>838476387338051585</td>\n",
       "      <td>NaN</td>\n",
       "      <td>NaN</td>\n",
       "      <td>2017-03-05 19:48:43 +0000</td>\n",
       "      <td>&lt;a href=\"http://twitter.com/download/iphone\" r...</td>\n",
       "      <td>This is Stanley. Somehow he heard you tell him...</td>\n",
       "      <td>NaN</td>\n",
       "      <td>NaN</td>\n",
       "      <td>NaN</td>\n",
       "      <td>https://twitter.com/dog_rates/status/838476387...</td>\n",
       "      <td>13</td>\n",
       "      <td>10</td>\n",
       "      <td>Stanley</td>\n",
       "      <td>None</td>\n",
       "      <td>None</td>\n",
       "      <td>None</td>\n",
       "      <td>None</td>\n",
       "    </tr>\n",
       "    <tr>\n",
       "      <th>117</th>\n",
       "      <td>870063196459192321</td>\n",
       "      <td>NaN</td>\n",
       "      <td>NaN</td>\n",
       "      <td>2017-05-31 23:43:25 +0000</td>\n",
       "      <td>&lt;a href=\"http://twitter.com/download/iphone\" r...</td>\n",
       "      <td>Meet Clifford. He's quite large. Also red. Goo...</td>\n",
       "      <td>NaN</td>\n",
       "      <td>NaN</td>\n",
       "      <td>NaN</td>\n",
       "      <td>https://twitter.com/dog_rates/status/870063196...</td>\n",
       "      <td>14</td>\n",
       "      <td>10</td>\n",
       "      <td>Clifford</td>\n",
       "      <td>None</td>\n",
       "      <td>None</td>\n",
       "      <td>None</td>\n",
       "      <td>None</td>\n",
       "    </tr>\n",
       "    <tr>\n",
       "      <th>1822</th>\n",
       "      <td>676575501977128964</td>\n",
       "      <td>NaN</td>\n",
       "      <td>NaN</td>\n",
       "      <td>2015-12-15 01:32:24 +0000</td>\n",
       "      <td>&lt;a href=\"http://twitter.com/download/iphone\" r...</td>\n",
       "      <td>This pupper is very passionate about Christmas...</td>\n",
       "      <td>NaN</td>\n",
       "      <td>NaN</td>\n",
       "      <td>NaN</td>\n",
       "      <td>https://twitter.com/dog_rates/status/676575501...</td>\n",
       "      <td>8</td>\n",
       "      <td>10</td>\n",
       "      <td>None</td>\n",
       "      <td>None</td>\n",
       "      <td>None</td>\n",
       "      <td>pupper</td>\n",
       "      <td>None</td>\n",
       "    </tr>\n",
       "    <tr>\n",
       "      <th>1114</th>\n",
       "      <td>732732193018155009</td>\n",
       "      <td>NaN</td>\n",
       "      <td>NaN</td>\n",
       "      <td>2016-05-18 00:39:02 +0000</td>\n",
       "      <td>&lt;a href=\"http://twitter.com/download/iphone\" r...</td>\n",
       "      <td>This is Ralpher. He's an East Guinean Flop Dog...</td>\n",
       "      <td>NaN</td>\n",
       "      <td>NaN</td>\n",
       "      <td>NaN</td>\n",
       "      <td>https://twitter.com/dog_rates/status/732732193...</td>\n",
       "      <td>12</td>\n",
       "      <td>10</td>\n",
       "      <td>Ralpher</td>\n",
       "      <td>None</td>\n",
       "      <td>None</td>\n",
       "      <td>None</td>\n",
       "      <td>None</td>\n",
       "    </tr>\n",
       "    <tr>\n",
       "      <th>1471</th>\n",
       "      <td>693993230313091072</td>\n",
       "      <td>NaN</td>\n",
       "      <td>NaN</td>\n",
       "      <td>2016-02-01 03:04:14 +0000</td>\n",
       "      <td>&lt;a href=\"http://vine.co\" rel=\"nofollow\"&gt;Vine -...</td>\n",
       "      <td>These lil fellas are the best of friends. 12/1...</td>\n",
       "      <td>NaN</td>\n",
       "      <td>NaN</td>\n",
       "      <td>NaN</td>\n",
       "      <td>https://vine.co/v/i5ETazP5hrm</td>\n",
       "      <td>12</td>\n",
       "      <td>10</td>\n",
       "      <td>None</td>\n",
       "      <td>None</td>\n",
       "      <td>None</td>\n",
       "      <td>None</td>\n",
       "      <td>None</td>\n",
       "    </tr>\n",
       "    <tr>\n",
       "      <th>1697</th>\n",
       "      <td>681231109724700672</td>\n",
       "      <td>NaN</td>\n",
       "      <td>NaN</td>\n",
       "      <td>2015-12-27 21:52:07 +0000</td>\n",
       "      <td>&lt;a href=\"http://twitter.com/download/iphone\" r...</td>\n",
       "      <td>I just love this pic. 11/10 this pupper is goi...</td>\n",
       "      <td>NaN</td>\n",
       "      <td>NaN</td>\n",
       "      <td>NaN</td>\n",
       "      <td>https://twitter.com/dog_rates/status/681231109...</td>\n",
       "      <td>11</td>\n",
       "      <td>10</td>\n",
       "      <td>None</td>\n",
       "      <td>None</td>\n",
       "      <td>None</td>\n",
       "      <td>pupper</td>\n",
       "      <td>None</td>\n",
       "    </tr>\n",
       "    <tr>\n",
       "      <th>2062</th>\n",
       "      <td>671163268581498880</td>\n",
       "      <td>NaN</td>\n",
       "      <td>NaN</td>\n",
       "      <td>2015-11-30 03:06:07 +0000</td>\n",
       "      <td>&lt;a href=\"http://twitter.com/download/iphone\" r...</td>\n",
       "      <td>Pack of horned dogs here. Very team-oriented b...</td>\n",
       "      <td>NaN</td>\n",
       "      <td>NaN</td>\n",
       "      <td>NaN</td>\n",
       "      <td>https://twitter.com/dog_rates/status/671163268...</td>\n",
       "      <td>8</td>\n",
       "      <td>10</td>\n",
       "      <td>None</td>\n",
       "      <td>None</td>\n",
       "      <td>None</td>\n",
       "      <td>None</td>\n",
       "      <td>None</td>\n",
       "    </tr>\n",
       "  </tbody>\n",
       "</table>\n",
       "</div>"
      ],
      "text/plain": [
       "                tweet_id  in_reply_to_status_id  in_reply_to_user_id  \\\n",
       "1335  705239209544720384                    NaN                  NaN   \n",
       "1173  720340705894408192                    NaN                  NaN   \n",
       "1688  681523177663676416                    NaN                  NaN   \n",
       "288   838476387338051585                    NaN                  NaN   \n",
       "117   870063196459192321                    NaN                  NaN   \n",
       "1822  676575501977128964                    NaN                  NaN   \n",
       "1114  732732193018155009                    NaN                  NaN   \n",
       "1471  693993230313091072                    NaN                  NaN   \n",
       "1697  681231109724700672                    NaN                  NaN   \n",
       "2062  671163268581498880                    NaN                  NaN   \n",
       "\n",
       "                      timestamp  \\\n",
       "1335  2016-03-03 03:51:44 +0000   \n",
       "1173  2016-04-13 19:59:42 +0000   \n",
       "1688  2015-12-28 17:12:42 +0000   \n",
       "288   2017-03-05 19:48:43 +0000   \n",
       "117   2017-05-31 23:43:25 +0000   \n",
       "1822  2015-12-15 01:32:24 +0000   \n",
       "1114  2016-05-18 00:39:02 +0000   \n",
       "1471  2016-02-01 03:04:14 +0000   \n",
       "1697  2015-12-27 21:52:07 +0000   \n",
       "2062  2015-11-30 03:06:07 +0000   \n",
       "\n",
       "                                                 source  \\\n",
       "1335  <a href=\"http://twitter.com/download/iphone\" r...   \n",
       "1173  <a href=\"http://twitter.com/download/iphone\" r...   \n",
       "1688  <a href=\"http://twitter.com/download/iphone\" r...   \n",
       "288   <a href=\"http://twitter.com/download/iphone\" r...   \n",
       "117   <a href=\"http://twitter.com/download/iphone\" r...   \n",
       "1822  <a href=\"http://twitter.com/download/iphone\" r...   \n",
       "1114  <a href=\"http://twitter.com/download/iphone\" r...   \n",
       "1471  <a href=\"http://vine.co\" rel=\"nofollow\">Vine -...   \n",
       "1697  <a href=\"http://twitter.com/download/iphone\" r...   \n",
       "2062  <a href=\"http://twitter.com/download/iphone\" r...   \n",
       "\n",
       "                                                   text  retweeted_status_id  \\\n",
       "1335  This is Jimothy. He lost his body during the t...                  NaN   \n",
       "1173  This is Derek. He just got balled on. Can't ev...                  NaN   \n",
       "1688  This is Carly. She's actually 2 dogs fused tog...                  NaN   \n",
       "288   This is Stanley. Somehow he heard you tell him...                  NaN   \n",
       "117   Meet Clifford. He's quite large. Also red. Goo...                  NaN   \n",
       "1822  This pupper is very passionate about Christmas...                  NaN   \n",
       "1114  This is Ralpher. He's an East Guinean Flop Dog...                  NaN   \n",
       "1471  These lil fellas are the best of friends. 12/1...                  NaN   \n",
       "1697  I just love this pic. 11/10 this pupper is goi...                  NaN   \n",
       "2062  Pack of horned dogs here. Very team-oriented b...                  NaN   \n",
       "\n",
       "      retweeted_status_user_id retweeted_status_timestamp  \\\n",
       "1335                       NaN                        NaN   \n",
       "1173                       NaN                        NaN   \n",
       "1688                       NaN                        NaN   \n",
       "288                        NaN                        NaN   \n",
       "117                        NaN                        NaN   \n",
       "1822                       NaN                        NaN   \n",
       "1114                       NaN                        NaN   \n",
       "1471                       NaN                        NaN   \n",
       "1697                       NaN                        NaN   \n",
       "2062                       NaN                        NaN   \n",
       "\n",
       "                                          expanded_urls  rating_numerator  \\\n",
       "1335  https://twitter.com/dog_rates/status/705239209...                11   \n",
       "1173  https://twitter.com/dog_rates/status/720340705...                10   \n",
       "1688  https://twitter.com/dog_rates/status/681523177...                12   \n",
       "288   https://twitter.com/dog_rates/status/838476387...                13   \n",
       "117   https://twitter.com/dog_rates/status/870063196...                14   \n",
       "1822  https://twitter.com/dog_rates/status/676575501...                 8   \n",
       "1114  https://twitter.com/dog_rates/status/732732193...                12   \n",
       "1471                      https://vine.co/v/i5ETazP5hrm                12   \n",
       "1697  https://twitter.com/dog_rates/status/681231109...                11   \n",
       "2062  https://twitter.com/dog_rates/status/671163268...                 8   \n",
       "\n",
       "      rating_denominator      name doggo floofer  pupper puppo  \n",
       "1335                  10   Jimothy  None    None    None  None  \n",
       "1173                  10     Derek  None    None  pupper  None  \n",
       "1688                  10     Carly  None    None    None  None  \n",
       "288                   10   Stanley  None    None    None  None  \n",
       "117                   10  Clifford  None    None    None  None  \n",
       "1822                  10      None  None    None  pupper  None  \n",
       "1114                  10   Ralpher  None    None    None  None  \n",
       "1471                  10      None  None    None    None  None  \n",
       "1697                  10      None  None    None  pupper  None  \n",
       "2062                  10      None  None    None    None  None  "
      ]
     },
     "execution_count": 11,
     "metadata": {},
     "output_type": "execute_result"
    }
   ],
   "source": [
    "# spot check by sampling\n",
    "df_twt_arch.sample(10)"
   ]
  },
  {
   "cell_type": "code",
   "execution_count": 12,
   "metadata": {},
   "outputs": [
    {
     "data": {
      "text/plain": [
       "None         745\n",
       "a             55\n",
       "Charlie       12\n",
       "Cooper        11\n",
       "Oliver        11\n",
       "Lucy          11\n",
       "Lola          10\n",
       "Tucker        10\n",
       "Penny         10\n",
       "Winston        9\n",
       "Bo             9\n",
       "Sadie          8\n",
       "the            8\n",
       "Buddy          7\n",
       "Toby           7\n",
       "Daisy          7\n",
       "Bailey         7\n",
       "an             7\n",
       "Bella          6\n",
       "Jack           6\n",
       "Dave           6\n",
       "Rusty          6\n",
       "Scout          6\n",
       "Stanley        6\n",
       "Leo            6\n",
       "Jax            6\n",
       "Koda           6\n",
       "Oscar          6\n",
       "Milo           6\n",
       "very           5\n",
       "            ... \n",
       "Ralphson       1\n",
       "Schnitzel      1\n",
       "Millie         1\n",
       "Franq          1\n",
       "Kellogg        1\n",
       "Eriq           1\n",
       "Shnuggles      1\n",
       "Tom            1\n",
       "Aja            1\n",
       "Kanu           1\n",
       "Alexander      1\n",
       "Chuq           1\n",
       "Cuddles        1\n",
       "Banjo          1\n",
       "Edmund         1\n",
       "Bobbay         1\n",
       "Spencer        1\n",
       "Buddah         1\n",
       "Terrenth       1\n",
       "Severus        1\n",
       "Jeremy         1\n",
       "Gunner         1\n",
       "Jessifer       1\n",
       "Mauve          1\n",
       "O              1\n",
       "Geno           1\n",
       "Snoop          1\n",
       "Trigger        1\n",
       "Taco           1\n",
       "Apollo         1\n",
       "Name: name, Length: 957, dtype: int64"
      ]
     },
     "execution_count": 12,
     "metadata": {},
     "output_type": "execute_result"
    }
   ],
   "source": [
    "# check the dog name column on legitimacy\n",
    "df_twt_arch.name.value_counts()"
   ]
  },
  {
   "cell_type": "code",
   "execution_count": 13,
   "metadata": {},
   "outputs": [
    {
     "data": {
      "text/plain": [
       "0"
      ]
     },
     "execution_count": 13,
     "metadata": {},
     "output_type": "execute_result"
    }
   ],
   "source": [
    "# check on duplicates\n",
    "df_twt_arch.duplicated().sum()"
   ]
  },
  {
   "cell_type": "code",
   "execution_count": 14,
   "metadata": {},
   "outputs": [
    {
     "name": "stdout",
     "output_type": "stream",
     "text": [
      "<class 'pandas.core.frame.DataFrame'>\n",
      "RangeIndex: 2075 entries, 0 to 2074\n",
      "Data columns (total 12 columns):\n",
      "tweet_id    2075 non-null int64\n",
      "jpg_url     2075 non-null object\n",
      "img_num     2075 non-null int64\n",
      "p1          2075 non-null object\n",
      "p1_conf     2075 non-null float64\n",
      "p1_dog      2075 non-null bool\n",
      "p2          2075 non-null object\n",
      "p2_conf     2075 non-null float64\n",
      "p2_dog      2075 non-null bool\n",
      "p3          2075 non-null object\n",
      "p3_conf     2075 non-null float64\n",
      "p3_dog      2075 non-null bool\n",
      "dtypes: bool(3), float64(3), int64(2), object(4)\n",
      "memory usage: 152.1+ KB\n"
     ]
    }
   ],
   "source": [
    "# info check\n",
    "df_img_pred.info()"
   ]
  },
  {
   "cell_type": "code",
   "execution_count": 15,
   "metadata": {},
   "outputs": [
    {
     "data": {
      "text/html": [
       "<div>\n",
       "<style scoped>\n",
       "    .dataframe tbody tr th:only-of-type {\n",
       "        vertical-align: middle;\n",
       "    }\n",
       "\n",
       "    .dataframe tbody tr th {\n",
       "        vertical-align: top;\n",
       "    }\n",
       "\n",
       "    .dataframe thead th {\n",
       "        text-align: right;\n",
       "    }\n",
       "</style>\n",
       "<table border=\"1\" class=\"dataframe\">\n",
       "  <thead>\n",
       "    <tr style=\"text-align: right;\">\n",
       "      <th></th>\n",
       "      <th>tweet_id</th>\n",
       "      <th>jpg_url</th>\n",
       "      <th>img_num</th>\n",
       "      <th>p1</th>\n",
       "      <th>p1_conf</th>\n",
       "      <th>p1_dog</th>\n",
       "      <th>p2</th>\n",
       "      <th>p2_conf</th>\n",
       "      <th>p2_dog</th>\n",
       "      <th>p3</th>\n",
       "      <th>p3_conf</th>\n",
       "      <th>p3_dog</th>\n",
       "    </tr>\n",
       "  </thead>\n",
       "  <tbody>\n",
       "    <tr>\n",
       "      <th>1770</th>\n",
       "      <td>827600520311402496</td>\n",
       "      <td>https://pbs.twimg.com/media/C3w6RYbWQAAEQ25.jpg</td>\n",
       "      <td>1</td>\n",
       "      <td>Pembroke</td>\n",
       "      <td>0.325638</td>\n",
       "      <td>True</td>\n",
       "      <td>golden_retriever</td>\n",
       "      <td>0.317235</td>\n",
       "      <td>True</td>\n",
       "      <td>Labrador_retriever</td>\n",
       "      <td>0.116087</td>\n",
       "      <td>True</td>\n",
       "    </tr>\n",
       "    <tr>\n",
       "      <th>979</th>\n",
       "      <td>707297311098011648</td>\n",
       "      <td>https://pbs.twimg.com/media/CdDTJLMW4AEST--.jpg</td>\n",
       "      <td>1</td>\n",
       "      <td>Blenheim_spaniel</td>\n",
       "      <td>0.370717</td>\n",
       "      <td>True</td>\n",
       "      <td>Shih-Tzu</td>\n",
       "      <td>0.201566</td>\n",
       "      <td>True</td>\n",
       "      <td>black-footed_ferret</td>\n",
       "      <td>0.101559</td>\n",
       "      <td>False</td>\n",
       "    </tr>\n",
       "    <tr>\n",
       "      <th>778</th>\n",
       "      <td>689877686181715968</td>\n",
       "      <td>https://pbs.twimg.com/media/CZLwGAIWQAIYsTx.jpg</td>\n",
       "      <td>1</td>\n",
       "      <td>Old_English_sheepdog</td>\n",
       "      <td>0.269155</td>\n",
       "      <td>True</td>\n",
       "      <td>Tibetan_terrier</td>\n",
       "      <td>0.111496</td>\n",
       "      <td>True</td>\n",
       "      <td>Lakeland_terrier</td>\n",
       "      <td>0.104939</td>\n",
       "      <td>True</td>\n",
       "    </tr>\n",
       "    <tr>\n",
       "      <th>1102</th>\n",
       "      <td>721001180231503872</td>\n",
       "      <td>https://pbs.twimg.com/media/CgGCvxAUkAAx55r.jpg</td>\n",
       "      <td>1</td>\n",
       "      <td>Samoyed</td>\n",
       "      <td>0.950053</td>\n",
       "      <td>True</td>\n",
       "      <td>washbasin</td>\n",
       "      <td>0.006321</td>\n",
       "      <td>False</td>\n",
       "      <td>tub</td>\n",
       "      <td>0.006243</td>\n",
       "      <td>False</td>\n",
       "    </tr>\n",
       "    <tr>\n",
       "      <th>1281</th>\n",
       "      <td>750147208377409536</td>\n",
       "      <td>https://pbs.twimg.com/media/CmkO57iXgAEOxX9.jpg</td>\n",
       "      <td>1</td>\n",
       "      <td>pug</td>\n",
       "      <td>0.977765</td>\n",
       "      <td>True</td>\n",
       "      <td>Boston_bull</td>\n",
       "      <td>0.004794</td>\n",
       "      <td>True</td>\n",
       "      <td>French_bulldog</td>\n",
       "      <td>0.004573</td>\n",
       "      <td>True</td>\n",
       "    </tr>\n",
       "    <tr>\n",
       "      <th>1480</th>\n",
       "      <td>780858289093574656</td>\n",
       "      <td>https://pbs.twimg.com/media/CtYqeNHWgAATqYZ.jpg</td>\n",
       "      <td>1</td>\n",
       "      <td>Chesapeake_Bay_retriever</td>\n",
       "      <td>0.488555</td>\n",
       "      <td>True</td>\n",
       "      <td>Sussex_spaniel</td>\n",
       "      <td>0.271655</td>\n",
       "      <td>True</td>\n",
       "      <td>kelpie</td>\n",
       "      <td>0.106913</td>\n",
       "      <td>True</td>\n",
       "    </tr>\n",
       "    <tr>\n",
       "      <th>646</th>\n",
       "      <td>681654059175129088</td>\n",
       "      <td>https://pbs.twimg.com/media/CXW4wGHWsAE_eBD.jpg</td>\n",
       "      <td>1</td>\n",
       "      <td>Pomeranian</td>\n",
       "      <td>0.800538</td>\n",
       "      <td>True</td>\n",
       "      <td>chow</td>\n",
       "      <td>0.146892</td>\n",
       "      <td>True</td>\n",
       "      <td>Pekinese</td>\n",
       "      <td>0.037613</td>\n",
       "      <td>True</td>\n",
       "    </tr>\n",
       "    <tr>\n",
       "      <th>1293</th>\n",
       "      <td>751598357617971201</td>\n",
       "      <td>https://pbs.twimg.com/media/Cm42t5vXEAAv4CS.jpg</td>\n",
       "      <td>1</td>\n",
       "      <td>toy_poodle</td>\n",
       "      <td>0.757756</td>\n",
       "      <td>True</td>\n",
       "      <td>miniature_poodle</td>\n",
       "      <td>0.035150</td>\n",
       "      <td>True</td>\n",
       "      <td>Scottish_deerhound</td>\n",
       "      <td>0.027698</td>\n",
       "      <td>True</td>\n",
       "    </tr>\n",
       "    <tr>\n",
       "      <th>160</th>\n",
       "      <td>668902994700836864</td>\n",
       "      <td>https://pbs.twimg.com/media/CUhruUgUAAAa8FQ.jpg</td>\n",
       "      <td>1</td>\n",
       "      <td>Brittany_spaniel</td>\n",
       "      <td>0.828425</td>\n",
       "      <td>True</td>\n",
       "      <td>Ibizan_hound</td>\n",
       "      <td>0.043082</td>\n",
       "      <td>True</td>\n",
       "      <td>Blenheim_spaniel</td>\n",
       "      <td>0.028004</td>\n",
       "      <td>True</td>\n",
       "    </tr>\n",
       "    <tr>\n",
       "      <th>1270</th>\n",
       "      <td>749981277374128128</td>\n",
       "      <td>https://pbs.twimg.com/media/CmgBZ7kWcAAlzFD.jpg</td>\n",
       "      <td>1</td>\n",
       "      <td>bow_tie</td>\n",
       "      <td>0.533941</td>\n",
       "      <td>False</td>\n",
       "      <td>sunglasses</td>\n",
       "      <td>0.080822</td>\n",
       "      <td>False</td>\n",
       "      <td>sunglass</td>\n",
       "      <td>0.050776</td>\n",
       "      <td>False</td>\n",
       "    </tr>\n",
       "  </tbody>\n",
       "</table>\n",
       "</div>"
      ],
      "text/plain": [
       "                tweet_id                                          jpg_url  \\\n",
       "1770  827600520311402496  https://pbs.twimg.com/media/C3w6RYbWQAAEQ25.jpg   \n",
       "979   707297311098011648  https://pbs.twimg.com/media/CdDTJLMW4AEST--.jpg   \n",
       "778   689877686181715968  https://pbs.twimg.com/media/CZLwGAIWQAIYsTx.jpg   \n",
       "1102  721001180231503872  https://pbs.twimg.com/media/CgGCvxAUkAAx55r.jpg   \n",
       "1281  750147208377409536  https://pbs.twimg.com/media/CmkO57iXgAEOxX9.jpg   \n",
       "1480  780858289093574656  https://pbs.twimg.com/media/CtYqeNHWgAATqYZ.jpg   \n",
       "646   681654059175129088  https://pbs.twimg.com/media/CXW4wGHWsAE_eBD.jpg   \n",
       "1293  751598357617971201  https://pbs.twimg.com/media/Cm42t5vXEAAv4CS.jpg   \n",
       "160   668902994700836864  https://pbs.twimg.com/media/CUhruUgUAAAa8FQ.jpg   \n",
       "1270  749981277374128128  https://pbs.twimg.com/media/CmgBZ7kWcAAlzFD.jpg   \n",
       "\n",
       "      img_num                        p1   p1_conf  p1_dog                p2  \\\n",
       "1770        1                  Pembroke  0.325638    True  golden_retriever   \n",
       "979         1          Blenheim_spaniel  0.370717    True          Shih-Tzu   \n",
       "778         1      Old_English_sheepdog  0.269155    True   Tibetan_terrier   \n",
       "1102        1                   Samoyed  0.950053    True         washbasin   \n",
       "1281        1                       pug  0.977765    True       Boston_bull   \n",
       "1480        1  Chesapeake_Bay_retriever  0.488555    True    Sussex_spaniel   \n",
       "646         1                Pomeranian  0.800538    True              chow   \n",
       "1293        1                toy_poodle  0.757756    True  miniature_poodle   \n",
       "160         1          Brittany_spaniel  0.828425    True      Ibizan_hound   \n",
       "1270        1                   bow_tie  0.533941   False        sunglasses   \n",
       "\n",
       "       p2_conf  p2_dog                   p3   p3_conf  p3_dog  \n",
       "1770  0.317235    True   Labrador_retriever  0.116087    True  \n",
       "979   0.201566    True  black-footed_ferret  0.101559   False  \n",
       "778   0.111496    True     Lakeland_terrier  0.104939    True  \n",
       "1102  0.006321   False                  tub  0.006243   False  \n",
       "1281  0.004794    True       French_bulldog  0.004573    True  \n",
       "1480  0.271655    True               kelpie  0.106913    True  \n",
       "646   0.146892    True             Pekinese  0.037613    True  \n",
       "1293  0.035150    True   Scottish_deerhound  0.027698    True  \n",
       "160   0.043082    True     Blenheim_spaniel  0.028004    True  \n",
       "1270  0.080822   False             sunglass  0.050776   False  "
      ]
     },
     "execution_count": 15,
     "metadata": {},
     "output_type": "execute_result"
    }
   ],
   "source": [
    "# spot check by sampling\n",
    "df_img_pred.sample(10)"
   ]
  },
  {
   "cell_type": "code",
   "execution_count": 16,
   "metadata": {},
   "outputs": [
    {
     "data": {
      "text/plain": [
       "0"
      ]
     },
     "execution_count": 16,
     "metadata": {},
     "output_type": "execute_result"
    }
   ],
   "source": [
    "# check on duplicates\n",
    "df_img_pred.duplicated().sum()"
   ]
  },
  {
   "cell_type": "code",
   "execution_count": 17,
   "metadata": {},
   "outputs": [
    {
     "name": "stdout",
     "output_type": "stream",
     "text": [
      "<class 'pandas.core.frame.DataFrame'>\n",
      "DatetimeIndex: 2346 entries, 1991-02-08 13:48:08.022790149 to 1998-04-12 22:37:23.555336193\n",
      "Data columns (total 31 columns):\n",
      "contributors                     0 non-null float64\n",
      "coordinates                      0 non-null float64\n",
      "created_at                       2346 non-null datetime64[ns]\n",
      "display_text_range               2346 non-null object\n",
      "entities                         2346 non-null object\n",
      "extended_entities                2069 non-null object\n",
      "favorite_count                   2346 non-null int64\n",
      "favorited                        2346 non-null int64\n",
      "full_text                        2346 non-null object\n",
      "geo                              0 non-null float64\n",
      "id                               2346 non-null int64\n",
      "id_str                           2346 non-null int64\n",
      "in_reply_to_screen_name          78 non-null object\n",
      "in_reply_to_status_id            78 non-null float64\n",
      "in_reply_to_status_id_str        78 non-null float64\n",
      "in_reply_to_user_id              78 non-null float64\n",
      "in_reply_to_user_id_str          78 non-null float64\n",
      "is_quote_status                  2346 non-null int64\n",
      "lang                             2346 non-null object\n",
      "place                            1 non-null object\n",
      "possibly_sensitive               2207 non-null float64\n",
      "possibly_sensitive_appealable    2207 non-null float64\n",
      "quoted_status                    28 non-null object\n",
      "quoted_status_id                 29 non-null float64\n",
      "quoted_status_id_str             29 non-null float64\n",
      "retweet_count                    2346 non-null int64\n",
      "retweeted                        2346 non-null int64\n",
      "retweeted_status                 172 non-null object\n",
      "source                           2346 non-null object\n",
      "truncated                        2346 non-null int64\n",
      "user                             2346 non-null object\n",
      "dtypes: datetime64[ns](1), float64(11), int64(8), object(11)\n",
      "memory usage: 586.5+ KB\n"
     ]
    }
   ],
   "source": [
    "# info check\n",
    "df_twt_json.info()"
   ]
  },
  {
   "cell_type": "code",
   "execution_count": 18,
   "metadata": {
    "scrolled": true
   },
   "outputs": [
    {
     "data": {
      "text/html": [
       "<div>\n",
       "<style scoped>\n",
       "    .dataframe tbody tr th:only-of-type {\n",
       "        vertical-align: middle;\n",
       "    }\n",
       "\n",
       "    .dataframe tbody tr th {\n",
       "        vertical-align: top;\n",
       "    }\n",
       "\n",
       "    .dataframe thead th {\n",
       "        text-align: right;\n",
       "    }\n",
       "</style>\n",
       "<table border=\"1\" class=\"dataframe\">\n",
       "  <thead>\n",
       "    <tr style=\"text-align: right;\">\n",
       "      <th></th>\n",
       "      <th>contributors</th>\n",
       "      <th>coordinates</th>\n",
       "      <th>created_at</th>\n",
       "      <th>display_text_range</th>\n",
       "      <th>entities</th>\n",
       "      <th>extended_entities</th>\n",
       "      <th>favorite_count</th>\n",
       "      <th>favorited</th>\n",
       "      <th>full_text</th>\n",
       "      <th>geo</th>\n",
       "      <th>...</th>\n",
       "      <th>possibly_sensitive_appealable</th>\n",
       "      <th>quoted_status</th>\n",
       "      <th>quoted_status_id</th>\n",
       "      <th>quoted_status_id_str</th>\n",
       "      <th>retweet_count</th>\n",
       "      <th>retweeted</th>\n",
       "      <th>retweeted_status</th>\n",
       "      <th>source</th>\n",
       "      <th>truncated</th>\n",
       "      <th>user</th>\n",
       "    </tr>\n",
       "  </thead>\n",
       "  <tbody>\n",
       "    <tr>\n",
       "      <th>1993-01-30 16:06:00.103686147</th>\n",
       "      <td>NaN</td>\n",
       "      <td>NaN</td>\n",
       "      <td>2016-05-06 02:24:02</td>\n",
       "      <td>[0, 115]</td>\n",
       "      <td>{'hashtags': [], 'media': [{'display_url': 'pi...</td>\n",
       "      <td>{'media': [{'display_url': 'pic.twitter.com/5i...</td>\n",
       "      <td>5301</td>\n",
       "      <td>0</td>\n",
       "      <td>This is Wallace. He's a skater pup. He said se...</td>\n",
       "      <td>NaN</td>\n",
       "      <td>...</td>\n",
       "      <td>0.0</td>\n",
       "      <td>NaN</td>\n",
       "      <td>NaN</td>\n",
       "      <td>NaN</td>\n",
       "      <td>2231</td>\n",
       "      <td>0</td>\n",
       "      <td>NaN</td>\n",
       "      <td>&lt;a href=\"http://twitter.com/download/iphone\" r...</td>\n",
       "      <td>0</td>\n",
       "      <td>{'contributors_enabled': False, 'created_at': ...</td>\n",
       "    </tr>\n",
       "    <tr>\n",
       "      <th>1997-04-04 18:13:13.139703809</th>\n",
       "      <td>NaN</td>\n",
       "      <td>NaN</td>\n",
       "      <td>2017-05-04 17:01:34</td>\n",
       "      <td>[0, 140]</td>\n",
       "      <td>{'hashtags': [], 'symbols': [], 'urls': [], 'u...</td>\n",
       "      <td>NaN</td>\n",
       "      <td>0</td>\n",
       "      <td>0</td>\n",
       "      <td>RT @dog_rates: Ohboyohboyohboyohboyohboyohboyo...</td>\n",
       "      <td>NaN</td>\n",
       "      <td>...</td>\n",
       "      <td>NaN</td>\n",
       "      <td>NaN</td>\n",
       "      <td>NaN</td>\n",
       "      <td>NaN</td>\n",
       "      <td>32825</td>\n",
       "      <td>0</td>\n",
       "      <td>{'contributors': None, 'coordinates': None, 'c...</td>\n",
       "      <td>&lt;a href=\"http://twitter.com/download/iphone\" r...</td>\n",
       "      <td>0</td>\n",
       "      <td>{'contributors_enabled': False, 'created_at': ...</td>\n",
       "    </tr>\n",
       "    <tr>\n",
       "      <th>1991-11-08 11:17:36.876867584</th>\n",
       "      <td>NaN</td>\n",
       "      <td>NaN</td>\n",
       "      <td>2016-01-20 00:03:21</td>\n",
       "      <td>[0, 102]</td>\n",
       "      <td>{'hashtags': [], 'media': [{'display_url': 'pi...</td>\n",
       "      <td>{'media': [{'display_url': 'pic.twitter.com/TR...</td>\n",
       "      <td>12610</td>\n",
       "      <td>0</td>\n",
       "      <td>Here we see 33 dogs posing for a picture. All ...</td>\n",
       "      <td>NaN</td>\n",
       "      <td>...</td>\n",
       "      <td>0.0</td>\n",
       "      <td>NaN</td>\n",
       "      <td>NaN</td>\n",
       "      <td>NaN</td>\n",
       "      <td>6151</td>\n",
       "      <td>0</td>\n",
       "      <td>NaN</td>\n",
       "      <td>&lt;a href=\"http://twitter.com/download/iphone\" r...</td>\n",
       "      <td>0</td>\n",
       "      <td>{'contributors_enabled': False, 'created_at': ...</td>\n",
       "    </tr>\n",
       "    <tr>\n",
       "      <th>1991-02-20 01:16:41.033924608</th>\n",
       "      <td>NaN</td>\n",
       "      <td>NaN</td>\n",
       "      <td>2015-11-18 16:12:51</td>\n",
       "      <td>[0, 76]</td>\n",
       "      <td>{'hashtags': [], 'media': [{'display_url': 'pi...</td>\n",
       "      <td>{'media': [{'display_url': 'pic.twitter.com/bA...</td>\n",
       "      <td>464</td>\n",
       "      <td>0</td>\n",
       "      <td>This is Klevin. He laughs a lot. Very cool dog...</td>\n",
       "      <td>NaN</td>\n",
       "      <td>...</td>\n",
       "      <td>0.0</td>\n",
       "      <td>NaN</td>\n",
       "      <td>NaN</td>\n",
       "      <td>NaN</td>\n",
       "      <td>236</td>\n",
       "      <td>0</td>\n",
       "      <td>NaN</td>\n",
       "      <td>&lt;a href=\"http://twitter.com/download/iphone\" r...</td>\n",
       "      <td>0</td>\n",
       "      <td>{'contributors_enabled': False, 'created_at': ...</td>\n",
       "    </tr>\n",
       "    <tr>\n",
       "      <th>1991-05-04 11:17:59.178194945</th>\n",
       "      <td>NaN</td>\n",
       "      <td>NaN</td>\n",
       "      <td>2015-12-06 04:18:46</td>\n",
       "      <td>[0, 134]</td>\n",
       "      <td>{'hashtags': [], 'media': [{'display_url': 'pi...</td>\n",
       "      <td>{'media': [{'display_url': 'pic.twitter.com/0z...</td>\n",
       "      <td>1573</td>\n",
       "      <td>0</td>\n",
       "      <td>This is Koda. She's a boss. Helps shift gears....</td>\n",
       "      <td>NaN</td>\n",
       "      <td>...</td>\n",
       "      <td>0.0</td>\n",
       "      <td>NaN</td>\n",
       "      <td>NaN</td>\n",
       "      <td>NaN</td>\n",
       "      <td>643</td>\n",
       "      <td>0</td>\n",
       "      <td>NaN</td>\n",
       "      <td>&lt;a href=\"http://twitter.com/download/iphone\" r...</td>\n",
       "      <td>0</td>\n",
       "      <td>{'contributors_enabled': False, 'created_at': ...</td>\n",
       "    </tr>\n",
       "    <tr>\n",
       "      <th>1993-04-11 20:20:31.394082816</th>\n",
       "      <td>NaN</td>\n",
       "      <td>NaN</td>\n",
       "      <td>2016-05-23 01:40:38</td>\n",
       "      <td>[0, 110]</td>\n",
       "      <td>{'hashtags': [], 'symbols': [], 'urls': [{'dis...</td>\n",
       "      <td>NaN</td>\n",
       "      <td>1621</td>\n",
       "      <td>0</td>\n",
       "      <td>When your friend is turnt af and you're just t...</td>\n",
       "      <td>NaN</td>\n",
       "      <td>...</td>\n",
       "      <td>0.0</td>\n",
       "      <td>NaN</td>\n",
       "      <td>NaN</td>\n",
       "      <td>NaN</td>\n",
       "      <td>443</td>\n",
       "      <td>0</td>\n",
       "      <td>NaN</td>\n",
       "      <td>&lt;a href=\"http://vine.co\" rel=\"nofollow\"&gt;Vine -...</td>\n",
       "      <td>0</td>\n",
       "      <td>{'contributors_enabled': False, 'created_at': ...</td>\n",
       "    </tr>\n",
       "    <tr>\n",
       "      <th>1992-07-25 11:50:07.010385924</th>\n",
       "      <td>NaN</td>\n",
       "      <td>NaN</td>\n",
       "      <td>2016-03-21 23:55:01</td>\n",
       "      <td>[0, 138]</td>\n",
       "      <td>{'hashtags': [], 'media': [{'display_url': 'pi...</td>\n",
       "      <td>{'media': [{'display_url': 'pic.twitter.com/o2...</td>\n",
       "      <td>2427</td>\n",
       "      <td>0</td>\n",
       "      <td>This is Chester. He's clearly in charge of the...</td>\n",
       "      <td>NaN</td>\n",
       "      <td>...</td>\n",
       "      <td>0.0</td>\n",
       "      <td>NaN</td>\n",
       "      <td>NaN</td>\n",
       "      <td>NaN</td>\n",
       "      <td>695</td>\n",
       "      <td>0</td>\n",
       "      <td>NaN</td>\n",
       "      <td>&lt;a href=\"http://twitter.com/download/iphone\" r...</td>\n",
       "      <td>0</td>\n",
       "      <td>{'contributors_enabled': False, 'created_at': ...</td>\n",
       "    </tr>\n",
       "    <tr>\n",
       "      <th>1996-12-11 19:46:07.704068097</th>\n",
       "      <td>NaN</td>\n",
       "      <td>NaN</td>\n",
       "      <td>2017-04-07 13:04:55</td>\n",
       "      <td>[12, 136]</td>\n",
       "      <td>{'hashtags': [], 'symbols': [], 'urls': [], 'u...</td>\n",
       "      <td>NaN</td>\n",
       "      <td>3607</td>\n",
       "      <td>0</td>\n",
       "      <td>@markhoppus MARK THAT DOG HAS SEEN AND EXPERIE...</td>\n",
       "      <td>NaN</td>\n",
       "      <td>...</td>\n",
       "      <td>NaN</td>\n",
       "      <td>NaN</td>\n",
       "      <td>NaN</td>\n",
       "      <td>NaN</td>\n",
       "      <td>363</td>\n",
       "      <td>0</td>\n",
       "      <td>NaN</td>\n",
       "      <td>&lt;a href=\"http://twitter.com/download/iphone\" r...</td>\n",
       "      <td>0</td>\n",
       "      <td>{'contributors_enabled': False, 'created_at': ...</td>\n",
       "    </tr>\n",
       "    <tr>\n",
       "      <th>1997-08-29 02:11:23.541237760</th>\n",
       "      <td>NaN</td>\n",
       "      <td>NaN</td>\n",
       "      <td>2017-06-08 14:20:41</td>\n",
       "      <td>[0, 140]</td>\n",
       "      <td>{'hashtags': [{'indices': [21, 43], 'text': 'd...</td>\n",
       "      <td>{'media': [{'display_url': 'pic.twitter.com/17...</td>\n",
       "      <td>14893</td>\n",
       "      <td>0</td>\n",
       "      <td>Here are my favorite #dogsatpollingstations \\n...</td>\n",
       "      <td>NaN</td>\n",
       "      <td>...</td>\n",
       "      <td>0.0</td>\n",
       "      <td>NaN</td>\n",
       "      <td>NaN</td>\n",
       "      <td>NaN</td>\n",
       "      <td>3815</td>\n",
       "      <td>0</td>\n",
       "      <td>NaN</td>\n",
       "      <td>&lt;a href=\"http://twitter.com/download/iphone\" r...</td>\n",
       "      <td>0</td>\n",
       "      <td>{'contributors_enabled': False, 'created_at': ...</td>\n",
       "    </tr>\n",
       "    <tr>\n",
       "      <th>1993-11-14 16:28:07.569522689</th>\n",
       "      <td>NaN</td>\n",
       "      <td>NaN</td>\n",
       "      <td>2016-07-13 18:26:16</td>\n",
       "      <td>[0, 75]</td>\n",
       "      <td>{'hashtags': [], 'media': [{'display_url': 'pi...</td>\n",
       "      <td>{'media': [{'display_url': 'pic.twitter.com/sT...</td>\n",
       "      <td>3711</td>\n",
       "      <td>0</td>\n",
       "      <td>This is Ace. He's a window washer. One of the ...</td>\n",
       "      <td>NaN</td>\n",
       "      <td>...</td>\n",
       "      <td>0.0</td>\n",
       "      <td>NaN</td>\n",
       "      <td>NaN</td>\n",
       "      <td>NaN</td>\n",
       "      <td>1169</td>\n",
       "      <td>0</td>\n",
       "      <td>NaN</td>\n",
       "      <td>&lt;a href=\"http://twitter.com/download/iphone\" r...</td>\n",
       "      <td>0</td>\n",
       "      <td>{'contributors_enabled': False, 'created_at': ...</td>\n",
       "    </tr>\n",
       "  </tbody>\n",
       "</table>\n",
       "<p>10 rows × 31 columns</p>\n",
       "</div>"
      ],
      "text/plain": [
       "                               contributors  coordinates          created_at  \\\n",
       "1993-01-30 16:06:00.103686147           NaN          NaN 2016-05-06 02:24:02   \n",
       "1997-04-04 18:13:13.139703809           NaN          NaN 2017-05-04 17:01:34   \n",
       "1991-11-08 11:17:36.876867584           NaN          NaN 2016-01-20 00:03:21   \n",
       "1991-02-20 01:16:41.033924608           NaN          NaN 2015-11-18 16:12:51   \n",
       "1991-05-04 11:17:59.178194945           NaN          NaN 2015-12-06 04:18:46   \n",
       "1993-04-11 20:20:31.394082816           NaN          NaN 2016-05-23 01:40:38   \n",
       "1992-07-25 11:50:07.010385924           NaN          NaN 2016-03-21 23:55:01   \n",
       "1996-12-11 19:46:07.704068097           NaN          NaN 2017-04-07 13:04:55   \n",
       "1997-08-29 02:11:23.541237760           NaN          NaN 2017-06-08 14:20:41   \n",
       "1993-11-14 16:28:07.569522689           NaN          NaN 2016-07-13 18:26:16   \n",
       "\n",
       "                              display_text_range  \\\n",
       "1993-01-30 16:06:00.103686147           [0, 115]   \n",
       "1997-04-04 18:13:13.139703809           [0, 140]   \n",
       "1991-11-08 11:17:36.876867584           [0, 102]   \n",
       "1991-02-20 01:16:41.033924608            [0, 76]   \n",
       "1991-05-04 11:17:59.178194945           [0, 134]   \n",
       "1993-04-11 20:20:31.394082816           [0, 110]   \n",
       "1992-07-25 11:50:07.010385924           [0, 138]   \n",
       "1996-12-11 19:46:07.704068097          [12, 136]   \n",
       "1997-08-29 02:11:23.541237760           [0, 140]   \n",
       "1993-11-14 16:28:07.569522689            [0, 75]   \n",
       "\n",
       "                                                                        entities  \\\n",
       "1993-01-30 16:06:00.103686147  {'hashtags': [], 'media': [{'display_url': 'pi...   \n",
       "1997-04-04 18:13:13.139703809  {'hashtags': [], 'symbols': [], 'urls': [], 'u...   \n",
       "1991-11-08 11:17:36.876867584  {'hashtags': [], 'media': [{'display_url': 'pi...   \n",
       "1991-02-20 01:16:41.033924608  {'hashtags': [], 'media': [{'display_url': 'pi...   \n",
       "1991-05-04 11:17:59.178194945  {'hashtags': [], 'media': [{'display_url': 'pi...   \n",
       "1993-04-11 20:20:31.394082816  {'hashtags': [], 'symbols': [], 'urls': [{'dis...   \n",
       "1992-07-25 11:50:07.010385924  {'hashtags': [], 'media': [{'display_url': 'pi...   \n",
       "1996-12-11 19:46:07.704068097  {'hashtags': [], 'symbols': [], 'urls': [], 'u...   \n",
       "1997-08-29 02:11:23.541237760  {'hashtags': [{'indices': [21, 43], 'text': 'd...   \n",
       "1993-11-14 16:28:07.569522689  {'hashtags': [], 'media': [{'display_url': 'pi...   \n",
       "\n",
       "                                                               extended_entities  \\\n",
       "1993-01-30 16:06:00.103686147  {'media': [{'display_url': 'pic.twitter.com/5i...   \n",
       "1997-04-04 18:13:13.139703809                                                NaN   \n",
       "1991-11-08 11:17:36.876867584  {'media': [{'display_url': 'pic.twitter.com/TR...   \n",
       "1991-02-20 01:16:41.033924608  {'media': [{'display_url': 'pic.twitter.com/bA...   \n",
       "1991-05-04 11:17:59.178194945  {'media': [{'display_url': 'pic.twitter.com/0z...   \n",
       "1993-04-11 20:20:31.394082816                                                NaN   \n",
       "1992-07-25 11:50:07.010385924  {'media': [{'display_url': 'pic.twitter.com/o2...   \n",
       "1996-12-11 19:46:07.704068097                                                NaN   \n",
       "1997-08-29 02:11:23.541237760  {'media': [{'display_url': 'pic.twitter.com/17...   \n",
       "1993-11-14 16:28:07.569522689  {'media': [{'display_url': 'pic.twitter.com/sT...   \n",
       "\n",
       "                               favorite_count  favorited  \\\n",
       "1993-01-30 16:06:00.103686147            5301          0   \n",
       "1997-04-04 18:13:13.139703809               0          0   \n",
       "1991-11-08 11:17:36.876867584           12610          0   \n",
       "1991-02-20 01:16:41.033924608             464          0   \n",
       "1991-05-04 11:17:59.178194945            1573          0   \n",
       "1993-04-11 20:20:31.394082816            1621          0   \n",
       "1992-07-25 11:50:07.010385924            2427          0   \n",
       "1996-12-11 19:46:07.704068097            3607          0   \n",
       "1997-08-29 02:11:23.541237760           14893          0   \n",
       "1993-11-14 16:28:07.569522689            3711          0   \n",
       "\n",
       "                                                                       full_text  \\\n",
       "1993-01-30 16:06:00.103686147  This is Wallace. He's a skater pup. He said se...   \n",
       "1997-04-04 18:13:13.139703809  RT @dog_rates: Ohboyohboyohboyohboyohboyohboyo...   \n",
       "1991-11-08 11:17:36.876867584  Here we see 33 dogs posing for a picture. All ...   \n",
       "1991-02-20 01:16:41.033924608  This is Klevin. He laughs a lot. Very cool dog...   \n",
       "1991-05-04 11:17:59.178194945  This is Koda. She's a boss. Helps shift gears....   \n",
       "1993-04-11 20:20:31.394082816  When your friend is turnt af and you're just t...   \n",
       "1992-07-25 11:50:07.010385924  This is Chester. He's clearly in charge of the...   \n",
       "1996-12-11 19:46:07.704068097  @markhoppus MARK THAT DOG HAS SEEN AND EXPERIE...   \n",
       "1997-08-29 02:11:23.541237760  Here are my favorite #dogsatpollingstations \\n...   \n",
       "1993-11-14 16:28:07.569522689  This is Ace. He's a window washer. One of the ...   \n",
       "\n",
       "                               geo  \\\n",
       "1993-01-30 16:06:00.103686147  NaN   \n",
       "1997-04-04 18:13:13.139703809  NaN   \n",
       "1991-11-08 11:17:36.876867584  NaN   \n",
       "1991-02-20 01:16:41.033924608  NaN   \n",
       "1991-05-04 11:17:59.178194945  NaN   \n",
       "1993-04-11 20:20:31.394082816  NaN   \n",
       "1992-07-25 11:50:07.010385924  NaN   \n",
       "1996-12-11 19:46:07.704068097  NaN   \n",
       "1997-08-29 02:11:23.541237760  NaN   \n",
       "1993-11-14 16:28:07.569522689  NaN   \n",
       "\n",
       "                                                     ...                          \\\n",
       "1993-01-30 16:06:00.103686147                        ...                           \n",
       "1997-04-04 18:13:13.139703809                        ...                           \n",
       "1991-11-08 11:17:36.876867584                        ...                           \n",
       "1991-02-20 01:16:41.033924608                        ...                           \n",
       "1991-05-04 11:17:59.178194945                        ...                           \n",
       "1993-04-11 20:20:31.394082816                        ...                           \n",
       "1992-07-25 11:50:07.010385924                        ...                           \n",
       "1996-12-11 19:46:07.704068097                        ...                           \n",
       "1997-08-29 02:11:23.541237760                        ...                           \n",
       "1993-11-14 16:28:07.569522689                        ...                           \n",
       "\n",
       "                               possibly_sensitive_appealable  quoted_status  \\\n",
       "1993-01-30 16:06:00.103686147                            0.0            NaN   \n",
       "1997-04-04 18:13:13.139703809                            NaN            NaN   \n",
       "1991-11-08 11:17:36.876867584                            0.0            NaN   \n",
       "1991-02-20 01:16:41.033924608                            0.0            NaN   \n",
       "1991-05-04 11:17:59.178194945                            0.0            NaN   \n",
       "1993-04-11 20:20:31.394082816                            0.0            NaN   \n",
       "1992-07-25 11:50:07.010385924                            0.0            NaN   \n",
       "1996-12-11 19:46:07.704068097                            NaN            NaN   \n",
       "1997-08-29 02:11:23.541237760                            0.0            NaN   \n",
       "1993-11-14 16:28:07.569522689                            0.0            NaN   \n",
       "\n",
       "                              quoted_status_id  quoted_status_id_str  \\\n",
       "1993-01-30 16:06:00.103686147              NaN                   NaN   \n",
       "1997-04-04 18:13:13.139703809              NaN                   NaN   \n",
       "1991-11-08 11:17:36.876867584              NaN                   NaN   \n",
       "1991-02-20 01:16:41.033924608              NaN                   NaN   \n",
       "1991-05-04 11:17:59.178194945              NaN                   NaN   \n",
       "1993-04-11 20:20:31.394082816              NaN                   NaN   \n",
       "1992-07-25 11:50:07.010385924              NaN                   NaN   \n",
       "1996-12-11 19:46:07.704068097              NaN                   NaN   \n",
       "1997-08-29 02:11:23.541237760              NaN                   NaN   \n",
       "1993-11-14 16:28:07.569522689              NaN                   NaN   \n",
       "\n",
       "                               retweet_count  retweeted  \\\n",
       "1993-01-30 16:06:00.103686147           2231          0   \n",
       "1997-04-04 18:13:13.139703809          32825          0   \n",
       "1991-11-08 11:17:36.876867584           6151          0   \n",
       "1991-02-20 01:16:41.033924608            236          0   \n",
       "1991-05-04 11:17:59.178194945            643          0   \n",
       "1993-04-11 20:20:31.394082816            443          0   \n",
       "1992-07-25 11:50:07.010385924            695          0   \n",
       "1996-12-11 19:46:07.704068097            363          0   \n",
       "1997-08-29 02:11:23.541237760           3815          0   \n",
       "1993-11-14 16:28:07.569522689           1169          0   \n",
       "\n",
       "                                                                retweeted_status  \\\n",
       "1993-01-30 16:06:00.103686147                                                NaN   \n",
       "1997-04-04 18:13:13.139703809  {'contributors': None, 'coordinates': None, 'c...   \n",
       "1991-11-08 11:17:36.876867584                                                NaN   \n",
       "1991-02-20 01:16:41.033924608                                                NaN   \n",
       "1991-05-04 11:17:59.178194945                                                NaN   \n",
       "1993-04-11 20:20:31.394082816                                                NaN   \n",
       "1992-07-25 11:50:07.010385924                                                NaN   \n",
       "1996-12-11 19:46:07.704068097                                                NaN   \n",
       "1997-08-29 02:11:23.541237760                                                NaN   \n",
       "1993-11-14 16:28:07.569522689                                                NaN   \n",
       "\n",
       "                                                                          source  \\\n",
       "1993-01-30 16:06:00.103686147  <a href=\"http://twitter.com/download/iphone\" r...   \n",
       "1997-04-04 18:13:13.139703809  <a href=\"http://twitter.com/download/iphone\" r...   \n",
       "1991-11-08 11:17:36.876867584  <a href=\"http://twitter.com/download/iphone\" r...   \n",
       "1991-02-20 01:16:41.033924608  <a href=\"http://twitter.com/download/iphone\" r...   \n",
       "1991-05-04 11:17:59.178194945  <a href=\"http://twitter.com/download/iphone\" r...   \n",
       "1993-04-11 20:20:31.394082816  <a href=\"http://vine.co\" rel=\"nofollow\">Vine -...   \n",
       "1992-07-25 11:50:07.010385924  <a href=\"http://twitter.com/download/iphone\" r...   \n",
       "1996-12-11 19:46:07.704068097  <a href=\"http://twitter.com/download/iphone\" r...   \n",
       "1997-08-29 02:11:23.541237760  <a href=\"http://twitter.com/download/iphone\" r...   \n",
       "1993-11-14 16:28:07.569522689  <a href=\"http://twitter.com/download/iphone\" r...   \n",
       "\n",
       "                              truncated  \\\n",
       "1993-01-30 16:06:00.103686147         0   \n",
       "1997-04-04 18:13:13.139703809         0   \n",
       "1991-11-08 11:17:36.876867584         0   \n",
       "1991-02-20 01:16:41.033924608         0   \n",
       "1991-05-04 11:17:59.178194945         0   \n",
       "1993-04-11 20:20:31.394082816         0   \n",
       "1992-07-25 11:50:07.010385924         0   \n",
       "1996-12-11 19:46:07.704068097         0   \n",
       "1997-08-29 02:11:23.541237760         0   \n",
       "1993-11-14 16:28:07.569522689         0   \n",
       "\n",
       "                                                                            user  \n",
       "1993-01-30 16:06:00.103686147  {'contributors_enabled': False, 'created_at': ...  \n",
       "1997-04-04 18:13:13.139703809  {'contributors_enabled': False, 'created_at': ...  \n",
       "1991-11-08 11:17:36.876867584  {'contributors_enabled': False, 'created_at': ...  \n",
       "1991-02-20 01:16:41.033924608  {'contributors_enabled': False, 'created_at': ...  \n",
       "1991-05-04 11:17:59.178194945  {'contributors_enabled': False, 'created_at': ...  \n",
       "1993-04-11 20:20:31.394082816  {'contributors_enabled': False, 'created_at': ...  \n",
       "1992-07-25 11:50:07.010385924  {'contributors_enabled': False, 'created_at': ...  \n",
       "1996-12-11 19:46:07.704068097  {'contributors_enabled': False, 'created_at': ...  \n",
       "1997-08-29 02:11:23.541237760  {'contributors_enabled': False, 'created_at': ...  \n",
       "1993-11-14 16:28:07.569522689  {'contributors_enabled': False, 'created_at': ...  \n",
       "\n",
       "[10 rows x 31 columns]"
      ]
     },
     "execution_count": 18,
     "metadata": {},
     "output_type": "execute_result"
    }
   ],
   "source": [
    "# spot check by sampling\n",
    "df_twt_json.sample(10)"
   ]
  },
  {
   "cell_type": "markdown",
   "metadata": {},
   "source": [
    "## Issues Summary\n",
    "\n",
    "### Quality Issues:\n",
    "Twitter Archive Enhanced data - `df_twt_arch`\n",
    "1. 181 observations of retweets are found\n",
    "2. 59 observations of missing expanded url (NaN)\n",
    "3. Inapproproiate datatypes for timestamp and dog stages\n",
    "4. Erroneous dog names (a, an, the etc.)\n",
    "5. Inappropriate string representation of missing dog names ('None')\n",
    "6. Redundant column (Denominator), given the fact that the rating is on a out-of-10 scale\n",
    "\n",
    "Image Predictions data - `df_img_pred`\n",
    "1. Inappropriate datatype for dog breed (all p columns)\n",
    "2. Letters inconsistency in which words sometimes start with lower case letter/ upper case\n",
    "\n",
    "Tweet JSON data - `df_twt_json`\n",
    "1. 172 observations of retweets are found\n",
    "2. Unclear/ confusing column naming (eg. id)\n",
    "3. Redundant columns are included (May depend on what sort of analyses need to be performed)\n",
    "\n",
    "### Tidiness Issues:\n",
    "Twitter Archive Enhanced data - `df_twt_arch`\n",
    "1. Dog stages as a single variable (Categorical) are represented by four separate columns\n",
    "\n",
    "Image Predictions data - `df_img_pred`\n",
    "1. Image URLs, predictions, and results should be part of the archive data\n",
    "\n",
    "Tweet JSON data - `df_twt_json`\n",
    "1. Retweet and favorite count should be part of the archive data\n",
    "2. Text column duplicated in the archive data"
   ]
  },
  {
   "cell_type": "markdown",
   "metadata": {},
   "source": [
    "Now we have the issues pinpointed, and we are ready to clean the data."
   ]
  },
  {
   "cell_type": "markdown",
   "metadata": {},
   "source": [
    "## Data Cleaning\n",
    "This section includes the steps that I am going to take to clean the data based on the issues summary. The goal is to have the data trimmed and tailored for further analysis.\n",
    "\n",
    "At the end of this section, there will be a well consolidated dataframe."
   ]
  },
  {
   "cell_type": "markdown",
   "metadata": {},
   "source": [
    "Let's start by making a copy of the dataframes; so we could always check back/ retrace afterwards."
   ]
  },
  {
   "cell_type": "code",
   "execution_count": 19,
   "metadata": {},
   "outputs": [],
   "source": [
    "### Create copies for dataframes\n",
    "\n",
    "df_ta_clean = df_twt_arch.copy()\n",
    "\n",
    "df_ip_clean = df_img_pred.copy()\n",
    "\n",
    "df_tj_clean = df_twt_json.copy()"
   ]
  },
  {
   "cell_type": "markdown",
   "metadata": {},
   "source": [
    "### Quality Issues "
   ]
  },
  {
   "cell_type": "markdown",
   "metadata": {},
   "source": [
    "##### 1. Observations of retweets in `df_ta_clean` and `df_tj_clean`."
   ]
  },
  {
   "cell_type": "markdown",
   "metadata": {},
   "source": [
    "#### Define\n",
    "Exclude all observations of retweets"
   ]
  },
  {
   "cell_type": "markdown",
   "metadata": {},
   "source": [
    "#### Code"
   ]
  },
  {
   "cell_type": "code",
   "execution_count": 20,
   "metadata": {},
   "outputs": [],
   "source": [
    "### Exclude non-original ratings in the archieve data and the json data\n",
    "\n",
    "df_ta_clean = df_ta_clean[df_ta_clean.retweeted_status_id.isnull()]\n",
    "\n",
    "df_tj_clean = df_tj_clean[df_tj_clean.retweeted_status.isnull()]"
   ]
  },
  {
   "cell_type": "markdown",
   "metadata": {},
   "source": [
    "#### Test"
   ]
  },
  {
   "cell_type": "code",
   "execution_count": 21,
   "metadata": {},
   "outputs": [
    {
     "name": "stdout",
     "output_type": "stream",
     "text": [
      "<class 'pandas.core.frame.DataFrame'>\n",
      "Int64Index: 2175 entries, 0 to 2355\n",
      "Data columns (total 17 columns):\n",
      "tweet_id                      2175 non-null int64\n",
      "in_reply_to_status_id         78 non-null float64\n",
      "in_reply_to_user_id           78 non-null float64\n",
      "timestamp                     2175 non-null object\n",
      "source                        2175 non-null object\n",
      "text                          2175 non-null object\n",
      "retweeted_status_id           0 non-null float64\n",
      "retweeted_status_user_id      0 non-null float64\n",
      "retweeted_status_timestamp    0 non-null object\n",
      "expanded_urls                 2117 non-null object\n",
      "rating_numerator              2175 non-null int64\n",
      "rating_denominator            2175 non-null int64\n",
      "name                          2175 non-null object\n",
      "doggo                         2175 non-null object\n",
      "floofer                       2175 non-null object\n",
      "pupper                        2175 non-null object\n",
      "puppo                         2175 non-null object\n",
      "dtypes: float64(4), int64(3), object(10)\n",
      "memory usage: 305.9+ KB\n"
     ]
    }
   ],
   "source": [
    "df_ta_clean.info()"
   ]
  },
  {
   "cell_type": "code",
   "execution_count": 22,
   "metadata": {},
   "outputs": [
    {
     "name": "stdout",
     "output_type": "stream",
     "text": [
      "<class 'pandas.core.frame.DataFrame'>\n",
      "DatetimeIndex: 2174 entries, 1991-02-08 13:48:08.022790149 to 1998-04-12 22:37:23.555336193\n",
      "Data columns (total 31 columns):\n",
      "contributors                     0 non-null float64\n",
      "coordinates                      0 non-null float64\n",
      "created_at                       2174 non-null datetime64[ns]\n",
      "display_text_range               2174 non-null object\n",
      "entities                         2174 non-null object\n",
      "extended_entities                1993 non-null object\n",
      "favorite_count                   2174 non-null int64\n",
      "favorited                        2174 non-null int64\n",
      "full_text                        2174 non-null object\n",
      "geo                              0 non-null float64\n",
      "id                               2174 non-null int64\n",
      "id_str                           2174 non-null int64\n",
      "in_reply_to_screen_name          78 non-null object\n",
      "in_reply_to_status_id            78 non-null float64\n",
      "in_reply_to_status_id_str        78 non-null float64\n",
      "in_reply_to_user_id              78 non-null float64\n",
      "in_reply_to_user_id_str          78 non-null float64\n",
      "is_quote_status                  2174 non-null int64\n",
      "lang                             2174 non-null object\n",
      "place                            1 non-null object\n",
      "possibly_sensitive               2116 non-null float64\n",
      "possibly_sensitive_appealable    2116 non-null float64\n",
      "quoted_status                    28 non-null object\n",
      "quoted_status_id                 28 non-null float64\n",
      "quoted_status_id_str             28 non-null float64\n",
      "retweet_count                    2174 non-null int64\n",
      "retweeted                        2174 non-null int64\n",
      "retweeted_status                 0 non-null object\n",
      "source                           2174 non-null object\n",
      "truncated                        2174 non-null int64\n",
      "user                             2174 non-null object\n",
      "dtypes: datetime64[ns](1), float64(11), int64(8), object(11)\n",
      "memory usage: 543.5+ KB\n"
     ]
    }
   ],
   "source": [
    "df_tj_clean.info()"
   ]
  },
  {
   "cell_type": "markdown",
   "metadata": {},
   "source": [
    "##### 2. Missing expanded urls in `df_ta_clean`"
   ]
  },
  {
   "cell_type": "markdown",
   "metadata": {},
   "source": [
    "#### Define\n",
    "Exclude the observations with missing urls"
   ]
  },
  {
   "cell_type": "markdown",
   "metadata": {},
   "source": [
    "#### Code"
   ]
  },
  {
   "cell_type": "code",
   "execution_count": 23,
   "metadata": {},
   "outputs": [],
   "source": [
    "df_ta_clean = df_ta_clean[df_ta_clean.expanded_urls.notnull()]"
   ]
  },
  {
   "cell_type": "markdown",
   "metadata": {},
   "source": [
    "#### Test"
   ]
  },
  {
   "cell_type": "code",
   "execution_count": 24,
   "metadata": {},
   "outputs": [
    {
     "name": "stdout",
     "output_type": "stream",
     "text": [
      "<class 'pandas.core.frame.DataFrame'>\n",
      "Int64Index: 2117 entries, 0 to 2355\n",
      "Data columns (total 17 columns):\n",
      "tweet_id                      2117 non-null int64\n",
      "in_reply_to_status_id         23 non-null float64\n",
      "in_reply_to_user_id           23 non-null float64\n",
      "timestamp                     2117 non-null object\n",
      "source                        2117 non-null object\n",
      "text                          2117 non-null object\n",
      "retweeted_status_id           0 non-null float64\n",
      "retweeted_status_user_id      0 non-null float64\n",
      "retweeted_status_timestamp    0 non-null object\n",
      "expanded_urls                 2117 non-null object\n",
      "rating_numerator              2117 non-null int64\n",
      "rating_denominator            2117 non-null int64\n",
      "name                          2117 non-null object\n",
      "doggo                         2117 non-null object\n",
      "floofer                       2117 non-null object\n",
      "pupper                        2117 non-null object\n",
      "puppo                         2117 non-null object\n",
      "dtypes: float64(4), int64(3), object(10)\n",
      "memory usage: 297.7+ KB\n"
     ]
    }
   ],
   "source": [
    "df_ta_clean.info()"
   ]
  },
  {
   "cell_type": "markdown",
   "metadata": {},
   "source": [
    "##### 3. Inappropriate data types in `df_ta_clean`"
   ]
  },
  {
   "cell_type": "markdown",
   "metadata": {},
   "source": [
    "#### Define\n",
    "1. Change timestamp to datetime data type in `df_ta_clean`\n",
    "2. Change dog stages to categorical data type in `df_ta_clean`"
   ]
  },
  {
   "cell_type": "markdown",
   "metadata": {},
   "source": [
    "#### Code"
   ]
  },
  {
   "cell_type": "code",
   "execution_count": 25,
   "metadata": {},
   "outputs": [],
   "source": [
    "df_ta_clean.timestamp = pd.to_datetime(df_ta_clean.timestamp)"
   ]
  },
  {
   "cell_type": "code",
   "execution_count": 26,
   "metadata": {},
   "outputs": [],
   "source": [
    "for col in list(df_ta_clean.columns[-4:]):\n",
    "    df_ta_clean[col] = df_ta_clean[col].astype('category')"
   ]
  },
  {
   "cell_type": "markdown",
   "metadata": {},
   "source": [
    "#### Test"
   ]
  },
  {
   "cell_type": "code",
   "execution_count": 27,
   "metadata": {},
   "outputs": [
    {
     "name": "stdout",
     "output_type": "stream",
     "text": [
      "<class 'pandas.core.frame.DataFrame'>\n",
      "Int64Index: 2117 entries, 0 to 2355\n",
      "Data columns (total 17 columns):\n",
      "tweet_id                      2117 non-null int64\n",
      "in_reply_to_status_id         23 non-null float64\n",
      "in_reply_to_user_id           23 non-null float64\n",
      "timestamp                     2117 non-null datetime64[ns]\n",
      "source                        2117 non-null object\n",
      "text                          2117 non-null object\n",
      "retweeted_status_id           0 non-null float64\n",
      "retweeted_status_user_id      0 non-null float64\n",
      "retweeted_status_timestamp    0 non-null object\n",
      "expanded_urls                 2117 non-null object\n",
      "rating_numerator              2117 non-null int64\n",
      "rating_denominator            2117 non-null int64\n",
      "name                          2117 non-null object\n",
      "doggo                         2117 non-null category\n",
      "floofer                       2117 non-null category\n",
      "pupper                        2117 non-null category\n",
      "puppo                         2117 non-null category\n",
      "dtypes: category(4), datetime64[ns](1), float64(4), int64(3), object(5)\n",
      "memory usage: 240.2+ KB\n"
     ]
    }
   ],
   "source": [
    "df_ta_clean.info()"
   ]
  },
  {
   "cell_type": "markdown",
   "metadata": {},
   "source": [
    "##### 4. Erroneous dog names and inappropriate representations in `df_ta_clean`"
   ]
  },
  {
   "cell_type": "markdown",
   "metadata": {},
   "source": [
    "#### Define\n",
    "Replace 'None' and names that do not make sense (a, an, the etc.) with NaN values"
   ]
  },
  {
   "cell_type": "markdown",
   "metadata": {},
   "source": [
    "#### Code"
   ]
  },
  {
   "cell_type": "code",
   "execution_count": 28,
   "metadata": {
    "scrolled": false
   },
   "outputs": [],
   "source": [
    "no_name = ['None', 'a', 'an', 'the', 'quite']\n",
    "\n",
    "df_ta_clean.name = df_ta_clean.name.replace(no_name, np.nan)"
   ]
  },
  {
   "cell_type": "markdown",
   "metadata": {},
   "source": [
    "#### Test"
   ]
  },
  {
   "cell_type": "code",
   "execution_count": 29,
   "metadata": {},
   "outputs": [
    {
     "name": "stdout",
     "output_type": "stream",
     "text": [
      "<class 'pandas.core.frame.DataFrame'>\n",
      "Int64Index: 2117 entries, 0 to 2355\n",
      "Data columns (total 17 columns):\n",
      "tweet_id                      2117 non-null int64\n",
      "in_reply_to_status_id         23 non-null float64\n",
      "in_reply_to_user_id           23 non-null float64\n",
      "timestamp                     2117 non-null datetime64[ns]\n",
      "source                        2117 non-null object\n",
      "text                          2117 non-null object\n",
      "retweeted_status_id           0 non-null float64\n",
      "retweeted_status_user_id      0 non-null float64\n",
      "retweeted_status_timestamp    0 non-null object\n",
      "expanded_urls                 2117 non-null object\n",
      "rating_numerator              2117 non-null int64\n",
      "rating_denominator            2117 non-null int64\n",
      "name                          1423 non-null object\n",
      "doggo                         2117 non-null category\n",
      "floofer                       2117 non-null category\n",
      "pupper                        2117 non-null category\n",
      "puppo                         2117 non-null category\n",
      "dtypes: category(4), datetime64[ns](1), float64(4), int64(3), object(5)\n",
      "memory usage: 240.2+ KB\n"
     ]
    }
   ],
   "source": [
    "df_ta_clean.info()"
   ]
  },
  {
   "cell_type": "markdown",
   "metadata": {},
   "source": [
    "##### 5. Letters inconsistency and inappropriate data type for dog breed in `df_ip_clean`"
   ]
  },
  {
   "cell_type": "markdown",
   "metadata": {},
   "source": [
    "#### Define\n",
    "1. Turn all predictions to lower case for consistency\n",
    "2. Change p1, p2, and p3 to categorical data"
   ]
  },
  {
   "cell_type": "markdown",
   "metadata": {},
   "source": [
    "#### Code"
   ]
  },
  {
   "cell_type": "code",
   "execution_count": 30,
   "metadata": {},
   "outputs": [],
   "source": [
    "for col in list(('p1', 'p2', 'p3')):\n",
    "    df_ip_clean[col] = df_ip_clean[col].str.lower()\n",
    "    df_ip_clean[col] = df_ip_clean[col].astype('category')"
   ]
  },
  {
   "cell_type": "markdown",
   "metadata": {},
   "source": [
    "#### Test"
   ]
  },
  {
   "cell_type": "code",
   "execution_count": 31,
   "metadata": {},
   "outputs": [
    {
     "name": "stdout",
     "output_type": "stream",
     "text": [
      "<class 'pandas.core.frame.DataFrame'>\n",
      "RangeIndex: 2075 entries, 0 to 2074\n",
      "Data columns (total 12 columns):\n",
      "tweet_id    2075 non-null int64\n",
      "jpg_url     2075 non-null object\n",
      "img_num     2075 non-null int64\n",
      "p1          2075 non-null category\n",
      "p1_conf     2075 non-null float64\n",
      "p1_dog      2075 non-null bool\n",
      "p2          2075 non-null category\n",
      "p2_conf     2075 non-null float64\n",
      "p2_dog      2075 non-null bool\n",
      "p3          2075 non-null category\n",
      "p3_conf     2075 non-null float64\n",
      "p3_dog      2075 non-null bool\n",
      "dtypes: bool(3), category(3), float64(3), int64(2), object(1)\n",
      "memory usage: 174.9+ KB\n"
     ]
    }
   ],
   "source": [
    "df_ip_clean.info()"
   ]
  },
  {
   "cell_type": "code",
   "execution_count": 32,
   "metadata": {},
   "outputs": [
    {
     "data": {
      "text/html": [
       "<div>\n",
       "<style scoped>\n",
       "    .dataframe tbody tr th:only-of-type {\n",
       "        vertical-align: middle;\n",
       "    }\n",
       "\n",
       "    .dataframe tbody tr th {\n",
       "        vertical-align: top;\n",
       "    }\n",
       "\n",
       "    .dataframe thead th {\n",
       "        text-align: right;\n",
       "    }\n",
       "</style>\n",
       "<table border=\"1\" class=\"dataframe\">\n",
       "  <thead>\n",
       "    <tr style=\"text-align: right;\">\n",
       "      <th></th>\n",
       "      <th>tweet_id</th>\n",
       "      <th>jpg_url</th>\n",
       "      <th>img_num</th>\n",
       "      <th>p1</th>\n",
       "      <th>p1_conf</th>\n",
       "      <th>p1_dog</th>\n",
       "      <th>p2</th>\n",
       "      <th>p2_conf</th>\n",
       "      <th>p2_dog</th>\n",
       "      <th>p3</th>\n",
       "      <th>p3_conf</th>\n",
       "      <th>p3_dog</th>\n",
       "    </tr>\n",
       "  </thead>\n",
       "  <tbody>\n",
       "    <tr>\n",
       "      <th>0</th>\n",
       "      <td>666020888022790149</td>\n",
       "      <td>https://pbs.twimg.com/media/CT4udn0WwAA0aMy.jpg</td>\n",
       "      <td>1</td>\n",
       "      <td>welsh_springer_spaniel</td>\n",
       "      <td>0.465074</td>\n",
       "      <td>True</td>\n",
       "      <td>collie</td>\n",
       "      <td>0.156665</td>\n",
       "      <td>True</td>\n",
       "      <td>shetland_sheepdog</td>\n",
       "      <td>0.061428</td>\n",
       "      <td>True</td>\n",
       "    </tr>\n",
       "    <tr>\n",
       "      <th>1</th>\n",
       "      <td>666029285002620928</td>\n",
       "      <td>https://pbs.twimg.com/media/CT42GRgUYAA5iDo.jpg</td>\n",
       "      <td>1</td>\n",
       "      <td>redbone</td>\n",
       "      <td>0.506826</td>\n",
       "      <td>True</td>\n",
       "      <td>miniature_pinscher</td>\n",
       "      <td>0.074192</td>\n",
       "      <td>True</td>\n",
       "      <td>rhodesian_ridgeback</td>\n",
       "      <td>0.072010</td>\n",
       "      <td>True</td>\n",
       "    </tr>\n",
       "    <tr>\n",
       "      <th>2</th>\n",
       "      <td>666033412701032449</td>\n",
       "      <td>https://pbs.twimg.com/media/CT4521TWwAEvMyu.jpg</td>\n",
       "      <td>1</td>\n",
       "      <td>german_shepherd</td>\n",
       "      <td>0.596461</td>\n",
       "      <td>True</td>\n",
       "      <td>malinois</td>\n",
       "      <td>0.138584</td>\n",
       "      <td>True</td>\n",
       "      <td>bloodhound</td>\n",
       "      <td>0.116197</td>\n",
       "      <td>True</td>\n",
       "    </tr>\n",
       "    <tr>\n",
       "      <th>3</th>\n",
       "      <td>666044226329800704</td>\n",
       "      <td>https://pbs.twimg.com/media/CT5Dr8HUEAA-lEu.jpg</td>\n",
       "      <td>1</td>\n",
       "      <td>rhodesian_ridgeback</td>\n",
       "      <td>0.408143</td>\n",
       "      <td>True</td>\n",
       "      <td>redbone</td>\n",
       "      <td>0.360687</td>\n",
       "      <td>True</td>\n",
       "      <td>miniature_pinscher</td>\n",
       "      <td>0.222752</td>\n",
       "      <td>True</td>\n",
       "    </tr>\n",
       "    <tr>\n",
       "      <th>4</th>\n",
       "      <td>666049248165822465</td>\n",
       "      <td>https://pbs.twimg.com/media/CT5IQmsXIAAKY4A.jpg</td>\n",
       "      <td>1</td>\n",
       "      <td>miniature_pinscher</td>\n",
       "      <td>0.560311</td>\n",
       "      <td>True</td>\n",
       "      <td>rottweiler</td>\n",
       "      <td>0.243682</td>\n",
       "      <td>True</td>\n",
       "      <td>doberman</td>\n",
       "      <td>0.154629</td>\n",
       "      <td>True</td>\n",
       "    </tr>\n",
       "    <tr>\n",
       "      <th>5</th>\n",
       "      <td>666050758794694657</td>\n",
       "      <td>https://pbs.twimg.com/media/CT5Jof1WUAEuVxN.jpg</td>\n",
       "      <td>1</td>\n",
       "      <td>bernese_mountain_dog</td>\n",
       "      <td>0.651137</td>\n",
       "      <td>True</td>\n",
       "      <td>english_springer</td>\n",
       "      <td>0.263788</td>\n",
       "      <td>True</td>\n",
       "      <td>greater_swiss_mountain_dog</td>\n",
       "      <td>0.016199</td>\n",
       "      <td>True</td>\n",
       "    </tr>\n",
       "    <tr>\n",
       "      <th>6</th>\n",
       "      <td>666051853826850816</td>\n",
       "      <td>https://pbs.twimg.com/media/CT5KoJ1WoAAJash.jpg</td>\n",
       "      <td>1</td>\n",
       "      <td>box_turtle</td>\n",
       "      <td>0.933012</td>\n",
       "      <td>False</td>\n",
       "      <td>mud_turtle</td>\n",
       "      <td>0.045885</td>\n",
       "      <td>False</td>\n",
       "      <td>terrapin</td>\n",
       "      <td>0.017885</td>\n",
       "      <td>False</td>\n",
       "    </tr>\n",
       "    <tr>\n",
       "      <th>7</th>\n",
       "      <td>666055525042405380</td>\n",
       "      <td>https://pbs.twimg.com/media/CT5N9tpXIAAifs1.jpg</td>\n",
       "      <td>1</td>\n",
       "      <td>chow</td>\n",
       "      <td>0.692517</td>\n",
       "      <td>True</td>\n",
       "      <td>tibetan_mastiff</td>\n",
       "      <td>0.058279</td>\n",
       "      <td>True</td>\n",
       "      <td>fur_coat</td>\n",
       "      <td>0.054449</td>\n",
       "      <td>False</td>\n",
       "    </tr>\n",
       "    <tr>\n",
       "      <th>8</th>\n",
       "      <td>666057090499244032</td>\n",
       "      <td>https://pbs.twimg.com/media/CT5PY90WoAAQGLo.jpg</td>\n",
       "      <td>1</td>\n",
       "      <td>shopping_cart</td>\n",
       "      <td>0.962465</td>\n",
       "      <td>False</td>\n",
       "      <td>shopping_basket</td>\n",
       "      <td>0.014594</td>\n",
       "      <td>False</td>\n",
       "      <td>golden_retriever</td>\n",
       "      <td>0.007959</td>\n",
       "      <td>True</td>\n",
       "    </tr>\n",
       "    <tr>\n",
       "      <th>9</th>\n",
       "      <td>666058600524156928</td>\n",
       "      <td>https://pbs.twimg.com/media/CT5Qw94XAAA_2dP.jpg</td>\n",
       "      <td>1</td>\n",
       "      <td>miniature_poodle</td>\n",
       "      <td>0.201493</td>\n",
       "      <td>True</td>\n",
       "      <td>komondor</td>\n",
       "      <td>0.192305</td>\n",
       "      <td>True</td>\n",
       "      <td>soft-coated_wheaten_terrier</td>\n",
       "      <td>0.082086</td>\n",
       "      <td>True</td>\n",
       "    </tr>\n",
       "  </tbody>\n",
       "</table>\n",
       "</div>"
      ],
      "text/plain": [
       "             tweet_id                                          jpg_url  \\\n",
       "0  666020888022790149  https://pbs.twimg.com/media/CT4udn0WwAA0aMy.jpg   \n",
       "1  666029285002620928  https://pbs.twimg.com/media/CT42GRgUYAA5iDo.jpg   \n",
       "2  666033412701032449  https://pbs.twimg.com/media/CT4521TWwAEvMyu.jpg   \n",
       "3  666044226329800704  https://pbs.twimg.com/media/CT5Dr8HUEAA-lEu.jpg   \n",
       "4  666049248165822465  https://pbs.twimg.com/media/CT5IQmsXIAAKY4A.jpg   \n",
       "5  666050758794694657  https://pbs.twimg.com/media/CT5Jof1WUAEuVxN.jpg   \n",
       "6  666051853826850816  https://pbs.twimg.com/media/CT5KoJ1WoAAJash.jpg   \n",
       "7  666055525042405380  https://pbs.twimg.com/media/CT5N9tpXIAAifs1.jpg   \n",
       "8  666057090499244032  https://pbs.twimg.com/media/CT5PY90WoAAQGLo.jpg   \n",
       "9  666058600524156928  https://pbs.twimg.com/media/CT5Qw94XAAA_2dP.jpg   \n",
       "\n",
       "   img_num                      p1   p1_conf  p1_dog                  p2  \\\n",
       "0        1  welsh_springer_spaniel  0.465074    True              collie   \n",
       "1        1                 redbone  0.506826    True  miniature_pinscher   \n",
       "2        1         german_shepherd  0.596461    True            malinois   \n",
       "3        1     rhodesian_ridgeback  0.408143    True             redbone   \n",
       "4        1      miniature_pinscher  0.560311    True          rottweiler   \n",
       "5        1    bernese_mountain_dog  0.651137    True    english_springer   \n",
       "6        1              box_turtle  0.933012   False          mud_turtle   \n",
       "7        1                    chow  0.692517    True     tibetan_mastiff   \n",
       "8        1           shopping_cart  0.962465   False     shopping_basket   \n",
       "9        1        miniature_poodle  0.201493    True            komondor   \n",
       "\n",
       "    p2_conf  p2_dog                           p3   p3_conf  p3_dog  \n",
       "0  0.156665    True            shetland_sheepdog  0.061428    True  \n",
       "1  0.074192    True          rhodesian_ridgeback  0.072010    True  \n",
       "2  0.138584    True                   bloodhound  0.116197    True  \n",
       "3  0.360687    True           miniature_pinscher  0.222752    True  \n",
       "4  0.243682    True                     doberman  0.154629    True  \n",
       "5  0.263788    True   greater_swiss_mountain_dog  0.016199    True  \n",
       "6  0.045885   False                     terrapin  0.017885   False  \n",
       "7  0.058279    True                     fur_coat  0.054449   False  \n",
       "8  0.014594   False             golden_retriever  0.007959    True  \n",
       "9  0.192305    True  soft-coated_wheaten_terrier  0.082086    True  "
      ]
     },
     "execution_count": 32,
     "metadata": {},
     "output_type": "execute_result"
    }
   ],
   "source": [
    "df_ip_clean.head(10)"
   ]
  },
  {
   "cell_type": "markdown",
   "metadata": {},
   "source": [
    "##### 6. Condusing column name in `df_tj_clean`"
   ]
  },
  {
   "cell_type": "markdown",
   "metadata": {},
   "source": [
    "#### Define\n",
    "Rename the id column to tweet_id for clarification"
   ]
  },
  {
   "cell_type": "markdown",
   "metadata": {},
   "source": [
    "#### Code"
   ]
  },
  {
   "cell_type": "code",
   "execution_count": 33,
   "metadata": {},
   "outputs": [],
   "source": [
    "df_tj_clean = df_tj_clean.rename(index=str, columns={'id': 'tweet_id'})"
   ]
  },
  {
   "cell_type": "markdown",
   "metadata": {},
   "source": [
    "#### Test"
   ]
  },
  {
   "cell_type": "code",
   "execution_count": 34,
   "metadata": {},
   "outputs": [
    {
     "name": "stdout",
     "output_type": "stream",
     "text": [
      "<class 'pandas.core.frame.DataFrame'>\n",
      "Index: 2174 entries, 1991-02-08 13:48:08.022790149 to 1998-04-12 22:37:23.555336193\n",
      "Data columns (total 31 columns):\n",
      "contributors                     0 non-null float64\n",
      "coordinates                      0 non-null float64\n",
      "created_at                       2174 non-null datetime64[ns]\n",
      "display_text_range               2174 non-null object\n",
      "entities                         2174 non-null object\n",
      "extended_entities                1993 non-null object\n",
      "favorite_count                   2174 non-null int64\n",
      "favorited                        2174 non-null int64\n",
      "full_text                        2174 non-null object\n",
      "geo                              0 non-null float64\n",
      "tweet_id                         2174 non-null int64\n",
      "id_str                           2174 non-null int64\n",
      "in_reply_to_screen_name          78 non-null object\n",
      "in_reply_to_status_id            78 non-null float64\n",
      "in_reply_to_status_id_str        78 non-null float64\n",
      "in_reply_to_user_id              78 non-null float64\n",
      "in_reply_to_user_id_str          78 non-null float64\n",
      "is_quote_status                  2174 non-null int64\n",
      "lang                             2174 non-null object\n",
      "place                            1 non-null object\n",
      "possibly_sensitive               2116 non-null float64\n",
      "possibly_sensitive_appealable    2116 non-null float64\n",
      "quoted_status                    28 non-null object\n",
      "quoted_status_id                 28 non-null float64\n",
      "quoted_status_id_str             28 non-null float64\n",
      "retweet_count                    2174 non-null int64\n",
      "retweeted                        2174 non-null int64\n",
      "retweeted_status                 0 non-null object\n",
      "source                           2174 non-null object\n",
      "truncated                        2174 non-null int64\n",
      "user                             2174 non-null object\n",
      "dtypes: datetime64[ns](1), float64(11), int64(8), object(11)\n",
      "memory usage: 543.5+ KB\n"
     ]
    }
   ],
   "source": [
    "df_tj_clean.info()"
   ]
  },
  {
   "cell_type": "markdown",
   "metadata": {},
   "source": [
    "##### 7. Redundant denominator column in `df_ta_clean`"
   ]
  },
  {
   "cell_type": "markdown",
   "metadata": {},
   "source": [
    "#### Define\n",
    "Drop the denominator column"
   ]
  },
  {
   "cell_type": "markdown",
   "metadata": {},
   "source": [
    "#### Code"
   ]
  },
  {
   "cell_type": "code",
   "execution_count": 35,
   "metadata": {},
   "outputs": [],
   "source": [
    "df_ta_clean = df_ta_clean.drop(['rating_denominator'], axis=1)"
   ]
  },
  {
   "cell_type": "markdown",
   "metadata": {},
   "source": [
    "#### Test"
   ]
  },
  {
   "cell_type": "code",
   "execution_count": 36,
   "metadata": {},
   "outputs": [
    {
     "name": "stdout",
     "output_type": "stream",
     "text": [
      "<class 'pandas.core.frame.DataFrame'>\n",
      "Int64Index: 2117 entries, 0 to 2355\n",
      "Data columns (total 16 columns):\n",
      "tweet_id                      2117 non-null int64\n",
      "in_reply_to_status_id         23 non-null float64\n",
      "in_reply_to_user_id           23 non-null float64\n",
      "timestamp                     2117 non-null datetime64[ns]\n",
      "source                        2117 non-null object\n",
      "text                          2117 non-null object\n",
      "retweeted_status_id           0 non-null float64\n",
      "retweeted_status_user_id      0 non-null float64\n",
      "retweeted_status_timestamp    0 non-null object\n",
      "expanded_urls                 2117 non-null object\n",
      "rating_numerator              2117 non-null int64\n",
      "name                          1423 non-null object\n",
      "doggo                         2117 non-null category\n",
      "floofer                       2117 non-null category\n",
      "pupper                        2117 non-null category\n",
      "puppo                         2117 non-null category\n",
      "dtypes: category(4), datetime64[ns](1), float64(4), int64(2), object(5)\n",
      "memory usage: 223.7+ KB\n"
     ]
    }
   ],
   "source": [
    "df_ta_clean.info()"
   ]
  },
  {
   "cell_type": "markdown",
   "metadata": {},
   "source": [
    "##### 8. Redundant id_str column in `df_tj_clean`"
   ]
  },
  {
   "cell_type": "markdown",
   "metadata": {},
   "source": [
    "#### Define\n",
    "Since there are just a few columns that we need in `df_tj_clean` for further analysis, we can deal with this issue when tackling the tidiness issue in a bit."
   ]
  },
  {
   "cell_type": "markdown",
   "metadata": {},
   "source": [
    "### Tidiness Issues"
   ]
  },
  {
   "cell_type": "markdown",
   "metadata": {},
   "source": [
    "##### 1. Dog stages as a single variable (Categorical) are represented by four separate columns in `df_ta_clean`"
   ]
  },
  {
   "cell_type": "markdown",
   "metadata": {},
   "source": [
    "#### Define\n",
    "Melt multiple columns into one"
   ]
  },
  {
   "cell_type": "markdown",
   "metadata": {},
   "source": [
    "#### Code"
   ]
  },
  {
   "cell_type": "code",
   "execution_count": 37,
   "metadata": {},
   "outputs": [],
   "source": [
    "def dog_stage(obs):\n",
    "    if obs['doggo'] == 'doggo':\n",
    "        return 'doggo'\n",
    "    elif obs['floofer'] == 'floofer':\n",
    "        return 'floofer'\n",
    "    elif obs['pupper'] == 'pupper':\n",
    "        return 'pupper'\n",
    "    elif obs['puppo'] == 'puppo':\n",
    "        return 'puppo'\n",
    "    else:\n",
    "        return 'unclassified'"
   ]
  },
  {
   "cell_type": "code",
   "execution_count": 38,
   "metadata": {},
   "outputs": [],
   "source": [
    "df_ta_clean['dog_stage'] = df_ta_clean.apply(dog_stage, axis=1)"
   ]
  },
  {
   "cell_type": "markdown",
   "metadata": {},
   "source": [
    "#### Test"
   ]
  },
  {
   "cell_type": "code",
   "execution_count": 39,
   "metadata": {},
   "outputs": [
    {
     "data": {
      "text/html": [
       "<div>\n",
       "<style scoped>\n",
       "    .dataframe tbody tr th:only-of-type {\n",
       "        vertical-align: middle;\n",
       "    }\n",
       "\n",
       "    .dataframe tbody tr th {\n",
       "        vertical-align: top;\n",
       "    }\n",
       "\n",
       "    .dataframe thead th {\n",
       "        text-align: right;\n",
       "    }\n",
       "</style>\n",
       "<table border=\"1\" class=\"dataframe\">\n",
       "  <thead>\n",
       "    <tr style=\"text-align: right;\">\n",
       "      <th></th>\n",
       "      <th>tweet_id</th>\n",
       "      <th>in_reply_to_status_id</th>\n",
       "      <th>in_reply_to_user_id</th>\n",
       "      <th>timestamp</th>\n",
       "      <th>source</th>\n",
       "      <th>text</th>\n",
       "      <th>retweeted_status_id</th>\n",
       "      <th>retweeted_status_user_id</th>\n",
       "      <th>retweeted_status_timestamp</th>\n",
       "      <th>expanded_urls</th>\n",
       "      <th>rating_numerator</th>\n",
       "      <th>name</th>\n",
       "      <th>doggo</th>\n",
       "      <th>floofer</th>\n",
       "      <th>pupper</th>\n",
       "      <th>puppo</th>\n",
       "      <th>dog_stage</th>\n",
       "    </tr>\n",
       "  </thead>\n",
       "  <tbody>\n",
       "    <tr>\n",
       "      <th>0</th>\n",
       "      <td>892420643555336193</td>\n",
       "      <td>NaN</td>\n",
       "      <td>NaN</td>\n",
       "      <td>2017-08-01 16:23:56</td>\n",
       "      <td>&lt;a href=\"http://twitter.com/download/iphone\" r...</td>\n",
       "      <td>This is Phineas. He's a mystical boy. Only eve...</td>\n",
       "      <td>NaN</td>\n",
       "      <td>NaN</td>\n",
       "      <td>NaN</td>\n",
       "      <td>https://twitter.com/dog_rates/status/892420643...</td>\n",
       "      <td>13</td>\n",
       "      <td>Phineas</td>\n",
       "      <td>None</td>\n",
       "      <td>None</td>\n",
       "      <td>None</td>\n",
       "      <td>None</td>\n",
       "      <td>unclassified</td>\n",
       "    </tr>\n",
       "    <tr>\n",
       "      <th>1</th>\n",
       "      <td>892177421306343426</td>\n",
       "      <td>NaN</td>\n",
       "      <td>NaN</td>\n",
       "      <td>2017-08-01 00:17:27</td>\n",
       "      <td>&lt;a href=\"http://twitter.com/download/iphone\" r...</td>\n",
       "      <td>This is Tilly. She's just checking pup on you....</td>\n",
       "      <td>NaN</td>\n",
       "      <td>NaN</td>\n",
       "      <td>NaN</td>\n",
       "      <td>https://twitter.com/dog_rates/status/892177421...</td>\n",
       "      <td>13</td>\n",
       "      <td>Tilly</td>\n",
       "      <td>None</td>\n",
       "      <td>None</td>\n",
       "      <td>None</td>\n",
       "      <td>None</td>\n",
       "      <td>unclassified</td>\n",
       "    </tr>\n",
       "    <tr>\n",
       "      <th>2</th>\n",
       "      <td>891815181378084864</td>\n",
       "      <td>NaN</td>\n",
       "      <td>NaN</td>\n",
       "      <td>2017-07-31 00:18:03</td>\n",
       "      <td>&lt;a href=\"http://twitter.com/download/iphone\" r...</td>\n",
       "      <td>This is Archie. He is a rare Norwegian Pouncin...</td>\n",
       "      <td>NaN</td>\n",
       "      <td>NaN</td>\n",
       "      <td>NaN</td>\n",
       "      <td>https://twitter.com/dog_rates/status/891815181...</td>\n",
       "      <td>12</td>\n",
       "      <td>Archie</td>\n",
       "      <td>None</td>\n",
       "      <td>None</td>\n",
       "      <td>None</td>\n",
       "      <td>None</td>\n",
       "      <td>unclassified</td>\n",
       "    </tr>\n",
       "    <tr>\n",
       "      <th>3</th>\n",
       "      <td>891689557279858688</td>\n",
       "      <td>NaN</td>\n",
       "      <td>NaN</td>\n",
       "      <td>2017-07-30 15:58:51</td>\n",
       "      <td>&lt;a href=\"http://twitter.com/download/iphone\" r...</td>\n",
       "      <td>This is Darla. She commenced a snooze mid meal...</td>\n",
       "      <td>NaN</td>\n",
       "      <td>NaN</td>\n",
       "      <td>NaN</td>\n",
       "      <td>https://twitter.com/dog_rates/status/891689557...</td>\n",
       "      <td>13</td>\n",
       "      <td>Darla</td>\n",
       "      <td>None</td>\n",
       "      <td>None</td>\n",
       "      <td>None</td>\n",
       "      <td>None</td>\n",
       "      <td>unclassified</td>\n",
       "    </tr>\n",
       "    <tr>\n",
       "      <th>4</th>\n",
       "      <td>891327558926688256</td>\n",
       "      <td>NaN</td>\n",
       "      <td>NaN</td>\n",
       "      <td>2017-07-29 16:00:24</td>\n",
       "      <td>&lt;a href=\"http://twitter.com/download/iphone\" r...</td>\n",
       "      <td>This is Franklin. He would like you to stop ca...</td>\n",
       "      <td>NaN</td>\n",
       "      <td>NaN</td>\n",
       "      <td>NaN</td>\n",
       "      <td>https://twitter.com/dog_rates/status/891327558...</td>\n",
       "      <td>12</td>\n",
       "      <td>Franklin</td>\n",
       "      <td>None</td>\n",
       "      <td>None</td>\n",
       "      <td>None</td>\n",
       "      <td>None</td>\n",
       "      <td>unclassified</td>\n",
       "    </tr>\n",
       "  </tbody>\n",
       "</table>\n",
       "</div>"
      ],
      "text/plain": [
       "             tweet_id  in_reply_to_status_id  in_reply_to_user_id  \\\n",
       "0  892420643555336193                    NaN                  NaN   \n",
       "1  892177421306343426                    NaN                  NaN   \n",
       "2  891815181378084864                    NaN                  NaN   \n",
       "3  891689557279858688                    NaN                  NaN   \n",
       "4  891327558926688256                    NaN                  NaN   \n",
       "\n",
       "            timestamp                                             source  \\\n",
       "0 2017-08-01 16:23:56  <a href=\"http://twitter.com/download/iphone\" r...   \n",
       "1 2017-08-01 00:17:27  <a href=\"http://twitter.com/download/iphone\" r...   \n",
       "2 2017-07-31 00:18:03  <a href=\"http://twitter.com/download/iphone\" r...   \n",
       "3 2017-07-30 15:58:51  <a href=\"http://twitter.com/download/iphone\" r...   \n",
       "4 2017-07-29 16:00:24  <a href=\"http://twitter.com/download/iphone\" r...   \n",
       "\n",
       "                                                text  retweeted_status_id  \\\n",
       "0  This is Phineas. He's a mystical boy. Only eve...                  NaN   \n",
       "1  This is Tilly. She's just checking pup on you....                  NaN   \n",
       "2  This is Archie. He is a rare Norwegian Pouncin...                  NaN   \n",
       "3  This is Darla. She commenced a snooze mid meal...                  NaN   \n",
       "4  This is Franklin. He would like you to stop ca...                  NaN   \n",
       "\n",
       "   retweeted_status_user_id retweeted_status_timestamp  \\\n",
       "0                       NaN                        NaN   \n",
       "1                       NaN                        NaN   \n",
       "2                       NaN                        NaN   \n",
       "3                       NaN                        NaN   \n",
       "4                       NaN                        NaN   \n",
       "\n",
       "                                       expanded_urls  rating_numerator  \\\n",
       "0  https://twitter.com/dog_rates/status/892420643...                13   \n",
       "1  https://twitter.com/dog_rates/status/892177421...                13   \n",
       "2  https://twitter.com/dog_rates/status/891815181...                12   \n",
       "3  https://twitter.com/dog_rates/status/891689557...                13   \n",
       "4  https://twitter.com/dog_rates/status/891327558...                12   \n",
       "\n",
       "       name doggo floofer pupper puppo     dog_stage  \n",
       "0   Phineas  None    None   None  None  unclassified  \n",
       "1     Tilly  None    None   None  None  unclassified  \n",
       "2    Archie  None    None   None  None  unclassified  \n",
       "3     Darla  None    None   None  None  unclassified  \n",
       "4  Franklin  None    None   None  None  unclassified  "
      ]
     },
     "execution_count": 39,
     "metadata": {},
     "output_type": "execute_result"
    }
   ],
   "source": [
    "df_ta_clean.head()"
   ]
  },
  {
   "cell_type": "markdown",
   "metadata": {},
   "source": [
    "##### 2. Columns are misarranged and duplicated ones exist"
   ]
  },
  {
   "cell_type": "markdown",
   "metadata": {},
   "source": [
    "#### Define\n",
    "1. Subset relevant columns from `df_ip_clean` and `df_tj_clean`\n",
    "2. Merge subsets with `df_ta_clean`"
   ]
  },
  {
   "cell_type": "markdown",
   "metadata": {},
   "source": [
    "#### Code"
   ]
  },
  {
   "cell_type": "code",
   "execution_count": 40,
   "metadata": {},
   "outputs": [],
   "source": [
    "sub_df_ip_clean = df_ip_clean.drop(['img_num'], axis=1)"
   ]
  },
  {
   "cell_type": "code",
   "execution_count": 41,
   "metadata": {},
   "outputs": [],
   "source": [
    "sub_df_tj_clean = df_tj_clean[['tweet_id', 'favorite_count', 'retweet_count']]"
   ]
  },
  {
   "cell_type": "code",
   "execution_count": 42,
   "metadata": {},
   "outputs": [],
   "source": [
    "merged_ip_tj_df = pd.merge(sub_df_ip_clean, \n",
    "                          sub_df_tj_clean, \n",
    "                          on=['tweet_id'], \n",
    "                          how='inner')"
   ]
  },
  {
   "cell_type": "code",
   "execution_count": 43,
   "metadata": {},
   "outputs": [],
   "source": [
    "df_master = pd.merge(df_ta_clean, \n",
    "                    merged_ip_tj_df, \n",
    "                    on=['tweet_id'], \n",
    "                    how='inner')"
   ]
  },
  {
   "cell_type": "markdown",
   "metadata": {},
   "source": [
    "#### Test"
   ]
  },
  {
   "cell_type": "code",
   "execution_count": 44,
   "metadata": {},
   "outputs": [
    {
     "name": "stdout",
     "output_type": "stream",
     "text": [
      "<class 'pandas.core.frame.DataFrame'>\n",
      "Int64Index: 1299 entries, 0 to 1298\n",
      "Data columns (total 29 columns):\n",
      "tweet_id                      1299 non-null int64\n",
      "in_reply_to_status_id         15 non-null float64\n",
      "in_reply_to_user_id           15 non-null float64\n",
      "timestamp                     1299 non-null datetime64[ns]\n",
      "source                        1299 non-null object\n",
      "text                          1299 non-null object\n",
      "retweeted_status_id           0 non-null float64\n",
      "retweeted_status_user_id      0 non-null float64\n",
      "retweeted_status_timestamp    0 non-null object\n",
      "expanded_urls                 1299 non-null object\n",
      "rating_numerator              1299 non-null int64\n",
      "name                          878 non-null object\n",
      "doggo                         1299 non-null category\n",
      "floofer                       1299 non-null category\n",
      "pupper                        1299 non-null category\n",
      "puppo                         1299 non-null category\n",
      "dog_stage                     1299 non-null object\n",
      "jpg_url                       1299 non-null object\n",
      "p1                            1299 non-null category\n",
      "p1_conf                       1299 non-null float64\n",
      "p1_dog                        1299 non-null bool\n",
      "p2                            1299 non-null category\n",
      "p2_conf                       1299 non-null float64\n",
      "p2_dog                        1299 non-null bool\n",
      "p3                            1299 non-null category\n",
      "p3_conf                       1299 non-null float64\n",
      "p3_dog                        1299 non-null bool\n",
      "favorite_count                1299 non-null int64\n",
      "retweet_count                 1299 non-null int64\n",
      "dtypes: bool(3), category(7), datetime64[ns](1), float64(7), int64(4), object(7)\n",
      "memory usage: 279.1+ KB\n"
     ]
    }
   ],
   "source": [
    "df_master.info()"
   ]
  },
  {
   "cell_type": "markdown",
   "metadata": {},
   "source": [
    "##### 3. Drop redundant columns that are not necessary for further analysis and final refinements"
   ]
  },
  {
   "cell_type": "markdown",
   "metadata": {},
   "source": [
    "#### Define\n",
    "For the `df_master` dataframe\n",
    "1. Drop all retweet status columns\n",
    "2. Drop all individual dog stage columns\n",
    "3. Drop all 'in_reply' columns\n",
    "4. Rename 'rating_numerator' column to 'rating'"
   ]
  },
  {
   "cell_type": "markdown",
   "metadata": {},
   "source": [
    "#### Code"
   ]
  },
  {
   "cell_type": "code",
   "execution_count": 45,
   "metadata": {},
   "outputs": [],
   "source": [
    "retweet_cols = list(df_master.columns[1:3])\n",
    "reply_cols = list(df_master.columns[6:9])\n",
    "ind_dog_cols = list(df_master.columns[12:16])\n",
    "\n",
    "drop_list = retweet_cols + reply_cols + ind_dog_cols"
   ]
  },
  {
   "cell_type": "code",
   "execution_count": 46,
   "metadata": {},
   "outputs": [
    {
     "data": {
      "text/plain": [
       "['in_reply_to_status_id',\n",
       " 'in_reply_to_user_id',\n",
       " 'retweeted_status_id',\n",
       " 'retweeted_status_user_id',\n",
       " 'retweeted_status_timestamp',\n",
       " 'doggo',\n",
       " 'floofer',\n",
       " 'pupper',\n",
       " 'puppo']"
      ]
     },
     "execution_count": 46,
     "metadata": {},
     "output_type": "execute_result"
    }
   ],
   "source": [
    "drop_list"
   ]
  },
  {
   "cell_type": "code",
   "execution_count": 47,
   "metadata": {},
   "outputs": [],
   "source": [
    "df_master = df_master.drop(drop_list, axis=1)"
   ]
  },
  {
   "cell_type": "code",
   "execution_count": 48,
   "metadata": {},
   "outputs": [],
   "source": [
    "df_master = df_master.rename(index=str, columns={'rating_numerator': 'rating'})"
   ]
  },
  {
   "cell_type": "markdown",
   "metadata": {},
   "source": [
    "#### Test"
   ]
  },
  {
   "cell_type": "code",
   "execution_count": 49,
   "metadata": {},
   "outputs": [
    {
     "name": "stdout",
     "output_type": "stream",
     "text": [
      "<class 'pandas.core.frame.DataFrame'>\n",
      "Index: 1299 entries, 0 to 1298\n",
      "Data columns (total 20 columns):\n",
      "tweet_id          1299 non-null int64\n",
      "timestamp         1299 non-null datetime64[ns]\n",
      "source            1299 non-null object\n",
      "text              1299 non-null object\n",
      "expanded_urls     1299 non-null object\n",
      "rating            1299 non-null int64\n",
      "name              878 non-null object\n",
      "dog_stage         1299 non-null object\n",
      "jpg_url           1299 non-null object\n",
      "p1                1299 non-null category\n",
      "p1_conf           1299 non-null float64\n",
      "p1_dog            1299 non-null bool\n",
      "p2                1299 non-null category\n",
      "p2_conf           1299 non-null float64\n",
      "p2_dog            1299 non-null bool\n",
      "p3                1299 non-null category\n",
      "p3_conf           1299 non-null float64\n",
      "p3_dog            1299 non-null bool\n",
      "favorite_count    1299 non-null int64\n",
      "retweet_count     1299 non-null int64\n",
      "dtypes: bool(3), category(3), datetime64[ns](1), float64(3), int64(4), object(6)\n",
      "memory usage: 222.9+ KB\n"
     ]
    }
   ],
   "source": [
    "df_master.info()"
   ]
  },
  {
   "cell_type": "code",
   "execution_count": 50,
   "metadata": {},
   "outputs": [],
   "source": [
    "df_master.to_csv(os.path.join(folders[1], 'twitter_archive_master.csv'), index=False)"
   ]
  },
  {
   "cell_type": "markdown",
   "metadata": {},
   "source": [
    "## Explore and Investigate"
   ]
  },
  {
   "cell_type": "markdown",
   "metadata": {},
   "source": [
    "In this last section, I am going to explore and investigate the cleaned dataset. There are three questions I want to address:\n",
    "1. What are the most often predictions of the neural network algorithm?\n",
    "2. Does the rating have any impact on social virality? That is, how influencial is WeRateDogs?\n",
    "3. What are the dog stages that receive higher rating? And does certain stage have advantages over others?"
   ]
  },
  {
   "cell_type": "markdown",
   "metadata": {},
   "source": [
    "##### 1. What are the most often predictions of the neural network algorithm?"
   ]
  },
  {
   "cell_type": "code",
   "execution_count": 51,
   "metadata": {},
   "outputs": [],
   "source": [
    "df_master = pd.read_csv(os.path.join(folders[1], 'twitter_archive_master.csv'))"
   ]
  },
  {
   "cell_type": "code",
   "execution_count": 52,
   "metadata": {},
   "outputs": [
    {
     "data": {
      "text/html": [
       "<div>\n",
       "<style scoped>\n",
       "    .dataframe tbody tr th:only-of-type {\n",
       "        vertical-align: middle;\n",
       "    }\n",
       "\n",
       "    .dataframe tbody tr th {\n",
       "        vertical-align: top;\n",
       "    }\n",
       "\n",
       "    .dataframe thead th {\n",
       "        text-align: right;\n",
       "    }\n",
       "</style>\n",
       "<table border=\"1\" class=\"dataframe\">\n",
       "  <thead>\n",
       "    <tr style=\"text-align: right;\">\n",
       "      <th></th>\n",
       "      <th>tweet_id</th>\n",
       "      <th>timestamp</th>\n",
       "      <th>source</th>\n",
       "      <th>text</th>\n",
       "      <th>expanded_urls</th>\n",
       "      <th>rating</th>\n",
       "      <th>name</th>\n",
       "      <th>dog_stage</th>\n",
       "      <th>jpg_url</th>\n",
       "      <th>p1</th>\n",
       "      <th>p1_conf</th>\n",
       "      <th>p1_dog</th>\n",
       "      <th>p2</th>\n",
       "      <th>p2_conf</th>\n",
       "      <th>p2_dog</th>\n",
       "      <th>p3</th>\n",
       "      <th>p3_conf</th>\n",
       "      <th>p3_dog</th>\n",
       "      <th>favorite_count</th>\n",
       "      <th>retweet_count</th>\n",
       "    </tr>\n",
       "  </thead>\n",
       "  <tbody>\n",
       "    <tr>\n",
       "      <th>0</th>\n",
       "      <td>891815181378084864</td>\n",
       "      <td>2017-07-31 00:18:03</td>\n",
       "      <td>&lt;a href=\"http://twitter.com/download/iphone\" r...</td>\n",
       "      <td>This is Archie. He is a rare Norwegian Pouncin...</td>\n",
       "      <td>https://twitter.com/dog_rates/status/891815181...</td>\n",
       "      <td>12</td>\n",
       "      <td>Archie</td>\n",
       "      <td>unclassified</td>\n",
       "      <td>https://pbs.twimg.com/media/DGBdLU1WsAANxJ9.jpg</td>\n",
       "      <td>chihuahua</td>\n",
       "      <td>0.716012</td>\n",
       "      <td>True</td>\n",
       "      <td>malamute</td>\n",
       "      <td>0.078253</td>\n",
       "      <td>True</td>\n",
       "      <td>kelpie</td>\n",
       "      <td>0.031379</td>\n",
       "      <td>True</td>\n",
       "      <td>25276</td>\n",
       "      <td>4248</td>\n",
       "    </tr>\n",
       "    <tr>\n",
       "      <th>1</th>\n",
       "      <td>891689557279858688</td>\n",
       "      <td>2017-07-30 15:58:51</td>\n",
       "      <td>&lt;a href=\"http://twitter.com/download/iphone\" r...</td>\n",
       "      <td>This is Darla. She commenced a snooze mid meal...</td>\n",
       "      <td>https://twitter.com/dog_rates/status/891689557...</td>\n",
       "      <td>13</td>\n",
       "      <td>Darla</td>\n",
       "      <td>unclassified</td>\n",
       "      <td>https://pbs.twimg.com/media/DF_q7IAWsAEuuN8.jpg</td>\n",
       "      <td>paper_towel</td>\n",
       "      <td>0.170278</td>\n",
       "      <td>False</td>\n",
       "      <td>labrador_retriever</td>\n",
       "      <td>0.168086</td>\n",
       "      <td>True</td>\n",
       "      <td>spatula</td>\n",
       "      <td>0.040836</td>\n",
       "      <td>False</td>\n",
       "      <td>42526</td>\n",
       "      <td>8809</td>\n",
       "    </tr>\n",
       "    <tr>\n",
       "      <th>2</th>\n",
       "      <td>891327558926688256</td>\n",
       "      <td>2017-07-29 16:00:24</td>\n",
       "      <td>&lt;a href=\"http://twitter.com/download/iphone\" r...</td>\n",
       "      <td>This is Franklin. He would like you to stop ca...</td>\n",
       "      <td>https://twitter.com/dog_rates/status/891327558...</td>\n",
       "      <td>12</td>\n",
       "      <td>Franklin</td>\n",
       "      <td>unclassified</td>\n",
       "      <td>https://pbs.twimg.com/media/DF6hr6BUMAAzZgT.jpg</td>\n",
       "      <td>basset</td>\n",
       "      <td>0.555712</td>\n",
       "      <td>True</td>\n",
       "      <td>english_springer</td>\n",
       "      <td>0.225770</td>\n",
       "      <td>True</td>\n",
       "      <td>german_short-haired_pointer</td>\n",
       "      <td>0.175219</td>\n",
       "      <td>True</td>\n",
       "      <td>40691</td>\n",
       "      <td>9591</td>\n",
       "    </tr>\n",
       "  </tbody>\n",
       "</table>\n",
       "</div>"
      ],
      "text/plain": [
       "             tweet_id            timestamp  \\\n",
       "0  891815181378084864  2017-07-31 00:18:03   \n",
       "1  891689557279858688  2017-07-30 15:58:51   \n",
       "2  891327558926688256  2017-07-29 16:00:24   \n",
       "\n",
       "                                              source  \\\n",
       "0  <a href=\"http://twitter.com/download/iphone\" r...   \n",
       "1  <a href=\"http://twitter.com/download/iphone\" r...   \n",
       "2  <a href=\"http://twitter.com/download/iphone\" r...   \n",
       "\n",
       "                                                text  \\\n",
       "0  This is Archie. He is a rare Norwegian Pouncin...   \n",
       "1  This is Darla. She commenced a snooze mid meal...   \n",
       "2  This is Franklin. He would like you to stop ca...   \n",
       "\n",
       "                                       expanded_urls  rating      name  \\\n",
       "0  https://twitter.com/dog_rates/status/891815181...      12    Archie   \n",
       "1  https://twitter.com/dog_rates/status/891689557...      13     Darla   \n",
       "2  https://twitter.com/dog_rates/status/891327558...      12  Franklin   \n",
       "\n",
       "      dog_stage                                          jpg_url           p1  \\\n",
       "0  unclassified  https://pbs.twimg.com/media/DGBdLU1WsAANxJ9.jpg    chihuahua   \n",
       "1  unclassified  https://pbs.twimg.com/media/DF_q7IAWsAEuuN8.jpg  paper_towel   \n",
       "2  unclassified  https://pbs.twimg.com/media/DF6hr6BUMAAzZgT.jpg       basset   \n",
       "\n",
       "    p1_conf  p1_dog                  p2   p2_conf  p2_dog  \\\n",
       "0  0.716012    True            malamute  0.078253    True   \n",
       "1  0.170278   False  labrador_retriever  0.168086    True   \n",
       "2  0.555712    True    english_springer  0.225770    True   \n",
       "\n",
       "                            p3   p3_conf  p3_dog  favorite_count  \\\n",
       "0                       kelpie  0.031379    True           25276   \n",
       "1                      spatula  0.040836   False           42526   \n",
       "2  german_short-haired_pointer  0.175219    True           40691   \n",
       "\n",
       "   retweet_count  \n",
       "0           4248  \n",
       "1           8809  \n",
       "2           9591  "
      ]
     },
     "execution_count": 52,
     "metadata": {},
     "output_type": "execute_result"
    }
   ],
   "source": [
    "df_master.head(3)"
   ]
  },
  {
   "cell_type": "code",
   "execution_count": 53,
   "metadata": {},
   "outputs": [
    {
     "data": {
      "text/plain": [
       "golden_retriever      95\n",
       "pembroke              65\n",
       "labrador_retriever    62\n",
       "chihuahua             45\n",
       "pug                   39\n",
       "Name: p1, dtype: int64"
      ]
     },
     "execution_count": 53,
     "metadata": {},
     "output_type": "execute_result"
    }
   ],
   "source": [
    "df_master.p1.value_counts().head()"
   ]
  },
  {
   "cell_type": "code",
   "execution_count": 54,
   "metadata": {},
   "outputs": [
    {
     "data": {
      "text/plain": [
       "labrador_retriever    61\n",
       "golden_retriever      54\n",
       "cardigan              53\n",
       "chihuahua             31\n",
       "french_bulldog        28\n",
       "Name: p2, dtype: int64"
      ]
     },
     "execution_count": 54,
     "metadata": {},
     "output_type": "execute_result"
    }
   ],
   "source": [
    "df_master.p2.value_counts().head()"
   ]
  },
  {
   "cell_type": "code",
   "execution_count": 55,
   "metadata": {},
   "outputs": [
    {
     "data": {
      "text/plain": [
       "labrador_retriever    56\n",
       "chihuahua             41\n",
       "golden_retriever      33\n",
       "chow                  25\n",
       "eskimo_dog            25\n",
       "Name: p3, dtype: int64"
      ]
     },
     "execution_count": 55,
     "metadata": {},
     "output_type": "execute_result"
    }
   ],
   "source": [
    "df_master.p3.value_counts().head()"
   ]
  },
  {
   "cell_type": "markdown",
   "metadata": {},
   "source": [
    "We can see among the algorithm's 3 predictions, Golden Retriever, Labrador Retriever, and Chihuahua show up most often.\n",
    "\n",
    "I wonder how confident the algorithm is when making these predictions. Since p1_conf is the algorithm's most confident guess, we might as well only infer this column. Let's get the average confidence of each breed."
   ]
  },
  {
   "cell_type": "code",
   "execution_count": 56,
   "metadata": {},
   "outputs": [
    {
     "name": "stdout",
     "output_type": "stream",
     "text": [
      "0.7099198842105264 0.6477795967741936 0.5972593999999999\n"
     ]
    }
   ],
   "source": [
    "gr_conf_mean = df_master[df_master['p1'] == 'golden_retriever'].p1_conf.mean()\n",
    "\n",
    "lr_conf_mean = df_master[df_master['p1'] == 'labrador_retriever'].p1_conf.mean()\n",
    "\n",
    "chh_conf_mean = df_master[df_master['p1'] == 'chihuahua'].p1_conf.mean()\n",
    "\n",
    "print(gr_conf_mean, lr_conf_mean, chh_conf_mean)"
   ]
  },
  {
   "cell_type": "markdown",
   "metadata": {},
   "source": [
    "Interestingly, the algorithm seems to be more confident towards predicting Golden Retriever. More or less, this could imply that the algorithm performs better when it is shown a Golden Retriever image."
   ]
  },
  {
   "cell_type": "markdown",
   "metadata": {},
   "source": [
    "##### 2. Does the rating have any impact on social virality? How influencial is WeRateDogs?"
   ]
  },
  {
   "cell_type": "markdown",
   "metadata": {},
   "source": [
    "The Twitter account is devoted to humorously reviewing pictures of dogs doing adorable poses, often giving them scores above 10/10. In other words, the ceiling of the scale could be interpreted as a threshold, which separates the ridiculously humorous ones from the regular ones.\n",
    "\n",
    "I'd like to investigate this from a binomial perspective, in which there are only two kinds of ratings:\n",
    "1. Rating < 10\n",
    "2. Rating >= 10\n",
    "\n",
    "And I am going to see how they draw social attention differently."
   ]
  },
  {
   "cell_type": "code",
   "execution_count": 57,
   "metadata": {},
   "outputs": [],
   "source": [
    "### A copy for modelling\n",
    "\n",
    "df_master_model = df_master.copy()"
   ]
  },
  {
   "cell_type": "code",
   "execution_count": 58,
   "metadata": {},
   "outputs": [],
   "source": [
    "# create an intercept for modelling\n",
    "df_master_model['intercept'] = 1"
   ]
  },
  {
   "cell_type": "code",
   "execution_count": 59,
   "metadata": {},
   "outputs": [],
   "source": [
    "# create a column that stores binary values based on rating\n",
    "df_master_model['perfect_10'] = np.where(df_master_model.eval('rating >= 10'), 1, 0)"
   ]
  },
  {
   "cell_type": "code",
   "execution_count": 60,
   "metadata": {},
   "outputs": [
    {
     "data": {
      "text/plain": [
       "1    1028\n",
       "0     271\n",
       "Name: perfect_10, dtype: int64"
      ]
     },
     "execution_count": 60,
     "metadata": {},
     "output_type": "execute_result"
    }
   ],
   "source": [
    "# sanity check\n",
    "df_master_model.perfect_10.value_counts()"
   ]
  },
  {
   "cell_type": "markdown",
   "metadata": {},
   "source": [
    "At first glance, we can already tell this so-called out-of-10 scale is not the common kind that we would normally expect/ interpret. Observations mainly fall in two categories, and most of them are given a rating of 10 or above.\n",
    "\n",
    "Now let's be probabilistic and see if there is indeed a difference."
   ]
  },
  {
   "cell_type": "code",
   "execution_count": 61,
   "metadata": {},
   "outputs": [
    {
     "data": {
      "text/html": [
       "<table class=\"simpletable\">\n",
       "<caption>OLS Regression Results</caption>\n",
       "<tr>\n",
       "  <th>Dep. Variable:</th>      <td>retweet_count</td>  <th>  R-squared:         </th> <td>   0.852</td> \n",
       "</tr>\n",
       "<tr>\n",
       "  <th>Model:</th>                   <td>OLS</td>       <th>  Adj. R-squared:    </th> <td>   0.852</td> \n",
       "</tr>\n",
       "<tr>\n",
       "  <th>Method:</th>             <td>Least Squares</td>  <th>  F-statistic:       </th> <td>   3723.</td> \n",
       "</tr>\n",
       "<tr>\n",
       "  <th>Date:</th>             <td>Mon, 05 Feb 2018</td> <th>  Prob (F-statistic):</th>  <td>  0.00</td>  \n",
       "</tr>\n",
       "<tr>\n",
       "  <th>Time:</th>                 <td>22:53:00</td>     <th>  Log-Likelihood:    </th> <td> -11406.</td> \n",
       "</tr>\n",
       "<tr>\n",
       "  <th>No. Observations:</th>      <td>  1299</td>      <th>  AIC:               </th> <td>2.282e+04</td>\n",
       "</tr>\n",
       "<tr>\n",
       "  <th>Df Residuals:</th>          <td>  1296</td>      <th>  BIC:               </th> <td>2.283e+04</td>\n",
       "</tr>\n",
       "<tr>\n",
       "  <th>Df Model:</th>              <td>     2</td>      <th>                     </th>     <td> </td>    \n",
       "</tr>\n",
       "<tr>\n",
       "  <th>Covariance Type:</th>      <td>nonrobust</td>    <th>                     </th>     <td> </td>    \n",
       "</tr>\n",
       "</table>\n",
       "<table class=\"simpletable\">\n",
       "<tr>\n",
       "         <td></td>           <th>coef</th>     <th>std err</th>      <th>t</th>      <th>P>|t|</th>  <th>[0.025</th>    <th>0.975]</th>  \n",
       "</tr>\n",
       "<tr>\n",
       "  <th>intercept</th>      <td>   67.3420</td> <td>   96.343</td> <td>    0.699</td> <td> 0.485</td> <td> -121.664</td> <td>  256.348</td>\n",
       "</tr>\n",
       "<tr>\n",
       "  <th>favorite_count</th> <td>    0.3306</td> <td>    0.004</td> <td>   84.276</td> <td> 0.000</td> <td>    0.323</td> <td>    0.338</td>\n",
       "</tr>\n",
       "<tr>\n",
       "  <th>perfect_10</th>     <td> -336.3016</td> <td>  111.114</td> <td>   -3.027</td> <td> 0.003</td> <td> -554.284</td> <td> -118.319</td>\n",
       "</tr>\n",
       "</table>\n",
       "<table class=\"simpletable\">\n",
       "<tr>\n",
       "  <th>Omnibus:</th>       <td>1077.150</td> <th>  Durbin-Watson:     </th> <td>   1.318</td> \n",
       "</tr>\n",
       "<tr>\n",
       "  <th>Prob(Omnibus):</th>  <td> 0.000</td>  <th>  Jarque-Bera (JB):  </th> <td>89947.049</td>\n",
       "</tr>\n",
       "<tr>\n",
       "  <th>Skew:</th>           <td> 3.287</td>  <th>  Prob(JB):          </th> <td>    0.00</td> \n",
       "</tr>\n",
       "<tr>\n",
       "  <th>Kurtosis:</th>       <td>43.232</td>  <th>  Cond. No.          </th> <td>4.58e+04</td> \n",
       "</tr>\n",
       "</table>"
      ],
      "text/plain": [
       "<class 'statsmodels.iolib.summary.Summary'>\n",
       "\"\"\"\n",
       "                            OLS Regression Results                            \n",
       "==============================================================================\n",
       "Dep. Variable:          retweet_count   R-squared:                       0.852\n",
       "Model:                            OLS   Adj. R-squared:                  0.852\n",
       "Method:                 Least Squares   F-statistic:                     3723.\n",
       "Date:                Mon, 05 Feb 2018   Prob (F-statistic):               0.00\n",
       "Time:                        22:53:00   Log-Likelihood:                -11406.\n",
       "No. Observations:                1299   AIC:                         2.282e+04\n",
       "Df Residuals:                    1296   BIC:                         2.283e+04\n",
       "Df Model:                           2                                         \n",
       "Covariance Type:            nonrobust                                         \n",
       "==================================================================================\n",
       "                     coef    std err          t      P>|t|      [0.025      0.975]\n",
       "----------------------------------------------------------------------------------\n",
       "intercept         67.3420     96.343      0.699      0.485    -121.664     256.348\n",
       "favorite_count     0.3306      0.004     84.276      0.000       0.323       0.338\n",
       "perfect_10      -336.3016    111.114     -3.027      0.003    -554.284    -118.319\n",
       "==============================================================================\n",
       "Omnibus:                     1077.150   Durbin-Watson:                   1.318\n",
       "Prob(Omnibus):                  0.000   Jarque-Bera (JB):            89947.049\n",
       "Skew:                           3.287   Prob(JB):                         0.00\n",
       "Kurtosis:                      43.232   Cond. No.                     4.58e+04\n",
       "==============================================================================\n",
       "\n",
       "Warnings:\n",
       "[1] Standard Errors assume that the covariance matrix of the errors is correctly specified.\n",
       "[2] The condition number is large, 4.58e+04. This might indicate that there are\n",
       "strong multicollinearity or other numerical problems.\n",
       "\"\"\""
      ]
     },
     "execution_count": 61,
     "metadata": {},
     "output_type": "execute_result"
    }
   ],
   "source": [
    "### Linear Regression - Retweet count as response variable\n",
    "\n",
    "lm1 = sm.OLS(df_master_model['retweet_count'], \n",
    "            df_master_model[['intercept', 'favorite_count', 'perfect_10']])\n",
    "results = lm1.fit()\n",
    "results.summary()"
   ]
  },
  {
   "cell_type": "code",
   "execution_count": 62,
   "metadata": {
    "scrolled": false
   },
   "outputs": [
    {
     "data": {
      "text/html": [
       "<table class=\"simpletable\">\n",
       "<caption>OLS Regression Results</caption>\n",
       "<tr>\n",
       "  <th>Dep. Variable:</th>     <td>favorite_count</td>  <th>  R-squared:         </th> <td>   0.855</td> \n",
       "</tr>\n",
       "<tr>\n",
       "  <th>Model:</th>                   <td>OLS</td>       <th>  Adj. R-squared:    </th> <td>   0.855</td> \n",
       "</tr>\n",
       "<tr>\n",
       "  <th>Method:</th>             <td>Least Squares</td>  <th>  F-statistic:       </th> <td>   3829.</td> \n",
       "</tr>\n",
       "<tr>\n",
       "  <th>Date:</th>             <td>Mon, 05 Feb 2018</td> <th>  Prob (F-statistic):</th>  <td>  0.00</td>  \n",
       "</tr>\n",
       "<tr>\n",
       "  <th>Time:</th>                 <td>22:53:01</td>     <th>  Log-Likelihood:    </th> <td> -12735.</td> \n",
       "</tr>\n",
       "<tr>\n",
       "  <th>No. Observations:</th>      <td>  1299</td>      <th>  AIC:               </th> <td>2.548e+04</td>\n",
       "</tr>\n",
       "<tr>\n",
       "  <th>Df Residuals:</th>          <td>  1296</td>      <th>  BIC:               </th> <td>2.549e+04</td>\n",
       "</tr>\n",
       "<tr>\n",
       "  <th>Df Model:</th>              <td>     2</td>      <th>                     </th>     <td> </td>    \n",
       "</tr>\n",
       "<tr>\n",
       "  <th>Covariance Type:</th>      <td>nonrobust</td>    <th>                     </th>     <td> </td>    \n",
       "</tr>\n",
       "</table>\n",
       "<table class=\"simpletable\">\n",
       "<tr>\n",
       "        <td></td>           <th>coef</th>     <th>std err</th>      <th>t</th>      <th>P>|t|</th>  <th>[0.025</th>    <th>0.975]</th>  \n",
       "</tr>\n",
       "<tr>\n",
       "  <th>intercept</th>     <td>  254.7455</td> <td>  267.945</td> <td>    0.951</td> <td> 0.342</td> <td> -270.909</td> <td>  780.400</td>\n",
       "</tr>\n",
       "<tr>\n",
       "  <th>retweet_count</th> <td>    2.5580</td> <td>    0.030</td> <td>   84.276</td> <td> 0.000</td> <td>    2.498</td> <td>    2.618</td>\n",
       "</tr>\n",
       "<tr>\n",
       "  <th>perfect_10</th>    <td> 1949.1775</td> <td>  305.403</td> <td>    6.382</td> <td> 0.000</td> <td> 1350.040</td> <td> 2548.315</td>\n",
       "</tr>\n",
       "</table>\n",
       "<table class=\"simpletable\">\n",
       "<tr>\n",
       "  <th>Omnibus:</th>       <td>317.765</td> <th>  Durbin-Watson:     </th> <td>   0.806</td>\n",
       "</tr>\n",
       "<tr>\n",
       "  <th>Prob(Omnibus):</th> <td> 0.000</td>  <th>  Jarque-Bera (JB):  </th> <td>7504.935</td>\n",
       "</tr>\n",
       "<tr>\n",
       "  <th>Skew:</th>          <td> 0.549</td>  <th>  Prob(JB):          </th> <td>    0.00</td>\n",
       "</tr>\n",
       "<tr>\n",
       "  <th>Kurtosis:</th>      <td>14.724</td>  <th>  Cond. No.          </th> <td>1.55e+04</td>\n",
       "</tr>\n",
       "</table>"
      ],
      "text/plain": [
       "<class 'statsmodels.iolib.summary.Summary'>\n",
       "\"\"\"\n",
       "                            OLS Regression Results                            \n",
       "==============================================================================\n",
       "Dep. Variable:         favorite_count   R-squared:                       0.855\n",
       "Model:                            OLS   Adj. R-squared:                  0.855\n",
       "Method:                 Least Squares   F-statistic:                     3829.\n",
       "Date:                Mon, 05 Feb 2018   Prob (F-statistic):               0.00\n",
       "Time:                        22:53:01   Log-Likelihood:                -12735.\n",
       "No. Observations:                1299   AIC:                         2.548e+04\n",
       "Df Residuals:                    1296   BIC:                         2.549e+04\n",
       "Df Model:                           2                                         \n",
       "Covariance Type:            nonrobust                                         \n",
       "=================================================================================\n",
       "                    coef    std err          t      P>|t|      [0.025      0.975]\n",
       "---------------------------------------------------------------------------------\n",
       "intercept       254.7455    267.945      0.951      0.342    -270.909     780.400\n",
       "retweet_count     2.5580      0.030     84.276      0.000       2.498       2.618\n",
       "perfect_10     1949.1775    305.403      6.382      0.000    1350.040    2548.315\n",
       "==============================================================================\n",
       "Omnibus:                      317.765   Durbin-Watson:                   0.806\n",
       "Prob(Omnibus):                  0.000   Jarque-Bera (JB):             7504.935\n",
       "Skew:                           0.549   Prob(JB):                         0.00\n",
       "Kurtosis:                      14.724   Cond. No.                     1.55e+04\n",
       "==============================================================================\n",
       "\n",
       "Warnings:\n",
       "[1] Standard Errors assume that the covariance matrix of the errors is correctly specified.\n",
       "[2] The condition number is large, 1.55e+04. This might indicate that there are\n",
       "strong multicollinearity or other numerical problems.\n",
       "\"\"\""
      ]
     },
     "execution_count": 62,
     "metadata": {},
     "output_type": "execute_result"
    }
   ],
   "source": [
    "### Linear Regression - Favorite count as response variable\n",
    "\n",
    "lm2 = sm.OLS(df_master_model['favorite_count'], \n",
    "            df_master_model[['intercept', 'retweet_count', 'perfect_10']])\n",
    "results = lm2.fit()\n",
    "results.summary()"
   ]
  },
  {
   "cell_type": "markdown",
   "metadata": {},
   "source": [
    "Surprisingly, the ones with what I call 'Perfect 10' do not necessarily get retweeted. In fact, based on the first model above, they are even less likely to be retweeted compared to the not 'Perfect 10' ones, holding everything else constant.\n",
    "\n",
    "On the other hand, the 'Perfect 10' rating does give the favorite count a boost, as shown in the second model above."
   ]
  },
  {
   "cell_type": "markdown",
   "metadata": {},
   "source": [
    "##### 3. What are the dog stages that get retweeted and favorited most? What are the dog stages that receive higher rating? And does certain stage have advantages over others?"
   ]
  },
  {
   "cell_type": "markdown",
   "metadata": {},
   "source": [
    "I'd like to know what dog stages drive the most buzz on the internet.\n",
    "\n",
    "Also, I suspect the reviewers are biased towards certain stages of dogs. I wonder how likely certain stages of dogs will be give a 'Perfect 10', that is, a rating of 10 or above.\n",
    "\n",
    "Let's first filter out the unclassified ones."
   ]
  },
  {
   "cell_type": "code",
   "execution_count": 63,
   "metadata": {},
   "outputs": [],
   "source": [
    "### A copy for modelling\n",
    "\n",
    "df_master_sub = df_master.copy()"
   ]
  },
  {
   "cell_type": "code",
   "execution_count": 64,
   "metadata": {},
   "outputs": [],
   "source": [
    "# exclude unclassified observations\n",
    "df_master_sub = df_master[df_master['dog_stage'] != 'unclassified']"
   ]
  },
  {
   "cell_type": "code",
   "execution_count": 65,
   "metadata": {},
   "outputs": [
    {
     "name": "stdout",
     "output_type": "stream",
     "text": [
      "<class 'pandas.core.frame.DataFrame'>\n",
      "Int64Index: 204 entries, 19 to 1062\n",
      "Data columns (total 20 columns):\n",
      "tweet_id          204 non-null int64\n",
      "timestamp         204 non-null object\n",
      "source            204 non-null object\n",
      "text              204 non-null object\n",
      "expanded_urls     204 non-null object\n",
      "rating            204 non-null int64\n",
      "name              125 non-null object\n",
      "dog_stage         204 non-null object\n",
      "jpg_url           204 non-null object\n",
      "p1                204 non-null object\n",
      "p1_conf           204 non-null float64\n",
      "p1_dog            204 non-null bool\n",
      "p2                204 non-null object\n",
      "p2_conf           204 non-null float64\n",
      "p2_dog            204 non-null bool\n",
      "p3                204 non-null object\n",
      "p3_conf           204 non-null float64\n",
      "p3_dog            204 non-null bool\n",
      "favorite_count    204 non-null int64\n",
      "retweet_count     204 non-null int64\n",
      "dtypes: bool(3), float64(3), int64(4), object(10)\n",
      "memory usage: 29.3+ KB\n"
     ]
    }
   ],
   "source": [
    "# sanity check\n",
    "df_master_sub.info()"
   ]
  },
  {
   "cell_type": "code",
   "execution_count": 66,
   "metadata": {},
   "outputs": [
    {
     "data": {
      "text/plain": [
       "pupper     143\n",
       "doggo       42\n",
       "puppo       15\n",
       "floofer      4\n",
       "Name: dog_stage, dtype: int64"
      ]
     },
     "execution_count": 66,
     "metadata": {},
     "output_type": "execute_result"
    }
   ],
   "source": [
    "# check on observations of each stage\n",
    "df_master_sub.dog_stage.value_counts()"
   ]
  },
  {
   "cell_type": "markdown",
   "metadata": {},
   "source": [
    "Pupper seems to be the most prevalent stage, which may imply it generally has higher popularity. Let's focus on the first three stages and exclude floofer, given the fact that it's only got four observations in the sample."
   ]
  },
  {
   "cell_type": "code",
   "execution_count": 67,
   "metadata": {},
   "outputs": [],
   "source": [
    "# query the first 3 stages\n",
    "df_master_queried = df_master_sub.query('dog_stage == \"pupper\" | dog_stage == \"doggo\" | dog_stage == \"puppo\"')"
   ]
  },
  {
   "cell_type": "code",
   "execution_count": 68,
   "metadata": {},
   "outputs": [
    {
     "data": {
      "text/plain": [
       "pupper    143\n",
       "doggo      42\n",
       "puppo      15\n",
       "Name: dog_stage, dtype: int64"
      ]
     },
     "execution_count": 68,
     "metadata": {},
     "output_type": "execute_result"
    }
   ],
   "source": [
    "# sanity check\n",
    "df_master_queried.dog_stage.value_counts()"
   ]
  },
  {
   "cell_type": "code",
   "execution_count": 69,
   "metadata": {},
   "outputs": [
    {
     "data": {
      "text/plain": [
       "Text(0.5,1,'Number of Observations of Each Rating for Each Dog Stage')"
      ]
     },
     "execution_count": 69,
     "metadata": {},
     "output_type": "execute_result"
    },
    {
     "data": {
      "image/png": "[encoded data removed]",
      "text/plain": [
       "<matplotlib.figure.Figure at 0x1c1e2032b0>"
      ]
     },
     "metadata": {},
     "output_type": "display_data"
    }
   ],
   "source": [
    "# number of observations of each rating for each dog stage\n",
    "sns.countplot(x='rating', hue='dog_stage', data=df_master_queried)\n",
    "plt.xlim([0, 10])\n",
    "plt.legend(loc='center left', \n",
    "           title='Dog Stages', \n",
    "           bbox_to_anchor=(1, 0.5), \n",
    "           fancybox=True, \n",
    "           shadow=True)\n",
    "plt.xlabel('Rating')\n",
    "plt.ylabel('Number of Observations')\n",
    "plt.title('Number of Observations of Each Rating for Each Dog Stage')"
   ]
  },
  {
   "cell_type": "code",
   "execution_count": 70,
   "metadata": {},
   "outputs": [
    {
     "data": {
      "text/plain": [
       "Text(0.5,1,'Distribution of Retweet Count for Each Dog Stage')"
      ]
     },
     "execution_count": 70,
     "metadata": {},
     "output_type": "execute_result"
    },
    {
     "data": {
      "image/png": "[encoded data removed]",
      "text/plain": [
       "<matplotlib.figure.Figure at 0x1c1dbeda20>"
      ]
     },
     "metadata": {},
     "output_type": "display_data"
    }
   ],
   "source": [
    "# a boxplot of retweet count for each dog stage\n",
    "sns.boxplot(x='dog_stage', y='retweet_count', data=df_master_queried)\n",
    "plt.ylim([0, 20000])\n",
    "plt.xlabel('Dog Stage')\n",
    "plt.ylabel('Retweet Count')\n",
    "plt.title('Distribution of Retweet Count for Each Dog Stage')"
   ]
  },
  {
   "cell_type": "code",
   "execution_count": 71,
   "metadata": {},
   "outputs": [
    {
     "data": {
      "text/plain": [
       "Text(0.5,1,'Distribution of Favorite Count for Each Dog Stage')"
      ]
     },
     "execution_count": 71,
     "metadata": {},
     "output_type": "execute_result"
    },
    {
     "data": {
      "image/png": "[encoded data removed]",
      "text/plain": [
       "<matplotlib.figure.Figure at 0x1c1cf279b0>"
      ]
     },
     "metadata": {},
     "output_type": "display_data"
    }
   ],
   "source": [
    "# a boxplot of favorite count for each dog stage\n",
    "sns.boxplot(x='dog_stage', y='favorite_count', data=df_master_queried)\n",
    "plt.ylim([0, 60000])\n",
    "plt.xlabel('Dog Stage')\n",
    "plt.ylabel('Favorite Count')\n",
    "plt.title('Distribution of Favorite Count for Each Dog Stage')"
   ]
  },
  {
   "cell_type": "code",
   "execution_count": 72,
   "metadata": {
    "scrolled": true
   },
   "outputs": [
    {
     "data": {
      "text/html": [
       "<div>\n",
       "<style scoped>\n",
       "    .dataframe tbody tr th:only-of-type {\n",
       "        vertical-align: middle;\n",
       "    }\n",
       "\n",
       "    .dataframe tbody tr th {\n",
       "        vertical-align: top;\n",
       "    }\n",
       "\n",
       "    .dataframe thead tr th {\n",
       "        text-align: left;\n",
       "    }\n",
       "\n",
       "    .dataframe thead tr:last-of-type th {\n",
       "        text-align: right;\n",
       "    }\n",
       "</style>\n",
       "<table border=\"1\" class=\"dataframe\">\n",
       "  <thead>\n",
       "    <tr>\n",
       "      <th></th>\n",
       "      <th colspan=\"8\" halign=\"left\">retweet_count</th>\n",
       "      <th colspan=\"8\" halign=\"left\">favorite_count</th>\n",
       "    </tr>\n",
       "    <tr>\n",
       "      <th></th>\n",
       "      <th>count</th>\n",
       "      <th>mean</th>\n",
       "      <th>std</th>\n",
       "      <th>min</th>\n",
       "      <th>25%</th>\n",
       "      <th>50%</th>\n",
       "      <th>75%</th>\n",
       "      <th>max</th>\n",
       "      <th>count</th>\n",
       "      <th>mean</th>\n",
       "      <th>std</th>\n",
       "      <th>min</th>\n",
       "      <th>25%</th>\n",
       "      <th>50%</th>\n",
       "      <th>75%</th>\n",
       "      <th>max</th>\n",
       "    </tr>\n",
       "    <tr>\n",
       "      <th>dog_stage</th>\n",
       "      <th></th>\n",
       "      <th></th>\n",
       "      <th></th>\n",
       "      <th></th>\n",
       "      <th></th>\n",
       "      <th></th>\n",
       "      <th></th>\n",
       "      <th></th>\n",
       "      <th></th>\n",
       "      <th></th>\n",
       "      <th></th>\n",
       "      <th></th>\n",
       "      <th></th>\n",
       "      <th></th>\n",
       "      <th></th>\n",
       "      <th></th>\n",
       "    </tr>\n",
       "  </thead>\n",
       "  <tbody>\n",
       "    <tr>\n",
       "      <th>doggo</th>\n",
       "      <td>42.0</td>\n",
       "      <td>5305.428571</td>\n",
       "      <td>7718.476063</td>\n",
       "      <td>977.0</td>\n",
       "      <td>1960.0</td>\n",
       "      <td>2708.5</td>\n",
       "      <td>4121.75</td>\n",
       "      <td>41504.0</td>\n",
       "      <td>42.0</td>\n",
       "      <td>15477.500000</td>\n",
       "      <td>17228.378051</td>\n",
       "      <td>3631.0</td>\n",
       "      <td>6845.0</td>\n",
       "      <td>10146.5</td>\n",
       "      <td>13855.25</td>\n",
       "      <td>94435.0</td>\n",
       "    </tr>\n",
       "    <tr>\n",
       "      <th>pupper</th>\n",
       "      <td>143.0</td>\n",
       "      <td>2188.699301</td>\n",
       "      <td>2687.039352</td>\n",
       "      <td>101.0</td>\n",
       "      <td>682.0</td>\n",
       "      <td>1245.0</td>\n",
       "      <td>2416.00</td>\n",
       "      <td>17476.0</td>\n",
       "      <td>143.0</td>\n",
       "      <td>6658.601399</td>\n",
       "      <td>7669.005327</td>\n",
       "      <td>680.0</td>\n",
       "      <td>2320.5</td>\n",
       "      <td>3298.0</td>\n",
       "      <td>7802.00</td>\n",
       "      <td>39206.0</td>\n",
       "    </tr>\n",
       "    <tr>\n",
       "      <th>puppo</th>\n",
       "      <td>15.0</td>\n",
       "      <td>4475.533333</td>\n",
       "      <td>5008.411894</td>\n",
       "      <td>703.0</td>\n",
       "      <td>1566.0</td>\n",
       "      <td>2990.0</td>\n",
       "      <td>4621.00</td>\n",
       "      <td>19425.0</td>\n",
       "      <td>15.0</td>\n",
       "      <td>15122.400000</td>\n",
       "      <td>14402.444469</td>\n",
       "      <td>3239.0</td>\n",
       "      <td>6384.5</td>\n",
       "      <td>10012.0</td>\n",
       "      <td>18809.50</td>\n",
       "      <td>56707.0</td>\n",
       "    </tr>\n",
       "  </tbody>\n",
       "</table>\n",
       "</div>"
      ],
      "text/plain": [
       "          retweet_count                                                   \\\n",
       "                  count         mean          std    min     25%     50%   \n",
       "dog_stage                                                                  \n",
       "doggo              42.0  5305.428571  7718.476063  977.0  1960.0  2708.5   \n",
       "pupper            143.0  2188.699301  2687.039352  101.0   682.0  1245.0   \n",
       "puppo              15.0  4475.533333  5008.411894  703.0  1566.0  2990.0   \n",
       "\n",
       "                            favorite_count                              \\\n",
       "               75%      max          count          mean           std   \n",
       "dog_stage                                                                \n",
       "doggo      4121.75  41504.0           42.0  15477.500000  17228.378051   \n",
       "pupper     2416.00  17476.0          143.0   6658.601399   7669.005327   \n",
       "puppo      4621.00  19425.0           15.0  15122.400000  14402.444469   \n",
       "\n",
       "                                                       \n",
       "              min     25%      50%       75%      max  \n",
       "dog_stage                                              \n",
       "doggo      3631.0  6845.0  10146.5  13855.25  94435.0  \n",
       "pupper      680.0  2320.5   3298.0   7802.00  39206.0  \n",
       "puppo      3239.0  6384.5  10012.0  18809.50  56707.0  "
      ]
     },
     "execution_count": 72,
     "metadata": {},
     "output_type": "execute_result"
    }
   ],
   "source": [
    "# stats summary for each dog stage\n",
    "df_master_queried.groupby(['dog_stage'])['retweet_count', 'favorite_count'].describe()"
   ]
  },
  {
   "cell_type": "markdown",
   "metadata": {},
   "source": [
    "Although pupper is the most prevalent, based on the high-level exploration, it seems doggo and puppo possess higher popularity. \n",
    "\n",
    "Nonetheless, given the fact that the numbers of observations of both doggo and puppo are much lower than that of pupper, we cannot really say the latter drives less buzz on the internet. Plus there are some ridiculou outliers in the sample, which distorts the distribution."
   ]
  },
  {
   "cell_type": "markdown",
   "metadata": {},
   "source": [
    "Let's now see if the reviewers are biased towards certain dog stages."
   ]
  },
  {
   "cell_type": "code",
   "execution_count": 73,
   "metadata": {},
   "outputs": [
    {
     "name": "stderr",
     "output_type": "stream",
     "text": [
      "/anaconda/lib/python3.6/site-packages/ipykernel/__main__.py:2: SettingWithCopyWarning: \n",
      "A value is trying to be set on a copy of a slice from a DataFrame.\n",
      "Try using .loc[row_indexer,col_indexer] = value instead\n",
      "\n",
      "See the caveats in the documentation: http://pandas.pydata.org/pandas-docs/stable/indexing.html#indexing-view-versus-copy\n",
      "  from ipykernel import kernelapp as app\n"
     ]
    }
   ],
   "source": [
    "# create a column that stores binary values\n",
    "df_master_queried['perfect_10'] = np.where(df_master_queried.eval('rating >= 10'), 1, 0)"
   ]
  },
  {
   "cell_type": "code",
   "execution_count": 74,
   "metadata": {},
   "outputs": [],
   "source": [
    "### Query individual dog stage\n",
    "\n",
    "df_doggo = df_master_queried.query('dog_stage == \"doggo\"')\n",
    "\n",
    "df_puppo = df_master_queried.query('dog_stage == \"puppo\"')\n",
    "\n",
    "df_pupper = df_master_queried.query('dog_stage == \"pupper\"')"
   ]
  },
  {
   "cell_type": "code",
   "execution_count": 75,
   "metadata": {},
   "outputs": [
    {
     "name": "stdout",
     "output_type": "stream",
     "text": [
      "0.9047619047619048 0.9333333333333333 0.8041958041958042\n"
     ]
    }
   ],
   "source": [
    "### 'Perfect 10' rate for each stage\n",
    "\n",
    "doggo_perfect_10 = df_doggo.perfect_10.mean()\n",
    "\n",
    "puppo_perfect_10 = df_puppo.perfect_10.mean()\n",
    "\n",
    "pupper_perfect_10 = df_pupper.perfect_10.mean()\n",
    "\n",
    "print(doggo_perfect_10, puppo_perfect_10, pupper_perfect_10)"
   ]
  },
  {
   "cell_type": "code",
   "execution_count": 76,
   "metadata": {},
   "outputs": [
    {
     "name": "stdout",
     "output_type": "stream",
     "text": [
      "0.835\n"
     ]
    }
   ],
   "source": [
    "### 'Perfect 10' rate overall\n",
    "\n",
    "overall_perfect_10 = df_master_queried.perfect_10.mean()\n",
    "\n",
    "print(overall_perfect_10)"
   ]
  },
  {
   "cell_type": "markdown",
   "metadata": {},
   "source": [
    "At first glance, it seems puppo has a higher chance of getting 'Perfect 10'. Let's build a model to see if we can draw any conclusions"
   ]
  },
  {
   "cell_type": "code",
   "execution_count": 77,
   "metadata": {},
   "outputs": [
    {
     "name": "stderr",
     "output_type": "stream",
     "text": [
      "/anaconda/lib/python3.6/site-packages/ipykernel/__main__.py:2: SettingWithCopyWarning: \n",
      "A value is trying to be set on a copy of a slice from a DataFrame.\n",
      "Try using .loc[row_indexer,col_indexer] = value instead\n",
      "\n",
      "See the caveats in the documentation: http://pandas.pydata.org/pandas-docs/stable/indexing.html#indexing-view-versus-copy\n",
      "  from ipykernel import kernelapp as app\n"
     ]
    }
   ],
   "source": [
    "# intercept for modelling\n",
    "df_master_queried['intercept'] = 1"
   ]
  },
  {
   "cell_type": "code",
   "execution_count": 78,
   "metadata": {},
   "outputs": [
    {
     "name": "stderr",
     "output_type": "stream",
     "text": [
      "/anaconda/lib/python3.6/site-packages/pandas/core/frame.py:2540: SettingWithCopyWarning: \n",
      "A value is trying to be set on a copy of a slice from a DataFrame.\n",
      "Try using .loc[row_indexer,col_indexer] = value instead\n",
      "\n",
      "See the caveats in the documentation: http://pandas.pydata.org/pandas-docs/stable/indexing.html#indexing-view-versus-copy\n",
      "  self[k1] = value[k2]\n"
     ]
    }
   ],
   "source": [
    "# dummy columns for modelling\n",
    "df_master_queried[['doggo', 'pupper', 'puppo']] = pd.get_dummies(df_master_queried['dog_stage'])[['doggo', 'pupper', 'puppo']]"
   ]
  },
  {
   "cell_type": "code",
   "execution_count": 79,
   "metadata": {},
   "outputs": [
    {
     "name": "stdout",
     "output_type": "stream",
     "text": [
      "<class 'pandas.core.frame.DataFrame'>\n",
      "Int64Index: 200 entries, 19 to 1062\n",
      "Data columns (total 25 columns):\n",
      "tweet_id          200 non-null int64\n",
      "timestamp         200 non-null object\n",
      "source            200 non-null object\n",
      "text              200 non-null object\n",
      "expanded_urls     200 non-null object\n",
      "rating            200 non-null int64\n",
      "name              122 non-null object\n",
      "dog_stage         200 non-null object\n",
      "jpg_url           200 non-null object\n",
      "p1                200 non-null object\n",
      "p1_conf           200 non-null float64\n",
      "p1_dog            200 non-null bool\n",
      "p2                200 non-null object\n",
      "p2_conf           200 non-null float64\n",
      "p2_dog            200 non-null bool\n",
      "p3                200 non-null object\n",
      "p3_conf           200 non-null float64\n",
      "p3_dog            200 non-null bool\n",
      "favorite_count    200 non-null int64\n",
      "retweet_count     200 non-null int64\n",
      "perfect_10        200 non-null int64\n",
      "intercept         200 non-null int64\n",
      "doggo             200 non-null uint8\n",
      "pupper            200 non-null uint8\n",
      "puppo             200 non-null uint8\n",
      "dtypes: bool(3), float64(3), int64(6), object(10), uint8(3)\n",
      "memory usage: 42.4+ KB\n"
     ]
    }
   ],
   "source": [
    "# sanity check\n",
    "df_master_queried.info()"
   ]
  },
  {
   "cell_type": "code",
   "execution_count": 80,
   "metadata": {},
   "outputs": [
    {
     "name": "stdout",
     "output_type": "stream",
     "text": [
      "Optimization terminated successfully.\n",
      "         Current function value: 0.438002\n",
      "         Iterations 7\n"
     ]
    },
    {
     "data": {
      "text/html": [
       "<table class=\"simpletable\">\n",
       "<caption>Logit Regression Results</caption>\n",
       "<tr>\n",
       "  <th>Dep. Variable:</th>    <td>perfect_10</td>    <th>  No. Observations:  </th>  <td>   200</td> \n",
       "</tr>\n",
       "<tr>\n",
       "  <th>Model:</th>               <td>Logit</td>      <th>  Df Residuals:      </th>  <td>   197</td> \n",
       "</tr>\n",
       "<tr>\n",
       "  <th>Method:</th>               <td>MLE</td>       <th>  Df Model:          </th>  <td>     2</td> \n",
       "</tr>\n",
       "<tr>\n",
       "  <th>Date:</th>          <td>Mon, 05 Feb 2018</td> <th>  Pseudo R-squ.:     </th>  <td>0.02203</td>\n",
       "</tr>\n",
       "<tr>\n",
       "  <th>Time:</th>              <td>22:53:20</td>     <th>  Log-Likelihood:    </th> <td> -87.600</td>\n",
       "</tr>\n",
       "<tr>\n",
       "  <th>converged:</th>           <td>True</td>       <th>  LL-Null:           </th> <td> -89.574</td>\n",
       "</tr>\n",
       "<tr>\n",
       "  <th> </th>                      <td> </td>        <th>  LLR p-value:       </th>  <td>0.1390</td> \n",
       "</tr>\n",
       "</table>\n",
       "<table class=\"simpletable\">\n",
       "<tr>\n",
       "      <td></td>         <th>coef</th>     <th>std err</th>      <th>z</th>      <th>P>|z|</th>  <th>[0.025</th>    <th>0.975]</th>  \n",
       "</tr>\n",
       "<tr>\n",
       "  <th>intercept</th> <td>    2.6391</td> <td>    1.035</td> <td>    2.550</td> <td> 0.011</td> <td>    0.610</td> <td>    4.668</td>\n",
       "</tr>\n",
       "<tr>\n",
       "  <th>doggo</th>     <td>   -0.3878</td> <td>    1.161</td> <td>   -0.334</td> <td> 0.738</td> <td>   -2.663</td> <td>    1.888</td>\n",
       "</tr>\n",
       "<tr>\n",
       "  <th>pupper</th>    <td>   -1.2263</td> <td>    1.056</td> <td>   -1.161</td> <td> 0.246</td> <td>   -3.297</td> <td>    0.844</td>\n",
       "</tr>\n",
       "</table>"
      ],
      "text/plain": [
       "<class 'statsmodels.iolib.summary.Summary'>\n",
       "\"\"\"\n",
       "                           Logit Regression Results                           \n",
       "==============================================================================\n",
       "Dep. Variable:             perfect_10   No. Observations:                  200\n",
       "Model:                          Logit   Df Residuals:                      197\n",
       "Method:                           MLE   Df Model:                            2\n",
       "Date:                Mon, 05 Feb 2018   Pseudo R-squ.:                 0.02203\n",
       "Time:                        22:53:20   Log-Likelihood:                -87.600\n",
       "converged:                       True   LL-Null:                       -89.574\n",
       "                                        LLR p-value:                    0.1390\n",
       "==============================================================================\n",
       "                 coef    std err          z      P>|z|      [0.025      0.975]\n",
       "------------------------------------------------------------------------------\n",
       "intercept      2.6391      1.035      2.550      0.011       0.610       4.668\n",
       "doggo         -0.3878      1.161     -0.334      0.738      -2.663       1.888\n",
       "pupper        -1.2263      1.056     -1.161      0.246      -3.297       0.844\n",
       "==============================================================================\n",
       "\"\"\""
      ]
     },
     "execution_count": 80,
     "metadata": {},
     "output_type": "execute_result"
    }
   ],
   "source": [
    "### Logistic Regression - Peerfect 10 as response variable\n",
    "\n",
    "logit_mod = sm.Logit(df_master_queried['perfect_10'], \n",
    "                    df_master_queried[['intercept', 'doggo', 'pupper']])\n",
    "\n",
    "logit_mod_results = logit_mod.fit()\n",
    "\n",
    "logit_mod_results.summary()"
   ]
  },
  {
   "cell_type": "markdown",
   "metadata": {},
   "source": [
    "Both the doggo and pupper coefficients are associated with a p-value higher than 0.05; which suggests the numbers are not conventionally and statistically significant."
   ]
  },
  {
   "cell_type": "markdown",
   "metadata": {},
   "source": [
    "Are doggo and pupper any different from each other?\n",
    "\n",
    "Let's try to validate it by boostrapping."
   ]
  },
  {
   "cell_type": "code",
   "execution_count": 81,
   "metadata": {},
   "outputs": [
    {
     "name": "stdout",
     "output_type": "stream",
     "text": [
      "0.827027027027027\n"
     ]
    }
   ],
   "source": [
    "### The 'Perfect 10' rate for doggo and pupper\n",
    "\n",
    "dog_pup_sum = df_doggo.perfect_10.sum() + df_pupper.perfect_10.sum()\n",
    "\n",
    "dog_pup_mean = dog_pup_sum / (len(df_doggo) + len(df_pupper))\n",
    "                              \n",
    "print(dog_pup_mean)"
   ]
  },
  {
   "cell_type": "code",
   "execution_count": 82,
   "metadata": {},
   "outputs": [],
   "source": [
    "### Use the binomial function to perform simulation\n",
    "\n",
    "sim_doggo_perfect_10 = np.random.binomial(len(df_doggo), dog_pup_mean, 10000) / len(df_doggo)\n",
    "\n",
    "sim_pupper_perfect_10 = np.random.binomial(len(df_pupper), dog_pup_mean, 10000) / len(df_pupper)\n",
    "\n",
    "p_diffs = sim_doggo_perfect_10 - sim_pupper_perfect_10"
   ]
  },
  {
   "cell_type": "code",
   "execution_count": 83,
   "metadata": {},
   "outputs": [
    {
     "data": {
      "text/plain": [
       "(array([   3.,   18.,  167.,  623., 1778., 2919., 2752., 1390.,  319.,\n",
       "          31.]),\n",
       " array([-0.30685981, -0.253663  , -0.2004662 , -0.1472694 , -0.09407259,\n",
       "        -0.04087579,  0.01232101,  0.06551782,  0.11871462,  0.17191142,\n",
       "         0.22510823]),\n",
       " <a list of 10 Patch objects>)"
      ]
     },
     "execution_count": 83,
     "metadata": {},
     "output_type": "execute_result"
    },
    {
     "data": {
      "image/png": "[encoded data removed]",
      "text/plain": [
       "<matplotlib.figure.Figure at 0x1c1d805a90>"
      ]
     },
     "metadata": {},
     "output_type": "display_data"
    }
   ],
   "source": [
    "# sampling distribution of the bootstrap replicates under null\n",
    "plt.hist(p_diffs)"
   ]
  },
  {
   "cell_type": "code",
   "execution_count": 84,
   "metadata": {
    "scrolled": true
   },
   "outputs": [
    {
     "data": {
      "text/plain": [
       "<matplotlib.legend.Legend at 0x1c1c685128>"
      ]
     },
     "execution_count": 84,
     "metadata": {},
     "output_type": "execute_result"
    },
    {
     "data": {
      "image/png": "[encoded data removed]",
      "text/plain": [
       "<matplotlib.figure.Figure at 0x1c1c97c5c0>"
      ]
     },
     "metadata": {},
     "output_type": "display_data"
    }
   ],
   "source": [
    "### sampling distribution under null compared to emperical value\n",
    "\n",
    "null_vals = np.random.normal(0, p_diffs.std(), len(p_diffs))\n",
    "\n",
    "obs_diff = doggo_perfect_10 - pupper_perfect_10\n",
    "\n",
    "ptile_low = np.percentile(null_vals, 2.5)\n",
    "\n",
    "ptile_high = np.percentile(null_vals, 97.5)\n",
    "\n",
    "plt.hist(null_vals)\n",
    "plt.axvline(obs_diff, color='red', label='Observed difference')\n",
    "plt.axvline(ptile_low, color='yellow', label='2.5th percentile')\n",
    "plt.axvline(ptile_high, color='yellow', label='97.5th percentile')\n",
    "plt.title('Sampling Distribution of Difference in Doggo/Pupper Perfect 10')\n",
    "plt.xlabel('Difference in Conversion')\n",
    "plt.legend(loc='center left', \n",
    "           bbox_to_anchor=(1, 0.5), \n",
    "           fancybox=True, \n",
    "           shadow=True)"
   ]
  },
  {
   "cell_type": "code",
   "execution_count": 85,
   "metadata": {},
   "outputs": [
    {
     "name": "stdout",
     "output_type": "stream",
     "text": [
      "p-value = 0.0692\n"
     ]
    }
   ],
   "source": [
    "### P-value\n",
    "\n",
    "p_val = (null_vals > obs_diff).mean()\n",
    "\n",
    "print('p-value =', p_val)"
   ]
  },
  {
   "cell_type": "markdown",
   "metadata": {},
   "source": [
    "The p-value is greater than 0.05, which implies that the results are not conventionally and statistically significant."
   ]
  },
  {
   "cell_type": "code",
   "execution_count": 86,
   "metadata": {},
   "outputs": [
    {
     "name": "stdout",
     "output_type": "stream",
     "text": [
      "t-statistic =  1.775, p-value = 0.0794\n"
     ]
    }
   ],
   "source": [
    "### T-statistic and P-value\n",
    "\n",
    "t_stat, p_val = st.ttest_ind(df_doggo.perfect_10, df_pupper.perfect_10, equal_var=False)\n",
    "\n",
    "print('t-statistic = %6.3f, p-value = %6.4f' % (t_stat, p_val))"
   ]
  },
  {
   "cell_type": "markdown",
   "metadata": {},
   "source": [
    "Based on the t-test, we also stick with the null."
   ]
  }
 ],
 "metadata": {
  "kernelspec": {
   "display_name": "Python [default]",
   "language": "python",
   "name": "python3"
  },
  "language_info": {
   "codemirror_mode": {
    "name": "ipython",
    "version": 3
   },
   "file_extension": ".py",
   "mimetype": "text/x-python",
   "name": "python",
   "nbconvert_exporter": "python",
   "pygments_lexer": "ipython3",
   "version": "3.6.4"
  }
 },
 "nbformat": 4,
 "nbformat_minor": 2
}
