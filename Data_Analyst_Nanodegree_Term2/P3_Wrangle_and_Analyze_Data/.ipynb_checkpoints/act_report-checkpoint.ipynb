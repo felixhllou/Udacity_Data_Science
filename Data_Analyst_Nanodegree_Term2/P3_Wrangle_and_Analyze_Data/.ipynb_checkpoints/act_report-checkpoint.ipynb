{
 "cells": [
  {
   "cell_type": "markdown",
   "metadata": {},
   "source": [
    "# Investigate WeRateDogs Tweets Data"
   ]
  },
  {
   "cell_type": "markdown",
   "metadata": {},
   "source": [
    "This report documents the findings when investigating the WeRateDogs dataset. [WeRateDogs](https://twitter.com/dog_rates) is a Twitter account that rates people's dogs with a humorous comment about the dog. It has a very high popularity and it currently has about 5.49M followers. The dataset also consists of information that describes the performance of a neural network on recognizing dog images."
   ]
  },
  {
   "cell_type": "markdown",
   "metadata": {},
   "source": [
    "## Objectives"
   ]
  },
  {
   "cell_type": "markdown",
   "metadata": {},
   "source": [
    "1. What are the most often predictions of the neural network algorithm?\n",
    "2. Does the rating have any impact on social virality? That is, how influencial is WeRateDogs?\n",
    "3. What are the dog stages that receive higher rating? And does certain stage have advantages over others?"
   ]
  },
  {
   "cell_type": "markdown",
   "metadata": {},
   "source": [
    "### 1. What are the most often predictions of the neural network algorithm?"
   ]
  },
  {
   "cell_type": "markdown",
   "metadata": {},
   "source": [
    "The 3 dog breeds that show up most often in the algorithm's predictions are Golden Retriever, Labrador Retriever, and Chihuahua. The average confidence of predictions towards these dog breeds are 0.71, 0.65, 0.60 respectively (Rounded to 2 decimal place). "
   ]
  },
  {
   "cell_type": "markdown",
   "metadata": {},
   "source": [
    "The algorithm seems to be more confident towards predicting Golden Retriever. More or less, this could imply that the algorithm performs better when it is shown a Golden Retriever image. Although we are not sure how the neural network is trained, the predictions towards these dog breeds are not the network's most confident ones. In other words, the network might not be positioned/ trained well enough as a dog breed classifier."
   ]
  },
  {
   "cell_type": "markdown",
   "metadata": {},
   "source": [
    "### 2. Does the rating have any impact on social virality? That is, how influencial is WeRateDogs?"
   ]
  },
  {
   "cell_type": "markdown",
   "metadata": {},
   "source": [
    "The Twitter account is devoted to humorously reviewing pictures of dogs doing adorable poses, often giving them scores above 10/10. In other words, the ceiling of the scale could be interpreted as a threshold, which separates the ridiculously humorous ones from the regular ones. The rating could be intrepreted binomially, in which consists of two categories: "
   ]
  },
  {
   "cell_type": "markdown",
   "metadata": {},
   "source": [
    "Rating < 10"
   ]
  },
  {
   "cell_type": "markdown",
   "metadata": {},
   "source": [
    "Rating >= 10"
   ]
  },
  {
   "cell_type": "markdown",
   "metadata": {},
   "source": [
    "`Perfect 10` refers to the ones that are given a rating of 10 or above. Note that this is not an official term from WeRateDogs, and it only applies to this dataset for the purporse of analysis."
   ]
  },
  {
   "cell_type": "markdown",
   "metadata": {},
   "source": [
    "When using Linear Regression to model the data, we found that whether or not a dog image is rated 10 or above does have some impact on online social community."
   ]
  },
  {
   "cell_type": "markdown",
   "metadata": {},
   "source": [
    "If the dog image is a `Perfect 10`, it gets about 1949 more favorite counts compared to those that are not `Perfect 10`."
   ]
  },
  {
   "cell_type": "markdown",
   "metadata": {},
   "source": [
    "Nonetheless, and surprisingly, this `Perfect 10` does not really drive people to retweet. Based on the model, If the dog image is a `Perfect 10`, it gets about 336 less retweet counts compared to those that are not `Perfect 10`."
   ]
  },
  {
   "cell_type": "markdown",
   "metadata": {},
   "source": [
    "One possible and intuitive explanation for this scenario is people are more willing to 'collect' than to 'share'. "
   ]
  },
  {
   "cell_type": "markdown",
   "metadata": {},
   "source": [
    "### 3. What are the dog stages that receive higher rating? And does certain stage have advantages over others?"
   ]
  },
  {
   "cell_type": "markdown",
   "metadata": {},
   "source": [
    "To caveat, there are a lot observations that are unclassified for dog stages, which were excluded when performing analysis. In other words, this question was addressed based on a subset of the dataset."
   ]
  },
  {
   "cell_type": "markdown",
   "metadata": {},
   "source": [
    "Pupper seems to be the most prevalent dog stages, followed by doggo, puppo, and floofer. And the distributions of retweet counts and favorite counts of the first 3 dog stages are as follow:"
   ]
  },
  {
   "attachments": {},
   "cell_type": "markdown",
   "metadata": {},
   "source": [
    "![title](rt_count.png)"
   ]
  },
  {
   "cell_type": "markdown",
   "metadata": {},
   "source": [
    "![title](f_count.png)"
   ]
  },
  {
   "cell_type": "markdown",
   "metadata": {},
   "source": [
    "There is also no statistically significant evidence found regarding WeRateDogs are biased towards rating certain dog stages. Below is a sampling distribution done by bootstrapping that describes how the observed difference falls within a 95% confidence interval."
   ]
  },
  {
   "attachments": {},
   "cell_type": "markdown",
   "metadata": {},
   "source": [
    "![title](sample_dist.png)"
   ]
  }
 ],
 "metadata": {
  "kernelspec": {
   "display_name": "Python [conda env:anaconda]",
   "language": "python",
   "name": "conda-env-anaconda-py"
  },
  "language_info": {
   "codemirror_mode": {
    "name": "ipython",
    "version": 3
   },
   "file_extension": ".py",
   "mimetype": "text/x-python",
   "name": "python",
   "nbconvert_exporter": "python",
   "pygments_lexer": "ipython3",
   "version": "3.6.4"
  }
 },
 "nbformat": 4,
 "nbformat_minor": 2
}
