{
 "cells": [
  {
   "cell_type": "markdown",
   "metadata": {},
   "source": [
    "# Summary"
   ]
  },
  {
   "cell_type": "markdown",
   "metadata": {},
   "source": [
    "The visualization shows the progress of world development over the course of 10 years. It focuses on 2 factors: "
   ]
  },
  {
   "cell_type": "markdown",
   "metadata": {},
   "source": [
    "1. GDP Growth\n",
    "2. Population Growth"
   ]
  },
  {
   "cell_type": "markdown",
   "metadata": {},
   "source": [
    "The goal is to give audience a sense of how countries perform differently based on these 2 factors. In particular, major economies do not necessarily experience the greatest growth in the world. For better understanding, countries are put into 2 categories: [G20 (Group of Twenty)](https://en.wikipedia.org/wiki/G20) and other. The former represents the major economies in the world."
   ]
  },
  {
   "cell_type": "markdown",
   "metadata": {},
   "source": [
    "Here are the links to the initial version and the final version of the visualization:"
   ]
  },
  {
   "cell_type": "markdown",
   "metadata": {},
   "source": [
    "[Initial Version (Story)](https://public.tableau.com/profile/felix.lou#!/vizhome/P4_Data_Visualization/WorldDevelopmentin10Years?publish=yes)"
   ]
  },
  {
   "cell_type": "markdown",
   "metadata": {},
   "source": [
    "[Initial Version (Worldview Dashboard)](https://public.tableau.com/profile/felix.lou#!/vizhome/P4_Data_Visualization/Dashboard_Worldview_V1)"
   ]
  },
  {
   "cell_type": "markdown",
   "metadata": {},
   "source": [
    "[Initial Version (Relationship Dashboard)](https://public.tableau.com/profile/felix.lou#!/vizhome/P4_Data_Visualization/Dashboard_on_Relationships_V1)"
   ]
  },
  {
   "cell_type": "markdown",
   "metadata": {},
   "source": [
    "[Final Version (Story)](https://public.tableau.com/profile/felix.lou#!/vizhome/P4_Data_Visualization/WorldDevelopmentin10Years_V2?publish=yes)"
   ]
  },
  {
   "cell_type": "markdown",
   "metadata": {},
   "source": [
    "[Final Version (Worldview Dashboard)](https://public.tableau.com/profile/felix.lou#!/vizhome/P4_Data_Visualization/Dashboard_Worldview_V2)"
   ]
  },
  {
   "cell_type": "markdown",
   "metadata": {},
   "source": [
    "[Final Version (Relationship Dashboard)](https://public.tableau.com/profile/felix.lou#!/vizhome/P4_Data_Visualization/Dashboard_on_Relationships_V2)"
   ]
  },
  {
   "cell_type": "markdown",
   "metadata": {},
   "source": [
    "# Design"
   ]
  },
  {
   "cell_type": "markdown",
   "metadata": {},
   "source": [
    "Audience get to explore the data from a high level as well as from a low level; therefore, apart from the story which is laid out from a narrative perspective, there are also 2 dashboards in which audience can explore the data by tweaking the parameters themselves:"
   ]
  },
  {
   "cell_type": "markdown",
   "metadata": {},
   "source": [
    "1. The Worldview Dashboard aims to let audience have a general understand of how GDP is distributed and changes over time\n",
    "2. The Relationship Dashboard aims to let audience dig deeper and see how GDP may be correlated with other factors in different countries"
   ]
  },
  {
   "cell_type": "markdown",
   "metadata": {},
   "source": [
    "Parameters that audience get to tweak in the dashboards:"
   ]
  },
  {
   "cell_type": "markdown",
   "metadata": {},
   "source": [
    "1. Year\n",
    "2. Country\n",
    "3. G20 (Member states)\n",
    "4. Select a view (To explore relationship individually)"
   ]
  },
  {
   "cell_type": "markdown",
   "metadata": {},
   "source": [
    "These parameters (Filters) are included as dropdowns as well as direct interactions with dashboards; so audience can enjoy greater flexibilities when exploring the data, in which they can isolate observation(s) based on certain criteria. Design on parameters has been refined based on audience feedback. To be specific, audience can click on the map in the Worldview Dashboard directly to see the associated information in the line chart which has a responsive design. In the Relationship Dashboard, audience can use the `G20` dropdown to isolate either group to have a clearer vision. On top of that, they can explore relationship indvidually by making use of the `Select a view`."
   ]
  },
  {
   "cell_type": "markdown",
   "metadata": {},
   "source": [
    "For color scheme, blue and orange are the only colors adopted in the entire visualization. This is for the sake of taking care of those who are visually-challenged (Color Blindness). The adoption of color scheme has also been refined based on audience feedback. The color of non-G20 states was originally light grey, which was hard to see for some audience. Orange is therefore adopted which help audience better distinguish the 2 groups."
   ]
  },
  {
   "cell_type": "markdown",
   "metadata": {},
   "source": [
    "Audience also suggests that including a title for both dashboards will help them better understand what they could do in the dashboards. The title points out the way (Direction) audience should follow."
   ]
  },
  {
   "cell_type": "markdown",
   "metadata": {},
   "source": [
    "# Feedback"
   ]
  },
  {
   "cell_type": "markdown",
   "metadata": {},
   "source": [
    "The initial version was shown to 3 people to gather feedback for refinements."
   ]
  },
  {
   "cell_type": "markdown",
   "metadata": {},
   "source": [
    "Joe: \"It'd be nice to give the dashboards a title as it helps me grab the gist of what these dashboards can do. Also, it'd be nice if I could use the map as a filter instead of clicking on the dropdown!\""
   ]
  },
  {
   "cell_type": "markdown",
   "metadata": {},
   "source": [
    "Karen: \"The Relationship Dashboard seems sort of crammed. It'd be nice if I get to explore them individually, perhaps with the help of a toggle filter? Also, the size of the relationship graph can definitely be larger.\""
   ]
  },
  {
   "cell_type": "markdown",
   "metadata": {},
   "source": [
    "Pam: \"I found grey hard to see in the graph. I think it's better to use colors that make higher contrast.\""
   ]
  },
  {
   "cell_type": "markdown",
   "metadata": {},
   "source": [
    "# Resources"
   ]
  },
  {
   "cell_type": "markdown",
   "metadata": {},
   "source": [
    "The data was obtained directly from World Bank's [DataBank](http://databank.worldbank.org/data/reports.aspx?source=world-development-indicators)."
   ]
  },
  {
   "cell_type": "markdown",
   "metadata": {},
   "source": [
    "Addtional Tableau tutorial resources were found [here](http://onlinehelp.tableau.com/current/pro/desktop/en-us/help.htm#dashboards_sheet_selector.html%3FTocPath%3DDesign%2520Views%2520and%2520Analyze%2520Data%7CPresent%2520Your%2520Work%7CDashboards%7CSize%2520and%2520Lay%2520Out%2520Your%2520Dashboard%7C_____2)."
   ]
  }
 ],
 "metadata": {
  "kernelspec": {
   "display_name": "Python [conda env:dand]",
   "language": "python",
   "name": "conda-env-dand-py"
  },
  "language_info": {
   "codemirror_mode": {
    "name": "ipython",
    "version": 3
   },
   "file_extension": ".py",
   "mimetype": "text/x-python",
   "name": "python",
   "nbconvert_exporter": "python",
   "pygments_lexer": "ipython3",
   "version": "3.6.4"
  }
 },
 "nbformat": 4,
 "nbformat_minor": 2
}
