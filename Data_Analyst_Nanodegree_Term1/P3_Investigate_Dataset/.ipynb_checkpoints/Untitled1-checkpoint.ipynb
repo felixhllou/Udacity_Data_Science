{
 "cells": [
  {
   "cell_type": "code",
   "execution_count": null,
   "metadata": {},
   "outputs": [],
   "source": [
    "### Drop redundant columns in the the Team DataFrame.\n",
    "\n",
    "# Drop the id and the team_fifa_api_id column\n",
    "data['Team'].drop(['id', 'team_fifa_api_id'], axis=1, inplace=True)\n",
    "\n",
    "# Make sure NaN values are all gone\n",
    "data['Team'].isnull().sum().any()"
   ]
  },
  {
   "cell_type": "code",
   "execution_count": null,
   "metadata": {},
   "outputs": [],
   "source": [
    "### Check to see if there are any duplicates in the Team DataFrame.\n",
    "\n",
    "# Check to see if there are any duplicates\n",
    "print(data['Team'].duplicated().value_counts())"
   ]
  },
  {
   "cell_type": "code",
   "execution_count": null,
   "metadata": {},
   "outputs": [],
   "source": [
    "### Change the columns that end with 'Class' in the Team_Attributes DataFrame to category type.\n",
    "\n",
    "# A loop to change the datatype\n",
    "for col in data['Team_Attributes'].columns:\n",
    "    if 'Class' in col:\n",
    "        data['Team_Attributes'][col].astype('category')"
   ]
  },
  {
   "cell_type": "code",
   "execution_count": null,
   "metadata": {},
   "outputs": [],
   "source": [
    "### Drop the column with too many missing values.\n",
    "\n",
    "#Drop the buildUpPlayDribbling column\n",
    "data['Team_Attributes'].drop(['buildUpPlayDribbling'], axis=1, inplace=True)\n",
    "\n",
    "# Make sure NaN values are all gone\n",
    "data['Team_Attributes'].isnull().sum().any()"
   ]
  },
  {
   "cell_type": "code",
   "execution_count": null,
   "metadata": {},
   "outputs": [],
   "source": [
    "### Drop redundant columns in the Team_Attributes DataFrame.\n",
    "\n",
    "# Drop the id and the team_fifa_api_id column\n",
    "data['Team_Attributes'].drop(['id', 'team_fifa_api_id'], axis=1, inplace=True)"
   ]
  },
  {
   "cell_type": "code",
   "execution_count": null,
   "metadata": {},
   "outputs": [],
   "source": [
    "### Check to see if there are any duplicates in the Team_Attributes DataFrame.\n",
    "\n",
    "# Check to see if there are any duplicates\n",
    "print(data['Team_Attributes'].duplicated().value_counts())"
   ]
  },
  {
   "cell_type": "code",
   "execution_count": null,
   "metadata": {},
   "outputs": [],
   "source": [
    "### Drop duplicated rows in the Team_Attributes DataFrame\n",
    "\n",
    "# Drop duplicate\n",
    "data['Team_Attributes'].drop_duplicates(inplace=True)\n",
    "\n",
    "# Check to see if there are any duplicates\n",
    "print(data['Team_Attributes'].duplicated().value_counts())"
   ]
  },
  {
   "cell_type": "code",
   "execution_count": null,
   "metadata": {},
   "outputs": [],
   "source": [
    "### Consolidate the teams' data by merging them into one DataFrame.\n",
    "\n",
    "# Create a consolidated DataFrame for teams\n",
    "team_stats = pd.merge(data['Team'], data['Team_Attributes'], on='team_api_id', how='inner')\n",
    "\n",
    "team_stats.info()"
   ]
  },
  {
   "cell_type": "code",
   "execution_count": null,
   "metadata": {},
   "outputs": [],
   "source": [
    "### Consolidate the countries' data by merging them into one DataFrame.\n",
    "\n",
    "# Create a consolidated DataFrame for teams and leagues\n",
    "country_league = pd.merge(data['Country'], data['League'], on='id', how='inner')\n",
    "\n",
    "# Drop redundant column\n",
    "country_league.drop(['id'], axis=1, inplace=True)\n",
    "\n",
    "# Sanity check\n",
    "country_league.info()"
   ]
  },
  {
   "cell_type": "code",
   "execution_count": null,
   "metadata": {},
   "outputs": [],
   "source": [
    "### Drop redundant columns in the Match DataFrame.\n",
    "\n",
    "# Drop all the betting columns and individual player columns\n",
    "data['Match'].drop(data['Match'].columns[11:115], axis=1, inplace=True)"
   ]
  },
  {
   "cell_type": "code",
   "execution_count": null,
   "metadata": {},
   "outputs": [],
   "source": [
    "### Merge the consolidated countries' data set with the Match DataFrame\n",
    "\n",
    "# Create a consolidated DataFrame for countries and matches\n",
    "trimmed_match = data['Match'].merge(country_league, on='country_id', how='inner')\n",
    "\n",
    "# Rename the columns for Country and League\n",
    "trimmed_match.rename(index=str, columns={'name_x': 'country', 'name_y': 'league'}, inplace=True)\n",
    "\n",
    "# Sanity check\n",
    "trimmed_match.info()"
   ]
  },
  {
   "cell_type": "code",
   "execution_count": null,
   "metadata": {},
   "outputs": [],
   "source": [
    "### Create copied objects for home and away team information.\n",
    "\n",
    "# Copied object for the home team\n",
    "home_team = data['Team'].copy()\n",
    "\n",
    "# Copied object for the away team\n",
    "away_team = data['Team'].copy()"
   ]
  },
  {
   "cell_type": "code",
   "execution_count": null,
   "metadata": {},
   "outputs": [],
   "source": [
    "### Rename the columns' names\n",
    "\n",
    "home_labels = ['home_team_api_id', 'home_team_long_name', 'home_team_short_name']\n",
    "\n",
    "away_labels = ['away_team_api_id', 'away_team_long_name', 'away_team_short_name']\n",
    "\n",
    "# New column name for home team stats\n",
    "home_team.columns = home_labels\n",
    "\n",
    "# New column name for away team stats\n",
    "away_team.columns = away_labels\n",
    "\n",
    "# Sanity check\n",
    "print(home_team.info(), away_team.info())"
   ]
  },
  {
   "cell_type": "code",
   "execution_count": null,
   "metadata": {},
   "outputs": [],
   "source": [
    "### Final consolidated version of the Team & Match DataFrame\n",
    "\n",
    "# Merge for the home team\n",
    "team_match_stats = trimmed_match.merge(home_team, on='home_team_api_id', how='inner')\n",
    "\n",
    "team_match_stats = team_match_stats.merge(away_team, on='away_team_api_id', how='inner')\n",
    "\n",
    "team_match_stats.drop(['id'], axis=1, inplace=True)\n",
    "\n",
    "# Sanity check\n",
    "team_match_stats.head(5)"
   ]
  },
  {
   "cell_type": "code",
   "execution_count": null,
   "metadata": {},
   "outputs": [],
   "source": [
    "# Write the consolidated version into a CSV\n",
    "player_stats.to_csv('player_stats.csv', index=False)\n",
    "\n",
    "# Write the consolidated version into a CSV\n",
    "team_stats.to_csv('team_stats.csv', index=False)\n",
    "\n",
    "# Write the final consolidated version into a CSV\n",
    "team_match_stats.to_csv('team_match_stats.csv', index=False)"
   ]
  }
 ],
 "metadata": {
  "kernelspec": {
   "display_name": "Python 3",
   "language": "python",
   "name": "python3"
  },
  "language_info": {
   "codemirror_mode": {
    "name": "ipython",
    "version": 3
   },
   "file_extension": ".py",
   "mimetype": "text/x-python",
   "name": "python",
   "nbconvert_exporter": "python",
   "pygments_lexer": "ipython3",
   "version": "3.6.4"
  }
 },
 "nbformat": 4,
 "nbformat_minor": 2
}
