{
 "cells": [
  {
   "cell_type": "code",
   "execution_count": 1,
   "metadata": {},
   "outputs": [],
   "source": [
    "# load all necessary packages for the data analysis\n",
    "from sqlalchemy import create_engine\n",
    "import numpy as np\n",
    "import pandas as pd\n",
    "import matplotlib.pyplot as plt\n",
    "import seaborn as sns\n",
    "sns.set_style(style=\"darkgrid\")\n",
    "\n",
    "# the magic keywords for visualizing the plots\n",
    "%matplotlib inline"
   ]
  },
  {
   "cell_type": "code",
   "execution_count": 2,
   "metadata": {},
   "outputs": [],
   "source": [
    "player_stats = pd.read_csv('player_stats.csv')\n",
    "\n",
    "team_stats = pd.read_csv('team_stats.csv')\n",
    "\n",
    "team_match_stats = pd.read_csv('team_match_stats.csv')"
   ]
  },
  {
   "cell_type": "code",
   "execution_count": 3,
   "metadata": {},
   "outputs": [
    {
     "name": "stdout",
     "output_type": "stream",
     "text": [
      "<class 'pandas.core.frame.DataFrame'>\n",
      "RangeIndex: 25979 entries, 0 to 25978\n",
      "Data columns (total 16 columns):\n",
      "country_id              25979 non-null int64\n",
      "league_id               25979 non-null int64\n",
      "season                  25979 non-null object\n",
      "stage                   25979 non-null int64\n",
      "date                    25979 non-null object\n",
      "match_api_id            25979 non-null int64\n",
      "home_team_api_id        25979 non-null int64\n",
      "away_team_api_id        25979 non-null int64\n",
      "home_team_goal          25979 non-null int64\n",
      "away_team_goal          25979 non-null int64\n",
      "country                 25979 non-null object\n",
      "league                  25979 non-null object\n",
      "home_team_long_name     25979 non-null object\n",
      "home_team_short_name    25979 non-null object\n",
      "away_team_long_name     25979 non-null object\n",
      "away_team_short_name    25979 non-null object\n",
      "dtypes: int64(8), object(8)\n",
      "memory usage: 3.2+ MB\n",
      "None\n",
      "<class 'pandas.core.frame.DataFrame'>\n",
      "RangeIndex: 1457 entries, 0 to 1456\n",
      "Data columns (total 24 columns):\n",
      "team_api_id                       1457 non-null int64\n",
      "team_long_name                    1457 non-null object\n",
      "team_short_name                   1457 non-null object\n",
      "date                              1457 non-null object\n",
      "buildUpPlaySpeed                  1457 non-null int64\n",
      "buildUpPlaySpeedClass             1457 non-null object\n",
      "buildUpPlayDribblingClass         1457 non-null object\n",
      "buildUpPlayPassing                1457 non-null int64\n",
      "buildUpPlayPassingClass           1457 non-null object\n",
      "buildUpPlayPositioningClass       1457 non-null object\n",
      "chanceCreationPassing             1457 non-null int64\n",
      "chanceCreationPassingClass        1457 non-null object\n",
      "chanceCreationCrossing            1457 non-null int64\n",
      "chanceCreationCrossingClass       1457 non-null object\n",
      "chanceCreationShooting            1457 non-null int64\n",
      "chanceCreationShootingClass       1457 non-null object\n",
      "chanceCreationPositioningClass    1457 non-null object\n",
      "defencePressure                   1457 non-null int64\n",
      "defencePressureClass              1457 non-null object\n",
      "defenceAggression                 1457 non-null int64\n",
      "defenceAggressionClass            1457 non-null object\n",
      "defenceTeamWidth                  1457 non-null int64\n",
      "defenceTeamWidthClass             1457 non-null object\n",
      "defenceDefenderLineClass          1457 non-null object\n",
      "dtypes: int64(9), object(15)\n",
      "memory usage: 273.3+ KB\n",
      "None\n",
      "<class 'pandas.core.frame.DataFrame'>\n",
      "RangeIndex: 180748 entries, 0 to 180747\n",
      "Data columns (total 45 columns):\n",
      "player_api_id          180748 non-null int64\n",
      "player_name            180748 non-null object\n",
      "birthday               180748 non-null object\n",
      "height                 180748 non-null int64\n",
      "weight                 180748 non-null int64\n",
      "date                   180748 non-null object\n",
      "overall_rating         180748 non-null float64\n",
      "potential              180748 non-null float64\n",
      "preferred_foot         180748 non-null object\n",
      "attacking_work_rate    180748 non-null object\n",
      "defensive_work_rate    180748 non-null object\n",
      "crossing               180748 non-null float64\n",
      "finishing              180748 non-null float64\n",
      "heading_accuracy       180748 non-null float64\n",
      "short_passing          180748 non-null float64\n",
      "volleys                180748 non-null float64\n",
      "dribbling              180748 non-null float64\n",
      "curve                  180748 non-null float64\n",
      "free_kick_accuracy     180748 non-null float64\n",
      "long_passing           180748 non-null float64\n",
      "ball_control           180748 non-null float64\n",
      "acceleration           180748 non-null float64\n",
      "sprint_speed           180748 non-null float64\n",
      "agility                180748 non-null float64\n",
      "reactions              180748 non-null float64\n",
      "balance                180748 non-null float64\n",
      "shot_power             180748 non-null float64\n",
      "jumping                180748 non-null float64\n",
      "stamina                180748 non-null float64\n",
      "strength               180748 non-null float64\n",
      "long_shots             180748 non-null float64\n",
      "aggression             180748 non-null float64\n",
      "interceptions          180748 non-null float64\n",
      "positioning            180748 non-null float64\n",
      "vision                 180748 non-null float64\n",
      "penalties              180748 non-null float64\n",
      "marking                180748 non-null float64\n",
      "standing_tackle        180748 non-null float64\n",
      "sliding_tackle         180748 non-null float64\n",
      "gk_diving              180748 non-null float64\n",
      "gk_handling            180748 non-null float64\n",
      "gk_kicking             180748 non-null float64\n",
      "gk_positioning         180748 non-null float64\n",
      "gk_reflexes            180748 non-null float64\n",
      "age                    180748 non-null float64\n",
      "dtypes: float64(36), int64(3), object(6)\n",
      "memory usage: 62.1+ MB\n",
      "None\n"
     ]
    }
   ],
   "source": [
    "print(team_match_stats.info())\n",
    "print(team_stats.info())\n",
    "print(player_stats.info())"
   ]
  },
  {
   "cell_type": "code",
   "execution_count": 4,
   "metadata": {},
   "outputs": [
    {
     "data": {
      "text/plain": [
       "preferred_foot\n",
       "left     53.284884\n",
       "right    48.136872\n",
       "Name: free_kick_accuracy, dtype: float64"
      ]
     },
     "execution_count": 4,
     "metadata": {},
     "output_type": "execute_result"
    }
   ],
   "source": [
    "player_stats.groupby(['preferred_foot'])['free_kick_accuracy'].mean()"
   ]
  },
  {
   "cell_type": "code",
   "execution_count": 5,
   "metadata": {},
   "outputs": [
    {
     "data": {
      "text/plain": [
       "preferred_foot\n",
       "left      44197\n",
       "right    136551\n",
       "Name: free_kick_accuracy, dtype: int64"
      ]
     },
     "execution_count": 5,
     "metadata": {},
     "output_type": "execute_result"
    }
   ],
   "source": [
    "player_stats.groupby(['preferred_foot'])['free_kick_accuracy'].count()"
   ]
  },
  {
   "cell_type": "code",
   "execution_count": 6,
   "metadata": {},
   "outputs": [
    {
     "data": {
      "text/plain": [
       "<matplotlib.axes._subplots.AxesSubplot at 0x10e4a7048>"
      ]
     },
     "execution_count": 6,
     "metadata": {},
     "output_type": "execute_result"
    },
    {
     "data": {
      "image/png": "[encoded data removed]",
      "text/plain": [
       "<matplotlib.figure.Figure at 0x1115ee160>"
      ]
     },
     "metadata": {},
     "output_type": "display_data"
    }
   ],
   "source": [
    "sns.boxplot(x='preferred_foot', y='free_kick_accuracy', data=player_stats)"
   ]
  },
  {
   "cell_type": "code",
   "execution_count": 7,
   "metadata": {},
   "outputs": [
    {
     "data": {
      "text/plain": [
       "<matplotlib.axes._subplots.AxesSubplot at 0x1115ee7b8>"
      ]
     },
     "execution_count": 7,
     "metadata": {},
     "output_type": "execute_result"
    },
    {
     "data": {
      "image/png": "[encoded data removed]",
      "text/plain": [
       "<matplotlib.figure.Figure at 0x10f821a58>"
      ]
     },
     "metadata": {},
     "output_type": "display_data"
    }
   ],
   "source": [
    "sns.regplot(x='height', y='heading_accuracy', data=player_stats)"
   ]
  },
  {
   "cell_type": "code",
   "execution_count": 8,
   "metadata": {},
   "outputs": [
    {
     "data": {
      "text/plain": [
       "<matplotlib.axes._subplots.AxesSubplot at 0x114747198>"
      ]
     },
     "execution_count": 8,
     "metadata": {},
     "output_type": "execute_result"
    },
    {
     "data": {
      "image/png": "[encoded data removed]",
      "text/plain": [
       "<matplotlib.figure.Figure at 0x114f186d8>"
      ]
     },
     "metadata": {},
     "output_type": "display_data"
    }
   ],
   "source": [
    "sns.distplot(player_stats['height'])"
   ]
  },
  {
   "cell_type": "code",
   "execution_count": 9,
   "metadata": {},
   "outputs": [
    {
     "data": {
      "text/plain": [
       "<matplotlib.axes._subplots.AxesSubplot at 0x1116befd0>"
      ]
     },
     "execution_count": 9,
     "metadata": {},
     "output_type": "execute_result"
    },
    {
     "data": {
      "image/png": "[encoded data removed]",
      "text/plain": [
       "<matplotlib.figure.Figure at 0x10f821dd8>"
      ]
     },
     "metadata": {},
     "output_type": "display_data"
    }
   ],
   "source": [
    "sns.boxplot(x='preferred_foot', y='free_kick_accuracy', data=player_stats)"
   ]
  },
  {
   "cell_type": "code",
   "execution_count": 10,
   "metadata": {},
   "outputs": [
    {
     "data": {
      "text/plain": [
       "array([ 177.,  182.,  185.])"
      ]
     },
     "execution_count": 10,
     "metadata": {},
     "output_type": "execute_result"
    }
   ],
   "source": [
    "np.percentile(player_stats['height'], [25, 50, 75])"
   ]
  },
  {
   "cell_type": "code",
   "execution_count": 11,
   "metadata": {},
   "outputs": [],
   "source": [
    "def ecdf(data):\n",
    "    \"\"\"Compute ECDF for a one-dimensional array of measurements.\"\"\"\n",
    "\n",
    "    # Number of data points: n\n",
    "    n = len(data)\n",
    "\n",
    "    # x-data for the ECDF: x\n",
    "    x = np.sort(data)\n",
    "\n",
    "    # y-data for the ECDF: y\n",
    "    y = np.arange(1, n+1) / n\n",
    "\n",
    "    return x, y"
   ]
  },
  {
   "cell_type": "code",
   "execution_count": 12,
   "metadata": {},
   "outputs": [],
   "source": [
    "x_set, y_set = ecdf(player_stats.height)"
   ]
  },
  {
   "cell_type": "code",
   "execution_count": 13,
   "metadata": {},
   "outputs": [
    {
     "data": {
      "image/png": "[encoded data removed]",
      "text/plain": [
       "<matplotlib.figure.Figure at 0x11188b320>"
      ]
     },
     "metadata": {},
     "output_type": "display_data"
    }
   ],
   "source": [
    "_ = plt.plot(x_set, y_set, marker='.', linestyle='none')\n",
    "plt.margins(0.02)"
   ]
  },
  {
   "cell_type": "code",
   "execution_count": 14,
   "metadata": {},
   "outputs": [],
   "source": [
    "def pearson_r(x, y):\n",
    "    \"\"\"Compute Pearson correlation coefficient between two arrays.\"\"\"\n",
    "    # Compute correlation matrix: corr_mat\n",
    "    corr_mat = np.corrcoef(x,y)\n",
    "\n",
    "    # Return entry [0,1]\n",
    "    return corr_mat[0,1]"
   ]
  },
  {
   "cell_type": "code",
   "execution_count": 15,
   "metadata": {},
   "outputs": [
    {
     "data": {
      "text/plain": [
       "0.10895266428856185"
      ]
     },
     "execution_count": 15,
     "metadata": {},
     "output_type": "execute_result"
    }
   ],
   "source": [
    "pearson_r(player_stats['height'], player_stats['heading_accuracy'])"
   ]
  },
  {
   "cell_type": "code",
   "execution_count": 16,
   "metadata": {},
   "outputs": [
    {
     "data": {
      "text/html": [
       "<div>\n",
       "<style scoped>\n",
       "    .dataframe tbody tr th:only-of-type {\n",
       "        vertical-align: middle;\n",
       "    }\n",
       "\n",
       "    .dataframe tbody tr th {\n",
       "        vertical-align: top;\n",
       "    }\n",
       "\n",
       "    .dataframe thead th {\n",
       "        text-align: right;\n",
       "    }\n",
       "</style>\n",
       "<table border=\"1\" class=\"dataframe\">\n",
       "  <thead>\n",
       "    <tr style=\"text-align: right;\">\n",
       "      <th></th>\n",
       "      <th>player_api_id</th>\n",
       "      <th>player_name</th>\n",
       "      <th>birthday</th>\n",
       "      <th>height</th>\n",
       "      <th>weight</th>\n",
       "      <th>date</th>\n",
       "      <th>overall_rating</th>\n",
       "      <th>potential</th>\n",
       "      <th>preferred_foot</th>\n",
       "      <th>attacking_work_rate</th>\n",
       "      <th>...</th>\n",
       "      <th>penalties</th>\n",
       "      <th>marking</th>\n",
       "      <th>standing_tackle</th>\n",
       "      <th>sliding_tackle</th>\n",
       "      <th>gk_diving</th>\n",
       "      <th>gk_handling</th>\n",
       "      <th>gk_kicking</th>\n",
       "      <th>gk_positioning</th>\n",
       "      <th>gk_reflexes</th>\n",
       "      <th>age</th>\n",
       "    </tr>\n",
       "  </thead>\n",
       "  <tbody>\n",
       "    <tr>\n",
       "      <th>0</th>\n",
       "      <td>505942</td>\n",
       "      <td>Aaron Appindangoye</td>\n",
       "      <td>1992-02-29</td>\n",
       "      <td>182</td>\n",
       "      <td>187</td>\n",
       "      <td>2016-02-18 00:00:00</td>\n",
       "      <td>67.0</td>\n",
       "      <td>71.0</td>\n",
       "      <td>right</td>\n",
       "      <td>medium</td>\n",
       "      <td>...</td>\n",
       "      <td>48.0</td>\n",
       "      <td>65.0</td>\n",
       "      <td>69.0</td>\n",
       "      <td>69.0</td>\n",
       "      <td>6.0</td>\n",
       "      <td>11.0</td>\n",
       "      <td>10.0</td>\n",
       "      <td>8.0</td>\n",
       "      <td>8.0</td>\n",
       "      <td>25.0</td>\n",
       "    </tr>\n",
       "    <tr>\n",
       "      <th>1</th>\n",
       "      <td>505942</td>\n",
       "      <td>Aaron Appindangoye</td>\n",
       "      <td>1992-02-29</td>\n",
       "      <td>182</td>\n",
       "      <td>187</td>\n",
       "      <td>2015-11-19 00:00:00</td>\n",
       "      <td>67.0</td>\n",
       "      <td>71.0</td>\n",
       "      <td>right</td>\n",
       "      <td>medium</td>\n",
       "      <td>...</td>\n",
       "      <td>48.0</td>\n",
       "      <td>65.0</td>\n",
       "      <td>69.0</td>\n",
       "      <td>69.0</td>\n",
       "      <td>6.0</td>\n",
       "      <td>11.0</td>\n",
       "      <td>10.0</td>\n",
       "      <td>8.0</td>\n",
       "      <td>8.0</td>\n",
       "      <td>25.0</td>\n",
       "    </tr>\n",
       "    <tr>\n",
       "      <th>2</th>\n",
       "      <td>505942</td>\n",
       "      <td>Aaron Appindangoye</td>\n",
       "      <td>1992-02-29</td>\n",
       "      <td>182</td>\n",
       "      <td>187</td>\n",
       "      <td>2015-09-21 00:00:00</td>\n",
       "      <td>62.0</td>\n",
       "      <td>66.0</td>\n",
       "      <td>right</td>\n",
       "      <td>medium</td>\n",
       "      <td>...</td>\n",
       "      <td>48.0</td>\n",
       "      <td>65.0</td>\n",
       "      <td>66.0</td>\n",
       "      <td>69.0</td>\n",
       "      <td>6.0</td>\n",
       "      <td>11.0</td>\n",
       "      <td>10.0</td>\n",
       "      <td>8.0</td>\n",
       "      <td>8.0</td>\n",
       "      <td>25.0</td>\n",
       "    </tr>\n",
       "    <tr>\n",
       "      <th>3</th>\n",
       "      <td>505942</td>\n",
       "      <td>Aaron Appindangoye</td>\n",
       "      <td>1992-02-29</td>\n",
       "      <td>182</td>\n",
       "      <td>187</td>\n",
       "      <td>2015-03-20 00:00:00</td>\n",
       "      <td>61.0</td>\n",
       "      <td>65.0</td>\n",
       "      <td>right</td>\n",
       "      <td>medium</td>\n",
       "      <td>...</td>\n",
       "      <td>47.0</td>\n",
       "      <td>62.0</td>\n",
       "      <td>63.0</td>\n",
       "      <td>66.0</td>\n",
       "      <td>5.0</td>\n",
       "      <td>10.0</td>\n",
       "      <td>9.0</td>\n",
       "      <td>7.0</td>\n",
       "      <td>7.0</td>\n",
       "      <td>25.0</td>\n",
       "    </tr>\n",
       "    <tr>\n",
       "      <th>4</th>\n",
       "      <td>505942</td>\n",
       "      <td>Aaron Appindangoye</td>\n",
       "      <td>1992-02-29</td>\n",
       "      <td>182</td>\n",
       "      <td>187</td>\n",
       "      <td>2007-02-22 00:00:00</td>\n",
       "      <td>61.0</td>\n",
       "      <td>65.0</td>\n",
       "      <td>right</td>\n",
       "      <td>medium</td>\n",
       "      <td>...</td>\n",
       "      <td>47.0</td>\n",
       "      <td>62.0</td>\n",
       "      <td>63.0</td>\n",
       "      <td>66.0</td>\n",
       "      <td>5.0</td>\n",
       "      <td>10.0</td>\n",
       "      <td>9.0</td>\n",
       "      <td>7.0</td>\n",
       "      <td>7.0</td>\n",
       "      <td>25.0</td>\n",
       "    </tr>\n",
       "  </tbody>\n",
       "</table>\n",
       "<p>5 rows × 45 columns</p>\n",
       "</div>"
      ],
      "text/plain": [
       "   player_api_id         player_name    birthday  height  weight  \\\n",
       "0         505942  Aaron Appindangoye  1992-02-29     182     187   \n",
       "1         505942  Aaron Appindangoye  1992-02-29     182     187   \n",
       "2         505942  Aaron Appindangoye  1992-02-29     182     187   \n",
       "3         505942  Aaron Appindangoye  1992-02-29     182     187   \n",
       "4         505942  Aaron Appindangoye  1992-02-29     182     187   \n",
       "\n",
       "                  date  overall_rating  potential preferred_foot  \\\n",
       "0  2016-02-18 00:00:00            67.0       71.0          right   \n",
       "1  2015-11-19 00:00:00            67.0       71.0          right   \n",
       "2  2015-09-21 00:00:00            62.0       66.0          right   \n",
       "3  2015-03-20 00:00:00            61.0       65.0          right   \n",
       "4  2007-02-22 00:00:00            61.0       65.0          right   \n",
       "\n",
       "  attacking_work_rate  ...  penalties  marking  standing_tackle  \\\n",
       "0              medium  ...       48.0     65.0             69.0   \n",
       "1              medium  ...       48.0     65.0             69.0   \n",
       "2              medium  ...       48.0     65.0             66.0   \n",
       "3              medium  ...       47.0     62.0             63.0   \n",
       "4              medium  ...       47.0     62.0             63.0   \n",
       "\n",
       "   sliding_tackle  gk_diving  gk_handling  gk_kicking  gk_positioning  \\\n",
       "0            69.0        6.0         11.0        10.0             8.0   \n",
       "1            69.0        6.0         11.0        10.0             8.0   \n",
       "2            69.0        6.0         11.0        10.0             8.0   \n",
       "3            66.0        5.0         10.0         9.0             7.0   \n",
       "4            66.0        5.0         10.0         9.0             7.0   \n",
       "\n",
       "   gk_reflexes   age  \n",
       "0          8.0  25.0  \n",
       "1          8.0  25.0  \n",
       "2          8.0  25.0  \n",
       "3          7.0  25.0  \n",
       "4          7.0  25.0  \n",
       "\n",
       "[5 rows x 45 columns]"
      ]
     },
     "execution_count": 16,
     "metadata": {},
     "output_type": "execute_result"
    }
   ],
   "source": [
    "player_stats.head()"
   ]
  },
  {
   "cell_type": "code",
   "execution_count": 17,
   "metadata": {},
   "outputs": [],
   "source": [
    "from datetime import datetime\n",
    "\n",
    "now = datetime.now()\n",
    "player_stats['birthday'] = pd.to_datetime(player_stats['birthday'])\n",
    "player_stats['birthday'] = player_stats['birthday'].where(player_stats['birthday'] < now, player_stats['birthday'] - np.timedelta64(100, 'Y'))\n",
    "player_stats['age'] = (now - player_stats['birthday']).astype('<m8[Y]')   "
   ]
  },
  {
   "cell_type": "code",
   "execution_count": 18,
   "metadata": {},
   "outputs": [
    {
     "data": {
      "text/html": [
       "<div>\n",
       "<style scoped>\n",
       "    .dataframe tbody tr th:only-of-type {\n",
       "        vertical-align: middle;\n",
       "    }\n",
       "\n",
       "    .dataframe tbody tr th {\n",
       "        vertical-align: top;\n",
       "    }\n",
       "\n",
       "    .dataframe thead th {\n",
       "        text-align: right;\n",
       "    }\n",
       "</style>\n",
       "<table border=\"1\" class=\"dataframe\">\n",
       "  <thead>\n",
       "    <tr style=\"text-align: right;\">\n",
       "      <th></th>\n",
       "      <th>player_api_id</th>\n",
       "      <th>player_name</th>\n",
       "      <th>birthday</th>\n",
       "      <th>height</th>\n",
       "      <th>weight</th>\n",
       "      <th>date</th>\n",
       "      <th>overall_rating</th>\n",
       "      <th>potential</th>\n",
       "      <th>preferred_foot</th>\n",
       "      <th>attacking_work_rate</th>\n",
       "      <th>...</th>\n",
       "      <th>penalties</th>\n",
       "      <th>marking</th>\n",
       "      <th>standing_tackle</th>\n",
       "      <th>sliding_tackle</th>\n",
       "      <th>gk_diving</th>\n",
       "      <th>gk_handling</th>\n",
       "      <th>gk_kicking</th>\n",
       "      <th>gk_positioning</th>\n",
       "      <th>gk_reflexes</th>\n",
       "      <th>age</th>\n",
       "    </tr>\n",
       "  </thead>\n",
       "  <tbody>\n",
       "    <tr>\n",
       "      <th>0</th>\n",
       "      <td>505942</td>\n",
       "      <td>Aaron Appindangoye</td>\n",
       "      <td>1992-02-29</td>\n",
       "      <td>182</td>\n",
       "      <td>187</td>\n",
       "      <td>2016-02-18 00:00:00</td>\n",
       "      <td>67.0</td>\n",
       "      <td>71.0</td>\n",
       "      <td>right</td>\n",
       "      <td>medium</td>\n",
       "      <td>...</td>\n",
       "      <td>48.0</td>\n",
       "      <td>65.0</td>\n",
       "      <td>69.0</td>\n",
       "      <td>69.0</td>\n",
       "      <td>6.0</td>\n",
       "      <td>11.0</td>\n",
       "      <td>10.0</td>\n",
       "      <td>8.0</td>\n",
       "      <td>8.0</td>\n",
       "      <td>25.0</td>\n",
       "    </tr>\n",
       "    <tr>\n",
       "      <th>1</th>\n",
       "      <td>505942</td>\n",
       "      <td>Aaron Appindangoye</td>\n",
       "      <td>1992-02-29</td>\n",
       "      <td>182</td>\n",
       "      <td>187</td>\n",
       "      <td>2015-11-19 00:00:00</td>\n",
       "      <td>67.0</td>\n",
       "      <td>71.0</td>\n",
       "      <td>right</td>\n",
       "      <td>medium</td>\n",
       "      <td>...</td>\n",
       "      <td>48.0</td>\n",
       "      <td>65.0</td>\n",
       "      <td>69.0</td>\n",
       "      <td>69.0</td>\n",
       "      <td>6.0</td>\n",
       "      <td>11.0</td>\n",
       "      <td>10.0</td>\n",
       "      <td>8.0</td>\n",
       "      <td>8.0</td>\n",
       "      <td>25.0</td>\n",
       "    </tr>\n",
       "    <tr>\n",
       "      <th>2</th>\n",
       "      <td>505942</td>\n",
       "      <td>Aaron Appindangoye</td>\n",
       "      <td>1992-02-29</td>\n",
       "      <td>182</td>\n",
       "      <td>187</td>\n",
       "      <td>2015-09-21 00:00:00</td>\n",
       "      <td>62.0</td>\n",
       "      <td>66.0</td>\n",
       "      <td>right</td>\n",
       "      <td>medium</td>\n",
       "      <td>...</td>\n",
       "      <td>48.0</td>\n",
       "      <td>65.0</td>\n",
       "      <td>66.0</td>\n",
       "      <td>69.0</td>\n",
       "      <td>6.0</td>\n",
       "      <td>11.0</td>\n",
       "      <td>10.0</td>\n",
       "      <td>8.0</td>\n",
       "      <td>8.0</td>\n",
       "      <td>25.0</td>\n",
       "    </tr>\n",
       "    <tr>\n",
       "      <th>3</th>\n",
       "      <td>505942</td>\n",
       "      <td>Aaron Appindangoye</td>\n",
       "      <td>1992-02-29</td>\n",
       "      <td>182</td>\n",
       "      <td>187</td>\n",
       "      <td>2015-03-20 00:00:00</td>\n",
       "      <td>61.0</td>\n",
       "      <td>65.0</td>\n",
       "      <td>right</td>\n",
       "      <td>medium</td>\n",
       "      <td>...</td>\n",
       "      <td>47.0</td>\n",
       "      <td>62.0</td>\n",
       "      <td>63.0</td>\n",
       "      <td>66.0</td>\n",
       "      <td>5.0</td>\n",
       "      <td>10.0</td>\n",
       "      <td>9.0</td>\n",
       "      <td>7.0</td>\n",
       "      <td>7.0</td>\n",
       "      <td>25.0</td>\n",
       "    </tr>\n",
       "    <tr>\n",
       "      <th>4</th>\n",
       "      <td>505942</td>\n",
       "      <td>Aaron Appindangoye</td>\n",
       "      <td>1992-02-29</td>\n",
       "      <td>182</td>\n",
       "      <td>187</td>\n",
       "      <td>2007-02-22 00:00:00</td>\n",
       "      <td>61.0</td>\n",
       "      <td>65.0</td>\n",
       "      <td>right</td>\n",
       "      <td>medium</td>\n",
       "      <td>...</td>\n",
       "      <td>47.0</td>\n",
       "      <td>62.0</td>\n",
       "      <td>63.0</td>\n",
       "      <td>66.0</td>\n",
       "      <td>5.0</td>\n",
       "      <td>10.0</td>\n",
       "      <td>9.0</td>\n",
       "      <td>7.0</td>\n",
       "      <td>7.0</td>\n",
       "      <td>25.0</td>\n",
       "    </tr>\n",
       "  </tbody>\n",
       "</table>\n",
       "<p>5 rows × 45 columns</p>\n",
       "</div>"
      ],
      "text/plain": [
       "   player_api_id         player_name   birthday  height  weight  \\\n",
       "0         505942  Aaron Appindangoye 1992-02-29     182     187   \n",
       "1         505942  Aaron Appindangoye 1992-02-29     182     187   \n",
       "2         505942  Aaron Appindangoye 1992-02-29     182     187   \n",
       "3         505942  Aaron Appindangoye 1992-02-29     182     187   \n",
       "4         505942  Aaron Appindangoye 1992-02-29     182     187   \n",
       "\n",
       "                  date  overall_rating  potential preferred_foot  \\\n",
       "0  2016-02-18 00:00:00            67.0       71.0          right   \n",
       "1  2015-11-19 00:00:00            67.0       71.0          right   \n",
       "2  2015-09-21 00:00:00            62.0       66.0          right   \n",
       "3  2015-03-20 00:00:00            61.0       65.0          right   \n",
       "4  2007-02-22 00:00:00            61.0       65.0          right   \n",
       "\n",
       "  attacking_work_rate  ...  penalties  marking  standing_tackle  \\\n",
       "0              medium  ...       48.0     65.0             69.0   \n",
       "1              medium  ...       48.0     65.0             69.0   \n",
       "2              medium  ...       48.0     65.0             66.0   \n",
       "3              medium  ...       47.0     62.0             63.0   \n",
       "4              medium  ...       47.0     62.0             63.0   \n",
       "\n",
       "   sliding_tackle  gk_diving  gk_handling  gk_kicking  gk_positioning  \\\n",
       "0            69.0        6.0         11.0        10.0             8.0   \n",
       "1            69.0        6.0         11.0        10.0             8.0   \n",
       "2            69.0        6.0         11.0        10.0             8.0   \n",
       "3            66.0        5.0         10.0         9.0             7.0   \n",
       "4            66.0        5.0         10.0         9.0             7.0   \n",
       "\n",
       "   gk_reflexes   age  \n",
       "0          8.0  25.0  \n",
       "1          8.0  25.0  \n",
       "2          8.0  25.0  \n",
       "3          7.0  25.0  \n",
       "4          7.0  25.0  \n",
       "\n",
       "[5 rows x 45 columns]"
      ]
     },
     "execution_count": 18,
     "metadata": {},
     "output_type": "execute_result"
    }
   ],
   "source": [
    "player_stats.head()"
   ]
  },
  {
   "cell_type": "code",
   "execution_count": 19,
   "metadata": {},
   "outputs": [
    {
     "data": {
      "text/plain": [
       "age\n",
       "18.0       10\n",
       "19.0      123\n",
       "20.0      870\n",
       "21.0     2268\n",
       "22.0     4006\n",
       "23.0     6572\n",
       "24.0     8410\n",
       "25.0    10197\n",
       "26.0    12421\n",
       "27.0    12813\n",
       "28.0    13544\n",
       "29.0    15081\n",
       "30.0    13842\n",
       "31.0    13560\n",
       "32.0    11227\n",
       "33.0    11158\n",
       "34.0     9706\n",
       "35.0     7955\n",
       "36.0     7623\n",
       "37.0     6274\n",
       "38.0     4773\n",
       "39.0     3135\n",
       "40.0     1948\n",
       "41.0     1427\n",
       "42.0      832\n",
       "43.0      452\n",
       "44.0      217\n",
       "45.0      139\n",
       "46.0       82\n",
       "47.0       58\n",
       "48.0       21\n",
       "50.0        4\n",
       "Name: player_name, dtype: int64"
      ]
     },
     "execution_count": 19,
     "metadata": {},
     "output_type": "execute_result"
    }
   ],
   "source": [
    "player_stats.groupby(['age'])['player_name'].count()"
   ]
  },
  {
   "cell_type": "code",
   "execution_count": 20,
   "metadata": {},
   "outputs": [
    {
     "data": {
      "text/plain": [
       "<matplotlib.axes._subplots.AxesSubplot at 0x1164be5c0>"
      ]
     },
     "execution_count": 20,
     "metadata": {},
     "output_type": "execute_result"
    },
    {
     "data": {
      "image/png": "[encoded data removed]",
      "text/plain": [
       "<matplotlib.figure.Figure at 0x114651400>"
      ]
     },
     "metadata": {},
     "output_type": "display_data"
    }
   ],
   "source": [
    "sns.distplot(player_stats['age'])"
   ]
  },
  {
   "cell_type": "code",
   "execution_count": 21,
   "metadata": {},
   "outputs": [],
   "source": [
    "x_age, y_age = ecdf(player_stats.age)"
   ]
  },
  {
   "cell_type": "code",
   "execution_count": 22,
   "metadata": {},
   "outputs": [
    {
     "data": {
      "image/png": "[encoded data removed]",
      "text/plain": [
       "<matplotlib.figure.Figure at 0x1182dac50>"
      ]
     },
     "metadata": {},
     "output_type": "display_data"
    }
   ],
   "source": [
    "_ = plt.plot(x_age, y_age, marker='.', linestyle='none')\n",
    "plt.margins(0.02)"
   ]
  },
  {
   "cell_type": "code",
   "execution_count": 23,
   "metadata": {},
   "outputs": [
    {
     "data": {
      "text/plain": [
       "0.27905823756937831"
      ]
     },
     "execution_count": 23,
     "metadata": {},
     "output_type": "execute_result"
    }
   ],
   "source": [
    "pearson_r(player_stats['age'], player_stats['overall_rating'])"
   ]
  },
  {
   "cell_type": "code",
   "execution_count": 24,
   "metadata": {},
   "outputs": [
    {
     "data": {
      "image/png": "[encoded data removed]",
      "text/plain": [
       "<matplotlib.figure.Figure at 0x1182e1160>"
      ]
     },
     "metadata": {},
     "output_type": "display_data"
    }
   ],
   "source": [
    "sns.regplot(player_stats['age'], player_stats['overall_rating'], marker='.')\n",
    "plt.margins(0.02)"
   ]
  },
  {
   "cell_type": "code",
   "execution_count": 25,
   "metadata": {},
   "outputs": [
    {
     "data": {
      "text/plain": [
       "180748"
      ]
     },
     "execution_count": 25,
     "metadata": {},
     "output_type": "execute_result"
    }
   ],
   "source": [
    "len(player_stats.index)"
   ]
  },
  {
   "cell_type": "code",
   "execution_count": 26,
   "metadata": {},
   "outputs": [],
   "source": [
    "team_match_stats['home_victory'] = 0\n",
    "\n",
    "team_match_stats['away_victory'] = 0\n",
    "\n",
    "team_match_stats['tie'] = 0"
   ]
  },
  {
   "cell_type": "code",
   "execution_count": 27,
   "metadata": {},
   "outputs": [
    {
     "data": {
      "text/html": [
       "<div>\n",
       "<style scoped>\n",
       "    .dataframe tbody tr th:only-of-type {\n",
       "        vertical-align: middle;\n",
       "    }\n",
       "\n",
       "    .dataframe tbody tr th {\n",
       "        vertical-align: top;\n",
       "    }\n",
       "\n",
       "    .dataframe thead th {\n",
       "        text-align: right;\n",
       "    }\n",
       "</style>\n",
       "<table border=\"1\" class=\"dataframe\">\n",
       "  <thead>\n",
       "    <tr style=\"text-align: right;\">\n",
       "      <th></th>\n",
       "      <th>country_id</th>\n",
       "      <th>league_id</th>\n",
       "      <th>season</th>\n",
       "      <th>stage</th>\n",
       "      <th>date</th>\n",
       "      <th>match_api_id</th>\n",
       "      <th>home_team_api_id</th>\n",
       "      <th>away_team_api_id</th>\n",
       "      <th>home_team_goal</th>\n",
       "      <th>away_team_goal</th>\n",
       "      <th>country</th>\n",
       "      <th>league</th>\n",
       "      <th>home_team_long_name</th>\n",
       "      <th>home_team_short_name</th>\n",
       "      <th>away_team_long_name</th>\n",
       "      <th>away_team_short_name</th>\n",
       "      <th>home_victory</th>\n",
       "    </tr>\n",
       "  </thead>\n",
       "  <tbody>\n",
       "    <tr>\n",
       "      <th>0</th>\n",
       "      <td>1</td>\n",
       "      <td>1</td>\n",
       "      <td>2008/2009</td>\n",
       "      <td>1</td>\n",
       "      <td>2008-08-17 00:00:00</td>\n",
       "      <td>492473</td>\n",
       "      <td>9987</td>\n",
       "      <td>9993</td>\n",
       "      <td>1</td>\n",
       "      <td>1</td>\n",
       "      <td>Belgium</td>\n",
       "      <td>Belgium Jupiler League</td>\n",
       "      <td>KRC Genk</td>\n",
       "      <td>GEN</td>\n",
       "      <td>Beerschot AC</td>\n",
       "      <td>BAC</td>\n",
       "      <td>0</td>\n",
       "    </tr>\n",
       "    <tr>\n",
       "      <th>1</th>\n",
       "      <td>1</td>\n",
       "      <td>1</td>\n",
       "      <td>2009/2010</td>\n",
       "      <td>5</td>\n",
       "      <td>2009-08-30 00:00:00</td>\n",
       "      <td>665353</td>\n",
       "      <td>9987</td>\n",
       "      <td>9993</td>\n",
       "      <td>1</td>\n",
       "      <td>1</td>\n",
       "      <td>Belgium</td>\n",
       "      <td>Belgium Jupiler League</td>\n",
       "      <td>KRC Genk</td>\n",
       "      <td>GEN</td>\n",
       "      <td>Beerschot AC</td>\n",
       "      <td>BAC</td>\n",
       "      <td>0</td>\n",
       "    </tr>\n",
       "    <tr>\n",
       "      <th>2</th>\n",
       "      <td>1</td>\n",
       "      <td>1</td>\n",
       "      <td>2010/2011</td>\n",
       "      <td>1</td>\n",
       "      <td>2010-08-01 00:00:00</td>\n",
       "      <td>838476</td>\n",
       "      <td>9987</td>\n",
       "      <td>9993</td>\n",
       "      <td>2</td>\n",
       "      <td>1</td>\n",
       "      <td>Belgium</td>\n",
       "      <td>Belgium Jupiler League</td>\n",
       "      <td>KRC Genk</td>\n",
       "      <td>GEN</td>\n",
       "      <td>Beerschot AC</td>\n",
       "      <td>BAC</td>\n",
       "      <td>0</td>\n",
       "    </tr>\n",
       "    <tr>\n",
       "      <th>3</th>\n",
       "      <td>1</td>\n",
       "      <td>1</td>\n",
       "      <td>2011/2012</td>\n",
       "      <td>1</td>\n",
       "      <td>2011-07-30 00:00:00</td>\n",
       "      <td>1032694</td>\n",
       "      <td>9987</td>\n",
       "      <td>9993</td>\n",
       "      <td>3</td>\n",
       "      <td>1</td>\n",
       "      <td>Belgium</td>\n",
       "      <td>Belgium Jupiler League</td>\n",
       "      <td>KRC Genk</td>\n",
       "      <td>GEN</td>\n",
       "      <td>Beerschot AC</td>\n",
       "      <td>BAC</td>\n",
       "      <td>0</td>\n",
       "    </tr>\n",
       "    <tr>\n",
       "      <th>4</th>\n",
       "      <td>1</td>\n",
       "      <td>1</td>\n",
       "      <td>2012/2013</td>\n",
       "      <td>11</td>\n",
       "      <td>2012-10-20 00:00:00</td>\n",
       "      <td>1224064</td>\n",
       "      <td>9987</td>\n",
       "      <td>9993</td>\n",
       "      <td>3</td>\n",
       "      <td>0</td>\n",
       "      <td>Belgium</td>\n",
       "      <td>Belgium Jupiler League</td>\n",
       "      <td>KRC Genk</td>\n",
       "      <td>GEN</td>\n",
       "      <td>Beerschot AC</td>\n",
       "      <td>BAC</td>\n",
       "      <td>0</td>\n",
       "    </tr>\n",
       "  </tbody>\n",
       "</table>\n",
       "</div>"
      ],
      "text/plain": [
       "   country_id  league_id     season  stage                 date  match_api_id  \\\n",
       "0           1          1  2008/2009      1  2008-08-17 00:00:00        492473   \n",
       "1           1          1  2009/2010      5  2009-08-30 00:00:00        665353   \n",
       "2           1          1  2010/2011      1  2010-08-01 00:00:00        838476   \n",
       "3           1          1  2011/2012      1  2011-07-30 00:00:00       1032694   \n",
       "4           1          1  2012/2013     11  2012-10-20 00:00:00       1224064   \n",
       "\n",
       "   home_team_api_id  away_team_api_id  home_team_goal  away_team_goal  \\\n",
       "0              9987              9993               1               1   \n",
       "1              9987              9993               1               1   \n",
       "2              9987              9993               2               1   \n",
       "3              9987              9993               3               1   \n",
       "4              9987              9993               3               0   \n",
       "\n",
       "   country                  league home_team_long_name home_team_short_name  \\\n",
       "0  Belgium  Belgium Jupiler League            KRC Genk                  GEN   \n",
       "1  Belgium  Belgium Jupiler League            KRC Genk                  GEN   \n",
       "2  Belgium  Belgium Jupiler League            KRC Genk                  GEN   \n",
       "3  Belgium  Belgium Jupiler League            KRC Genk                  GEN   \n",
       "4  Belgium  Belgium Jupiler League            KRC Genk                  GEN   \n",
       "\n",
       "  away_team_long_name away_team_short_name  home_victory  \n",
       "0        Beerschot AC                  BAC             0  \n",
       "1        Beerschot AC                  BAC             0  \n",
       "2        Beerschot AC                  BAC             0  \n",
       "3        Beerschot AC                  BAC             0  \n",
       "4        Beerschot AC                  BAC             0  "
      ]
     },
     "execution_count": 27,
     "metadata": {},
     "output_type": "execute_result"
    }
   ],
   "source": [
    "team_match_stats.head()"
   ]
  },
  {
   "cell_type": "code",
   "execution_count": 32,
   "metadata": {},
   "outputs": [],
   "source": [
    "# Create the boolean array: home_win\n",
    "home_win = team_match_stats['home_team_goal'] > team_match_stats['away_team_goal']\n",
    "\n",
    "away_win = team_match_stats['home_team_goal'] < team_match_stats['away_team_goal']\n",
    "\n",
    "tie = team_match_stats['home_team_goal'] = team_match_stats['away_team_goal']"
   ]
  },
  {
   "cell_type": "code",
   "execution_count": 33,
   "metadata": {},
   "outputs": [
    {
     "name": "stdout",
     "output_type": "stream",
     "text": [
      "   country_id  league_id     season  stage                 date  match_api_id  \\\n",
      "0           1          1  2008/2009      1  2008-08-17 00:00:00        492473   \n",
      "1           1          1  2009/2010      5  2009-08-30 00:00:00        665353   \n",
      "2           1          1  2010/2011      1  2010-08-01 00:00:00        838476   \n",
      "3           1          1  2011/2012      1  2011-07-30 00:00:00       1032694   \n",
      "4           1          1  2012/2013     11  2012-10-20 00:00:00       1224064   \n",
      "\n",
      "   home_team_api_id  away_team_api_id  home_team_goal  away_team_goal  \\\n",
      "0              9987              9993               1               1   \n",
      "1              9987              9993               1               1   \n",
      "2              9987              9993               1               1   \n",
      "3              9987              9993               1               1   \n",
      "4              9987              9993               0               0   \n",
      "\n",
      "   country                  league home_team_long_name home_team_short_name  \\\n",
      "0  Belgium  Belgium Jupiler League            KRC Genk                  GEN   \n",
      "1  Belgium  Belgium Jupiler League            KRC Genk                  GEN   \n",
      "2  Belgium  Belgium Jupiler League            KRC Genk                  GEN   \n",
      "3  Belgium  Belgium Jupiler League            KRC Genk                  GEN   \n",
      "4  Belgium  Belgium Jupiler League            KRC Genk                  GEN   \n",
      "\n",
      "  away_team_long_name away_team_short_name  home_victory  away_victory  tie  \n",
      "0        Beerschot AC                  BAC             0           NaN  1.0  \n",
      "1        Beerschot AC                  BAC             0           NaN  1.0  \n",
      "2        Beerschot AC                  BAC             1           NaN  1.0  \n",
      "3        Beerschot AC                  BAC             1           NaN  1.0  \n",
      "4        Beerschot AC                  BAC             1           NaN  1.0  \n"
     ]
    }
   ],
   "source": [
    "# Assign 1 to the 'home_victory' column where the results were too close to call\n",
    "team_match_stats.loc[home_win, 'home_victory'] = 1\n",
    "\n",
    "team_match_stats.loc[away_win, 'away_victory'] = 1\n",
    "\n",
    "team_match_stats.loc[tie, 'tie'] = 1\n",
    "\n",
    "# Print the output of election.info()\n",
    "print(team_match_stats.head())"
   ]
  },
  {
   "cell_type": "code",
   "execution_count": 30,
   "metadata": {},
   "outputs": [],
   "source": [
    "pivoted_stats = team_match_stats.pivot_table(index='season', columns='home_team_long_name', values='home_victory', aggfunc='sum')"
   ]
  },
  {
   "cell_type": "code",
   "execution_count": 31,
   "metadata": {},
   "outputs": [
    {
     "data": {
      "text/html": [
       "<div>\n",
       "<style scoped>\n",
       "    .dataframe tbody tr th:only-of-type {\n",
       "        vertical-align: middle;\n",
       "    }\n",
       "\n",
       "    .dataframe tbody tr th {\n",
       "        vertical-align: top;\n",
       "    }\n",
       "\n",
       "    .dataframe thead th {\n",
       "        text-align: right;\n",
       "    }\n",
       "</style>\n",
       "<table border=\"1\" class=\"dataframe\">\n",
       "  <thead>\n",
       "    <tr style=\"text-align: right;\">\n",
       "      <th>home_team_long_name</th>\n",
       "      <th>1. FC Kaiserslautern</th>\n",
       "      <th>1. FC Köln</th>\n",
       "      <th>1. FC Nürnberg</th>\n",
       "      <th>1. FSV Mainz 05</th>\n",
       "      <th>AC Ajaccio</th>\n",
       "      <th>AC Arles-Avignon</th>\n",
       "      <th>AC Bellinzona</th>\n",
       "      <th>ADO Den Haag</th>\n",
       "      <th>AJ Auxerre</th>\n",
       "      <th>AS Monaco</th>\n",
       "      <th>...</th>\n",
       "      <th>Widzew Łódź</th>\n",
       "      <th>Wigan Athletic</th>\n",
       "      <th>Willem II</th>\n",
       "      <th>Wisła Kraków</th>\n",
       "      <th>Wolverhampton Wanderers</th>\n",
       "      <th>Xerez Club Deportivo</th>\n",
       "      <th>Zagłębie Lubin</th>\n",
       "      <th>Zawisza Bydgoszcz</th>\n",
       "      <th>Évian Thonon Gaillard FC</th>\n",
       "      <th>Śląsk Wrocław</th>\n",
       "    </tr>\n",
       "    <tr>\n",
       "      <th>season</th>\n",
       "      <th></th>\n",
       "      <th></th>\n",
       "      <th></th>\n",
       "      <th></th>\n",
       "      <th></th>\n",
       "      <th></th>\n",
       "      <th></th>\n",
       "      <th></th>\n",
       "      <th></th>\n",
       "      <th></th>\n",
       "      <th></th>\n",
       "      <th></th>\n",
       "      <th></th>\n",
       "      <th></th>\n",
       "      <th></th>\n",
       "      <th></th>\n",
       "      <th></th>\n",
       "      <th></th>\n",
       "      <th></th>\n",
       "      <th></th>\n",
       "      <th></th>\n",
       "    </tr>\n",
       "  </thead>\n",
       "  <tbody>\n",
       "    <tr>\n",
       "      <th>2008/2009</th>\n",
       "      <td>NaN</td>\n",
       "      <td>4.0</td>\n",
       "      <td>NaN</td>\n",
       "      <td>NaN</td>\n",
       "      <td>NaN</td>\n",
       "      <td>NaN</td>\n",
       "      <td>8.0</td>\n",
       "      <td>5.0</td>\n",
       "      <td>8.0</td>\n",
       "      <td>7.0</td>\n",
       "      <td>...</td>\n",
       "      <td>6.0</td>\n",
       "      <td>8.0</td>\n",
       "      <td>6.0</td>\n",
       "      <td>13.0</td>\n",
       "      <td>NaN</td>\n",
       "      <td>NaN</td>\n",
       "      <td>NaN</td>\n",
       "      <td>NaN</td>\n",
       "      <td>NaN</td>\n",
       "      <td>8.0</td>\n",
       "    </tr>\n",
       "    <tr>\n",
       "      <th>2009/2010</th>\n",
       "      <td>NaN</td>\n",
       "      <td>3.0</td>\n",
       "      <td>5.0</td>\n",
       "      <td>9.0</td>\n",
       "      <td>NaN</td>\n",
       "      <td>NaN</td>\n",
       "      <td>5.0</td>\n",
       "      <td>4.0</td>\n",
       "      <td>11.0</td>\n",
       "      <td>11.0</td>\n",
       "      <td>...</td>\n",
       "      <td>NaN</td>\n",
       "      <td>6.0</td>\n",
       "      <td>6.0</td>\n",
       "      <td>8.0</td>\n",
       "      <td>5.0</td>\n",
       "      <td>6.0</td>\n",
       "      <td>3.0</td>\n",
       "      <td>NaN</td>\n",
       "      <td>NaN</td>\n",
       "      <td>7.0</td>\n",
       "    </tr>\n",
       "    <tr>\n",
       "      <th>2010/2011</th>\n",
       "      <td>6.0</td>\n",
       "      <td>11.0</td>\n",
       "      <td>9.0</td>\n",
       "      <td>8.0</td>\n",
       "      <td>NaN</td>\n",
       "      <td>2.0</td>\n",
       "      <td>4.0</td>\n",
       "      <td>10.0</td>\n",
       "      <td>6.0</td>\n",
       "      <td>5.0</td>\n",
       "      <td>...</td>\n",
       "      <td>7.0</td>\n",
       "      <td>5.0</td>\n",
       "      <td>3.0</td>\n",
       "      <td>11.0</td>\n",
       "      <td>8.0</td>\n",
       "      <td>NaN</td>\n",
       "      <td>7.0</td>\n",
       "      <td>NaN</td>\n",
       "      <td>NaN</td>\n",
       "      <td>7.0</td>\n",
       "    </tr>\n",
       "    <tr>\n",
       "      <th>2011/2012</th>\n",
       "      <td>2.0</td>\n",
       "      <td>5.0</td>\n",
       "      <td>6.0</td>\n",
       "      <td>7.0</td>\n",
       "      <td>6.0</td>\n",
       "      <td>NaN</td>\n",
       "      <td>NaN</td>\n",
       "      <td>5.0</td>\n",
       "      <td>6.0</td>\n",
       "      <td>NaN</td>\n",
       "      <td>...</td>\n",
       "      <td>6.0</td>\n",
       "      <td>5.0</td>\n",
       "      <td>NaN</td>\n",
       "      <td>7.0</td>\n",
       "      <td>3.0</td>\n",
       "      <td>NaN</td>\n",
       "      <td>6.0</td>\n",
       "      <td>NaN</td>\n",
       "      <td>9.0</td>\n",
       "      <td>9.0</td>\n",
       "    </tr>\n",
       "    <tr>\n",
       "      <th>2012/2013</th>\n",
       "      <td>NaN</td>\n",
       "      <td>NaN</td>\n",
       "      <td>7.0</td>\n",
       "      <td>7.0</td>\n",
       "      <td>7.0</td>\n",
       "      <td>NaN</td>\n",
       "      <td>NaN</td>\n",
       "      <td>6.0</td>\n",
       "      <td>NaN</td>\n",
       "      <td>NaN</td>\n",
       "      <td>...</td>\n",
       "      <td>6.0</td>\n",
       "      <td>4.0</td>\n",
       "      <td>5.0</td>\n",
       "      <td>6.0</td>\n",
       "      <td>NaN</td>\n",
       "      <td>NaN</td>\n",
       "      <td>7.0</td>\n",
       "      <td>NaN</td>\n",
       "      <td>6.0</td>\n",
       "      <td>9.0</td>\n",
       "    </tr>\n",
       "  </tbody>\n",
       "</table>\n",
       "<p>5 rows × 296 columns</p>\n",
       "</div>"
      ],
      "text/plain": [
       "home_team_long_name  1. FC Kaiserslautern  1. FC Köln  1. FC Nürnberg  \\\n",
       "season                                                                  \n",
       "2008/2009                             NaN         4.0             NaN   \n",
       "2009/2010                             NaN         3.0             5.0   \n",
       "2010/2011                             6.0        11.0             9.0   \n",
       "2011/2012                             2.0         5.0             6.0   \n",
       "2012/2013                             NaN         NaN             7.0   \n",
       "\n",
       "home_team_long_name  1. FSV Mainz 05  AC Ajaccio  AC Arles-Avignon  \\\n",
       "season                                                               \n",
       "2008/2009                        NaN         NaN               NaN   \n",
       "2009/2010                        9.0         NaN               NaN   \n",
       "2010/2011                        8.0         NaN               2.0   \n",
       "2011/2012                        7.0         6.0               NaN   \n",
       "2012/2013                        7.0         7.0               NaN   \n",
       "\n",
       "home_team_long_name  AC Bellinzona  ADO Den Haag  AJ Auxerre  AS Monaco  \\\n",
       "season                                                                    \n",
       "2008/2009                      8.0           5.0         8.0        7.0   \n",
       "2009/2010                      5.0           4.0        11.0       11.0   \n",
       "2010/2011                      4.0          10.0         6.0        5.0   \n",
       "2011/2012                      NaN           5.0         6.0        NaN   \n",
       "2012/2013                      NaN           6.0         NaN        NaN   \n",
       "\n",
       "home_team_long_name      ...        Widzew Łódź  Wigan Athletic  Willem II  \\\n",
       "season                   ...                                                 \n",
       "2008/2009                ...                6.0             8.0        6.0   \n",
       "2009/2010                ...                NaN             6.0        6.0   \n",
       "2010/2011                ...                7.0             5.0        3.0   \n",
       "2011/2012                ...                6.0             5.0        NaN   \n",
       "2012/2013                ...                6.0             4.0        5.0   \n",
       "\n",
       "home_team_long_name  Wisła Kraków  Wolverhampton Wanderers  \\\n",
       "season                                                       \n",
       "2008/2009                    13.0                      NaN   \n",
       "2009/2010                     8.0                      5.0   \n",
       "2010/2011                    11.0                      8.0   \n",
       "2011/2012                     7.0                      3.0   \n",
       "2012/2013                     6.0                      NaN   \n",
       "\n",
       "home_team_long_name  Xerez Club Deportivo  Zagłębie Lubin  Zawisza Bydgoszcz  \\\n",
       "season                                                                         \n",
       "2008/2009                             NaN             NaN                NaN   \n",
       "2009/2010                             6.0             3.0                NaN   \n",
       "2010/2011                             NaN             7.0                NaN   \n",
       "2011/2012                             NaN             6.0                NaN   \n",
       "2012/2013                             NaN             7.0                NaN   \n",
       "\n",
       "home_team_long_name  Évian Thonon Gaillard FC  Śląsk Wrocław  \n",
       "season                                                        \n",
       "2008/2009                                 NaN            8.0  \n",
       "2009/2010                                 NaN            7.0  \n",
       "2010/2011                                 NaN            7.0  \n",
       "2011/2012                                 9.0            9.0  \n",
       "2012/2013                                 6.0            9.0  \n",
       "\n",
       "[5 rows x 296 columns]"
      ]
     },
     "execution_count": 31,
     "metadata": {},
     "output_type": "execute_result"
    }
   ],
   "source": [
    "pivoted_stats.head()"
   ]
  },
  {
   "cell_type": "code",
   "execution_count": null,
   "metadata": {},
   "outputs": [],
   "source": [
    "pivoted_stats.idxmax()"
   ]
  },
  {
   "cell_type": "code",
   "execution_count": null,
   "metadata": {},
   "outputs": [],
   "source": []
  }
 ],
 "metadata": {
  "kernelspec": {
   "display_name": "Python [default]",
   "language": "python",
   "name": "python3"
  },
  "language_info": {
   "codemirror_mode": {
    "name": "ipython",
    "version": 3
   },
   "file_extension": ".py",
   "mimetype": "text/x-python",
   "name": "python",
   "nbconvert_exporter": "python",
   "pygments_lexer": "ipython3",
   "version": "3.6.4"
  }
 },
 "nbformat": 4,
 "nbformat_minor": 2
}
