{
 "cells": [
  {
   "cell_type": "markdown",
   "metadata": {},
   "source": [
    "# Project: Investigate the European Soccer Database\n",
    "\n",
    "## Table of Contents\n",
    "<ul>\n",
    "<li><a href=\"#intro\">Introduction</a></li>\n",
    "<li><a href=\"#wrangling\">Data Wrangling</a></li>\n",
    "<li><a href=\"#eda\">Exploratory Data Analysis</a></li>\n",
    "<li><a href=\"#conclusions\">Conclusions</a></li>\n",
    "</ul>"
   ]
  },
  {
   "cell_type": "markdown",
   "metadata": {},
   "source": [
    "<a id='intro'></a>\n",
    "## Introduction\n",
    "\n",
    "In this project, I am going to perform data analysis on a <a href=\"https://www.kaggle.com/hugomathien/soccer/data\">soccer database</a>. This database contains information of:<br>\n",
    "- +25,000 matches\n",
    "- +10,000 players\n",
    "- 11 European Countries with their lead championship\n",
    "- Seasons 2008 to 2016\n",
    "- Players and Teams' attributes* sourced from EA Sports' FIFA video game series, including the weekly updates\n",
    "- Team line up with squad formation (X, Y coordinates)\n",
    "- Betting odds from up to 10 providers\n",
    "- Detailed match events (goal types, possession, corner, cross, fouls, cards etc...) for +10,000 matches\n",
    "\n",
    "I will focus on investigating the players and their associated attributes.\n",
    "\n",
    "Questions that I will be pondering upon include: <br>\n",
    "1. Do players use left foot have greater free kick accuracy? Or do they actually have the same accuracy?\n",
    "2. Are there any relationships between height and heading accuracy?\n",
    "3. Are there any relationships between players' age and overall rating?"
   ]
  },
  {
   "cell_type": "code",
   "execution_count": 1,
   "metadata": {},
   "outputs": [],
   "source": [
    "### Let's first load up all the packages that are necessary for the analysis.\n",
    "\n",
    "# load all necessary packages for the data analysis\n",
    "from sqlalchemy import create_engine\n",
    "import numpy as np\n",
    "import pandas as pd\n",
    "import matplotlib.pyplot as plt\n",
    "import seaborn as sns\n",
    "sns.set_style(style=\"darkgrid\")\n",
    "\n",
    "# the magic keywords for visualizing the plots\n",
    "%matplotlib inline"
   ]
  },
  {
   "cell_type": "markdown",
   "metadata": {},
   "source": [
    "<a id='wrangling'></a>\n",
    "## Data Wrangling\n",
    "\n",
    "The data set is stored in a SQLite database, and I am going to use the ORM, SQLAlchemy, to retrieve the data. For the sake of convenience and flexibility, I am going to turn all the retrieved data into Pandas Dataframes; so I get to leverage the maneuvers provided by the loaded libraries (Packages).\n",
    "\n",
    "Steps that I am going to take: <br>\n",
    "1. Create an interface to interact with the database\n",
    "2. Retrieve the data, which should be in the form of multiple tables\n",
    "3. Turn the tables into Pandas Dataframes\n",
    "3. Inspect the data for cleanliness and tidiness\n",
    "4. Trim and consolidate the data for further analysis\n",
    "\n",
    "### General Properties"
   ]
  },
  {
   "cell_type": "code",
   "execution_count": 2,
   "metadata": {},
   "outputs": [
    {
     "name": "stdout",
     "output_type": "stream",
     "text": [
      "['Country', 'League', 'Match', 'Player', 'Player_Attributes', 'Team', 'Team_Attributes', 'sqlite_sequence']\n"
     ]
    }
   ],
   "source": [
    "### Let's see what tables are included in the database by creating an interface (Engine).\n",
    "\n",
    "# create an engine as an interface to interact with the database\n",
    "engine = create_engine('sqlite:///dataset/database.sqlite')\n",
    "\n",
    "# create a table object for the tables identified in the database\n",
    "tables_in_db = engine.table_names()\n",
    "\n",
    "# sanity check on the table names\n",
    "print(tables_in_db)"
   ]
  },
  {
   "cell_type": "code",
   "execution_count": 3,
   "metadata": {},
   "outputs": [],
   "source": [
    "### Let's create a function so we get to retrieve the tables identified in the database.\n",
    "\n",
    "# create a function that turns the tables into Pandas DataFrames stored in a dictionary\n",
    "def df_sql_table(list_of_tables):\n",
    "    \"\"\"Read SQL tables and turn them into DataFrames.\"\"\"\n",
    "    \n",
    "    # these will be the values that correspond to the dictionary's keys (Table names)\n",
    "    table_df = []\n",
    "    \n",
    "    # a for loop to read all the tables identified in the database into Pandas Dataframes\n",
    "    for table in list_of_tables:\n",
    "        df = pd.read_sql_table(table, engine, parse_dates=True)\n",
    "        # append each DataFrame to the list initiated\n",
    "        table_df.append(df)\n",
    "    \n",
    "    # zip the labels and DataFrames\n",
    "    zipped = list(zip(list_of_tables, table_df))\n",
    "    # turn the zipped object into a dictionary\n",
    "    table_df_in_dict = dict(zipped)\n",
    "    \n",
    "    return table_df_in_dict"
   ]
  },
  {
   "cell_type": "code",
   "execution_count": 4,
   "metadata": {},
   "outputs": [
    {
     "name": "stdout",
     "output_type": "stream",
     "text": [
      "dict_keys(['Country', 'League', 'Match', 'Player', 'Player_Attributes', 'Team', 'Team_Attributes', 'sqlite_sequence'])\n"
     ]
    }
   ],
   "source": [
    "### Run the function so we can turn the tables into DataFrames.\n",
    "\n",
    "# implement the function on the table object\n",
    "data = df_sql_table(tables_in_db)\n",
    "\n",
    "# sanity check on dictionary keys\n",
    "print(data.keys())"
   ]
  },
  {
   "cell_type": "code",
   "execution_count": 5,
   "metadata": {
    "scrolled": true
   },
   "outputs": [
    {
     "name": "stdout",
     "output_type": "stream",
     "text": [
      "<class 'pandas.core.frame.DataFrame'>\n",
      "RangeIndex: 11 entries, 0 to 10\n",
      "Data columns (total 2 columns):\n",
      "id      11 non-null int64\n",
      "name    11 non-null object\n",
      "dtypes: int64(1), object(1)\n",
      "memory usage: 256.0+ bytes\n",
      "<class 'pandas.core.frame.DataFrame'>\n",
      "RangeIndex: 11 entries, 0 to 10\n",
      "Data columns (total 3 columns):\n",
      "id            11 non-null int64\n",
      "country_id    11 non-null int64\n",
      "name          11 non-null object\n",
      "dtypes: int64(2), object(1)\n",
      "memory usage: 344.0+ bytes\n",
      "<class 'pandas.core.frame.DataFrame'>\n",
      "RangeIndex: 25979 entries, 0 to 25978\n",
      "Columns: 115 entries, id to BSA\n",
      "dtypes: float64(96), int64(9), object(10)\n",
      "memory usage: 22.8+ MB\n",
      "<class 'pandas.core.frame.DataFrame'>\n",
      "RangeIndex: 11060 entries, 0 to 11059\n",
      "Data columns (total 7 columns):\n",
      "id                    11060 non-null int64\n",
      "player_api_id         11060 non-null int64\n",
      "player_name           11060 non-null object\n",
      "player_fifa_api_id    11060 non-null int64\n",
      "birthday              11060 non-null object\n",
      "height                11060 non-null int64\n",
      "weight                11060 non-null int64\n",
      "dtypes: int64(5), object(2)\n",
      "memory usage: 604.9+ KB\n",
      "<class 'pandas.core.frame.DataFrame'>\n",
      "RangeIndex: 183978 entries, 0 to 183977\n",
      "Data columns (total 42 columns):\n",
      "id                     183978 non-null int64\n",
      "player_fifa_api_id     183978 non-null int64\n",
      "player_api_id          183978 non-null int64\n",
      "date                   183978 non-null object\n",
      "overall_rating         183142 non-null float64\n",
      "potential              183142 non-null float64\n",
      "preferred_foot         183142 non-null object\n",
      "attacking_work_rate    180748 non-null object\n",
      "defensive_work_rate    183142 non-null object\n",
      "crossing               183142 non-null float64\n",
      "finishing              183142 non-null float64\n",
      "heading_accuracy       183142 non-null float64\n",
      "short_passing          183142 non-null float64\n",
      "volleys                181265 non-null float64\n",
      "dribbling              183142 non-null float64\n",
      "curve                  181265 non-null float64\n",
      "free_kick_accuracy     183142 non-null float64\n",
      "long_passing           183142 non-null float64\n",
      "ball_control           183142 non-null float64\n",
      "acceleration           183142 non-null float64\n",
      "sprint_speed           183142 non-null float64\n",
      "agility                181265 non-null float64\n",
      "reactions              183142 non-null float64\n",
      "balance                181265 non-null float64\n",
      "shot_power             183142 non-null float64\n",
      "jumping                181265 non-null float64\n",
      "stamina                183142 non-null float64\n",
      "strength               183142 non-null float64\n",
      "long_shots             183142 non-null float64\n",
      "aggression             183142 non-null float64\n",
      "interceptions          183142 non-null float64\n",
      "positioning            183142 non-null float64\n",
      "vision                 181265 non-null float64\n",
      "penalties              183142 non-null float64\n",
      "marking                183142 non-null float64\n",
      "standing_tackle        183142 non-null float64\n",
      "sliding_tackle         181265 non-null float64\n",
      "gk_diving              183142 non-null float64\n",
      "gk_handling            183142 non-null float64\n",
      "gk_kicking             183142 non-null float64\n",
      "gk_positioning         183142 non-null float64\n",
      "gk_reflexes            183142 non-null float64\n",
      "dtypes: float64(35), int64(3), object(4)\n",
      "memory usage: 59.0+ MB\n",
      "<class 'pandas.core.frame.DataFrame'>\n",
      "RangeIndex: 299 entries, 0 to 298\n",
      "Data columns (total 5 columns):\n",
      "id                  299 non-null int64\n",
      "team_api_id         299 non-null int64\n",
      "team_fifa_api_id    288 non-null float64\n",
      "team_long_name      299 non-null object\n",
      "team_short_name     299 non-null object\n",
      "dtypes: float64(1), int64(2), object(2)\n",
      "memory usage: 11.8+ KB\n",
      "<class 'pandas.core.frame.DataFrame'>\n",
      "RangeIndex: 1458 entries, 0 to 1457\n",
      "Data columns (total 25 columns):\n",
      "id                                1458 non-null int64\n",
      "team_fifa_api_id                  1458 non-null int64\n",
      "team_api_id                       1458 non-null int64\n",
      "date                              1458 non-null object\n",
      "buildUpPlaySpeed                  1458 non-null int64\n",
      "buildUpPlaySpeedClass             1458 non-null object\n",
      "buildUpPlayDribbling              489 non-null float64\n",
      "buildUpPlayDribblingClass         1458 non-null object\n",
      "buildUpPlayPassing                1458 non-null int64\n",
      "buildUpPlayPassingClass           1458 non-null object\n",
      "buildUpPlayPositioningClass       1458 non-null object\n",
      "chanceCreationPassing             1458 non-null int64\n",
      "chanceCreationPassingClass        1458 non-null object\n",
      "chanceCreationCrossing            1458 non-null int64\n",
      "chanceCreationCrossingClass       1458 non-null object\n",
      "chanceCreationShooting            1458 non-null int64\n",
      "chanceCreationShootingClass       1458 non-null object\n",
      "chanceCreationPositioningClass    1458 non-null object\n",
      "defencePressure                   1458 non-null int64\n",
      "defencePressureClass              1458 non-null object\n",
      "defenceAggression                 1458 non-null int64\n",
      "defenceAggressionClass            1458 non-null object\n",
      "defenceTeamWidth                  1458 non-null int64\n",
      "defenceTeamWidthClass             1458 non-null object\n",
      "defenceDefenderLineClass          1458 non-null object\n",
      "dtypes: float64(1), int64(11), object(13)\n",
      "memory usage: 284.8+ KB\n",
      "<class 'pandas.core.frame.DataFrame'>\n",
      "RangeIndex: 7 entries, 0 to 6\n",
      "Data columns (total 2 columns):\n",
      "name    7 non-null object\n",
      "seq     7 non-null int64\n",
      "dtypes: int64(1), object(1)\n",
      "memory usage: 192.0+ bytes\n"
     ]
    }
   ],
   "source": [
    "### Inspect the loaded data for cleanliness and tidiness.\n",
    "\n",
    "# conduct preliminary inspection on the data set\n",
    "info_check = [i.info() for i in data.values()]"
   ]
  },
  {
   "cell_type": "markdown",
   "metadata": {},
   "source": [
    "From the info_check, we can see that the data sets are generally pretty clean and tidy, and there are not many missing values (With a few exceptions). Nonetheless, they can be further tailored to fit the purpose of the analysis.\n",
    "\n",
    "A few tweaks I am going to do:\n",
    "1. For some columns, change the object datatype (string in this case) to category datatype to reduce memory usage\n",
    "2. For the columns with numeric datatype and a few missing values, use the mean to fill the missing values\n",
    "3. Drop the columns with too many missing values\n",
    "4. Drop the columns that are not necessary for the analysis\n",
    "\n",
    "### Data Cleaning "
   ]
  },
  {
   "cell_type": "markdown",
   "metadata": {},
   "source": [
    "This is such a large data set in which contains way more inforamtion than I need; so I am going to only focus on tailoring the players' tables which I need for the analysis:\n",
    "1. Player\n",
    "2. Player_Attributes\n",
    "\n",
    "My strategy is to first clean them up, and further consolidate them by performing a merge."
   ]
  },
  {
   "cell_type": "code",
   "execution_count": 6,
   "metadata": {},
   "outputs": [],
   "source": [
    "### Drop redundant columns in the Player DataFrame.\n",
    "\n",
    "# Drop the id and the player_fifa_api_id column\n",
    "data['Player'].drop(['id', 'player_fifa_api_id'], axis=1, inplace=True)"
   ]
  },
  {
   "cell_type": "code",
   "execution_count": 7,
   "metadata": {},
   "outputs": [
    {
     "name": "stdout",
     "output_type": "stream",
     "text": [
      "False    11060\n",
      "dtype: int64\n"
     ]
    }
   ],
   "source": [
    "### Check to see if there are any duplicates in the Player DataFrame.\n",
    "\n",
    "# Check to see if there are any duplicates\n",
    "print(data['Player'].duplicated().value_counts())"
   ]
  },
  {
   "cell_type": "code",
   "execution_count": 8,
   "metadata": {},
   "outputs": [],
   "source": [
    "### Change the 3 columns in the Player_Attributes DataFrame to category type.\n",
    "\n",
    "# A loop to change the datatype\n",
    "for col in ['preferred_foot', 'attacking_work_rate', 'defensive_work_rate']:\n",
    "    data['Player_Attributes'][col] = data['Player_Attributes'][col].astype('category')"
   ]
  },
  {
   "cell_type": "code",
   "execution_count": 9,
   "metadata": {},
   "outputs": [
    {
     "data": {
      "text/plain": [
       "False"
      ]
     },
     "execution_count": 9,
     "metadata": {},
     "output_type": "execute_result"
    }
   ],
   "source": [
    "### Fill and drop the NaN values in the Player_Attributes DataFrame.\n",
    "\n",
    "# Fill the NaN values with the mean associated with the column\n",
    "data['Player_Attributes'].fillna(data['Player_Attributes'].mean(), inplace=True)\n",
    "\n",
    "# Drop the NaN values in non-numeric columns\n",
    "data['Player_Attributes'].dropna(inplace=True)\n",
    "\n",
    "# Make sure NaN values are all gone\n",
    "data['Player_Attributes'].isnull().sum().any()"
   ]
  },
  {
   "cell_type": "code",
   "execution_count": 10,
   "metadata": {},
   "outputs": [],
   "source": [
    "### Drop redundant columns in the Player_Attributes DataFrame.\n",
    "\n",
    "# Drop the id and the player_fifa_api_id column\n",
    "data['Player_Attributes'].drop(['id', 'player_fifa_api_id'], axis=1, inplace=True)"
   ]
  },
  {
   "cell_type": "code",
   "execution_count": 11,
   "metadata": {},
   "outputs": [
    {
     "name": "stdout",
     "output_type": "stream",
     "text": [
      "False    180748\n",
      "dtype: int64\n"
     ]
    }
   ],
   "source": [
    "### Check to see if there are any duplicates in the Player_Attributes DataFrame.\n",
    "\n",
    "# Check to see if there are duplicates\n",
    "print(data['Player_Attributes'].duplicated().value_counts())"
   ]
  },
  {
   "cell_type": "code",
   "execution_count": 12,
   "metadata": {},
   "outputs": [],
   "source": [
    "### Consolidate the players' data by merging them into one DataFrame.\n",
    "\n",
    "# Create a consolidated DataFrame for players\n",
    "player_stats = pd.merge(data['Player'], data['Player_Attributes'], on=['player_api_id'], how='inner')"
   ]
  },
  {
   "cell_type": "code",
   "execution_count": 13,
   "metadata": {},
   "outputs": [
    {
     "data": {
      "text/html": [
       "<div>\n",
       "<style scoped>\n",
       "    .dataframe tbody tr th:only-of-type {\n",
       "        vertical-align: middle;\n",
       "    }\n",
       "\n",
       "    .dataframe tbody tr th {\n",
       "        vertical-align: top;\n",
       "    }\n",
       "\n",
       "    .dataframe thead th {\n",
       "        text-align: right;\n",
       "    }\n",
       "</style>\n",
       "<table border=\"1\" class=\"dataframe\">\n",
       "  <thead>\n",
       "    <tr style=\"text-align: right;\">\n",
       "      <th></th>\n",
       "      <th>player_api_id</th>\n",
       "      <th>player_name</th>\n",
       "      <th>birthday</th>\n",
       "      <th>height</th>\n",
       "      <th>weight</th>\n",
       "      <th>date</th>\n",
       "      <th>overall_rating</th>\n",
       "      <th>potential</th>\n",
       "      <th>preferred_foot</th>\n",
       "      <th>attacking_work_rate</th>\n",
       "      <th>...</th>\n",
       "      <th>penalties</th>\n",
       "      <th>marking</th>\n",
       "      <th>standing_tackle</th>\n",
       "      <th>sliding_tackle</th>\n",
       "      <th>gk_diving</th>\n",
       "      <th>gk_handling</th>\n",
       "      <th>gk_kicking</th>\n",
       "      <th>gk_positioning</th>\n",
       "      <th>gk_reflexes</th>\n",
       "      <th>age</th>\n",
       "    </tr>\n",
       "  </thead>\n",
       "  <tbody>\n",
       "    <tr>\n",
       "      <th>0</th>\n",
       "      <td>505942</td>\n",
       "      <td>Aaron Appindangoye</td>\n",
       "      <td>1992-02-29</td>\n",
       "      <td>182</td>\n",
       "      <td>187</td>\n",
       "      <td>2016-02-18 00:00:00</td>\n",
       "      <td>67.0</td>\n",
       "      <td>71.0</td>\n",
       "      <td>right</td>\n",
       "      <td>medium</td>\n",
       "      <td>...</td>\n",
       "      <td>48.0</td>\n",
       "      <td>65.0</td>\n",
       "      <td>69.0</td>\n",
       "      <td>69.0</td>\n",
       "      <td>6.0</td>\n",
       "      <td>11.0</td>\n",
       "      <td>10.0</td>\n",
       "      <td>8.0</td>\n",
       "      <td>8.0</td>\n",
       "      <td>25.0</td>\n",
       "    </tr>\n",
       "    <tr>\n",
       "      <th>1</th>\n",
       "      <td>505942</td>\n",
       "      <td>Aaron Appindangoye</td>\n",
       "      <td>1992-02-29</td>\n",
       "      <td>182</td>\n",
       "      <td>187</td>\n",
       "      <td>2015-11-19 00:00:00</td>\n",
       "      <td>67.0</td>\n",
       "      <td>71.0</td>\n",
       "      <td>right</td>\n",
       "      <td>medium</td>\n",
       "      <td>...</td>\n",
       "      <td>48.0</td>\n",
       "      <td>65.0</td>\n",
       "      <td>69.0</td>\n",
       "      <td>69.0</td>\n",
       "      <td>6.0</td>\n",
       "      <td>11.0</td>\n",
       "      <td>10.0</td>\n",
       "      <td>8.0</td>\n",
       "      <td>8.0</td>\n",
       "      <td>25.0</td>\n",
       "    </tr>\n",
       "    <tr>\n",
       "      <th>2</th>\n",
       "      <td>505942</td>\n",
       "      <td>Aaron Appindangoye</td>\n",
       "      <td>1992-02-29</td>\n",
       "      <td>182</td>\n",
       "      <td>187</td>\n",
       "      <td>2015-09-21 00:00:00</td>\n",
       "      <td>62.0</td>\n",
       "      <td>66.0</td>\n",
       "      <td>right</td>\n",
       "      <td>medium</td>\n",
       "      <td>...</td>\n",
       "      <td>48.0</td>\n",
       "      <td>65.0</td>\n",
       "      <td>66.0</td>\n",
       "      <td>69.0</td>\n",
       "      <td>6.0</td>\n",
       "      <td>11.0</td>\n",
       "      <td>10.0</td>\n",
       "      <td>8.0</td>\n",
       "      <td>8.0</td>\n",
       "      <td>25.0</td>\n",
       "    </tr>\n",
       "    <tr>\n",
       "      <th>3</th>\n",
       "      <td>505942</td>\n",
       "      <td>Aaron Appindangoye</td>\n",
       "      <td>1992-02-29</td>\n",
       "      <td>182</td>\n",
       "      <td>187</td>\n",
       "      <td>2015-03-20 00:00:00</td>\n",
       "      <td>61.0</td>\n",
       "      <td>65.0</td>\n",
       "      <td>right</td>\n",
       "      <td>medium</td>\n",
       "      <td>...</td>\n",
       "      <td>47.0</td>\n",
       "      <td>62.0</td>\n",
       "      <td>63.0</td>\n",
       "      <td>66.0</td>\n",
       "      <td>5.0</td>\n",
       "      <td>10.0</td>\n",
       "      <td>9.0</td>\n",
       "      <td>7.0</td>\n",
       "      <td>7.0</td>\n",
       "      <td>25.0</td>\n",
       "    </tr>\n",
       "    <tr>\n",
       "      <th>4</th>\n",
       "      <td>505942</td>\n",
       "      <td>Aaron Appindangoye</td>\n",
       "      <td>1992-02-29</td>\n",
       "      <td>182</td>\n",
       "      <td>187</td>\n",
       "      <td>2007-02-22 00:00:00</td>\n",
       "      <td>61.0</td>\n",
       "      <td>65.0</td>\n",
       "      <td>right</td>\n",
       "      <td>medium</td>\n",
       "      <td>...</td>\n",
       "      <td>47.0</td>\n",
       "      <td>62.0</td>\n",
       "      <td>63.0</td>\n",
       "      <td>66.0</td>\n",
       "      <td>5.0</td>\n",
       "      <td>10.0</td>\n",
       "      <td>9.0</td>\n",
       "      <td>7.0</td>\n",
       "      <td>7.0</td>\n",
       "      <td>25.0</td>\n",
       "    </tr>\n",
       "  </tbody>\n",
       "</table>\n",
       "<p>5 rows × 45 columns</p>\n",
       "</div>"
      ],
      "text/plain": [
       "   player_api_id         player_name   birthday  height  weight  \\\n",
       "0         505942  Aaron Appindangoye 1992-02-29     182     187   \n",
       "1         505942  Aaron Appindangoye 1992-02-29     182     187   \n",
       "2         505942  Aaron Appindangoye 1992-02-29     182     187   \n",
       "3         505942  Aaron Appindangoye 1992-02-29     182     187   \n",
       "4         505942  Aaron Appindangoye 1992-02-29     182     187   \n",
       "\n",
       "                  date  overall_rating  potential preferred_foot  \\\n",
       "0  2016-02-18 00:00:00            67.0       71.0          right   \n",
       "1  2015-11-19 00:00:00            67.0       71.0          right   \n",
       "2  2015-09-21 00:00:00            62.0       66.0          right   \n",
       "3  2015-03-20 00:00:00            61.0       65.0          right   \n",
       "4  2007-02-22 00:00:00            61.0       65.0          right   \n",
       "\n",
       "  attacking_work_rate  ...  penalties  marking  standing_tackle  \\\n",
       "0              medium  ...       48.0     65.0             69.0   \n",
       "1              medium  ...       48.0     65.0             69.0   \n",
       "2              medium  ...       48.0     65.0             66.0   \n",
       "3              medium  ...       47.0     62.0             63.0   \n",
       "4              medium  ...       47.0     62.0             63.0   \n",
       "\n",
       "   sliding_tackle  gk_diving  gk_handling  gk_kicking  gk_positioning  \\\n",
       "0            69.0        6.0         11.0        10.0             8.0   \n",
       "1            69.0        6.0         11.0        10.0             8.0   \n",
       "2            69.0        6.0         11.0        10.0             8.0   \n",
       "3            66.0        5.0         10.0         9.0             7.0   \n",
       "4            66.0        5.0         10.0         9.0             7.0   \n",
       "\n",
       "   gk_reflexes   age  \n",
       "0          8.0  25.0  \n",
       "1          8.0  25.0  \n",
       "2          8.0  25.0  \n",
       "3          7.0  25.0  \n",
       "4          7.0  25.0  \n",
       "\n",
       "[5 rows x 45 columns]"
      ]
     },
     "execution_count": 13,
     "metadata": {},
     "output_type": "execute_result"
    }
   ],
   "source": [
    "### Create an age column for the player_stats Dataframe\n",
    "\n",
    "# Import datetime package\n",
    "from datetime import datetime\n",
    "\n",
    "# Create a datetime object which reflects the current time\n",
    "now = datetime.now()\n",
    "\n",
    "# Change the players' birthday to datetime objects\n",
    "player_stats['birthday'] = pd.to_datetime(player_stats['birthday'])\n",
    "\n",
    "# Perform subtraction to get the player's age\n",
    "player_stats['age'] = (now - player_stats['birthday']).astype('<m8[Y]')\n",
    "\n",
    "# Sanity check\n",
    "player_stats.head()"
   ]
  },
  {
   "cell_type": "markdown",
   "metadata": {},
   "source": [
    "Now we have our consolidated DataFrame ready: <br>\n",
    "player_stats"
   ]
  },
  {
   "cell_type": "markdown",
   "metadata": {},
   "source": [
    "<a id='eda'></a>\n",
    "## Exploratory Data Analysis\n",
    "\n",
    "\n",
    "\n",
    "### Question 1: Do players use left foot have greater free kick accuracy? Or do they actually have the same accuracy?\n",
    "\n",
    "Let's first do some preliminary investigation on the distribution of preferred foot among players."
   ]
  },
  {
   "cell_type": "code",
   "execution_count": 14,
   "metadata": {},
   "outputs": [
    {
     "data": {
      "text/plain": [
       "right    136551\n",
       "left      44197\n",
       "Name: preferred_foot, dtype: int64"
      ]
     },
     "execution_count": 14,
     "metadata": {},
     "output_type": "execute_result"
    }
   ],
   "source": [
    "# Count the number of each group\n",
    "player_stats.preferred_foot.value_counts()"
   ]
  },
  {
   "cell_type": "markdown",
   "metadata": {},
   "source": [
    "The number of left foot players are less than 1/3 of the number of right foot players. Let's visualize it in a pie chart to have a better idea."
   ]
  },
  {
   "cell_type": "code",
   "execution_count": 15,
   "metadata": {},
   "outputs": [
    {
     "data": {
      "image/png": "[encoded data removed]",
      "text/plain": [
       "<matplotlib.figure.Figure at 0x10db415f8>"
      ]
     },
     "metadata": {},
     "output_type": "display_data"
    }
   ],
   "source": [
    "foot_dist = player_stats.groupby(['preferred_foot'])['free_kick_accuracy'].sum()\n",
    "plt.pie(foot_dist, labels=foot_dist.index)\n",
    "plt.title('Distribution of Player Preferred Foot')\n",
    "plt.axis('equal')\n",
    "plt.tight_layout()"
   ]
  },
  {
   "cell_type": "markdown",
   "metadata": {},
   "source": [
    "Now let's see if there's a difference in free kick accuracy among these players."
   ]
  },
  {
   "cell_type": "code",
   "execution_count": 16,
   "metadata": {},
   "outputs": [
    {
     "data": {
      "text/plain": [
       "preferred_foot\n",
       "left     53.284884\n",
       "right    48.136872\n",
       "Name: free_kick_accuracy, dtype: float64"
      ]
     },
     "execution_count": 16,
     "metadata": {},
     "output_type": "execute_result"
    }
   ],
   "source": [
    "# Group by preferred foot to get the mean of free kick accuracy\n",
    "player_stats.groupby(['preferred_foot'])['free_kick_accuracy'].mean()"
   ]
  },
  {
   "cell_type": "code",
   "execution_count": 17,
   "metadata": {},
   "outputs": [
    {
     "data": {
      "image/png": "[encoded data removed]",
      "text/plain": [
       "<matplotlib.figure.Figure at 0x10ff57a90>"
      ]
     },
     "metadata": {},
     "output_type": "display_data"
    }
   ],
   "source": [
    "sns.boxplot(x='preferred_foot', y='free_kick_accuracy', data=player_stats)\n",
    "plt.title('Distribution of Player Preferred Foot')\n",
    "plt.tight_layout()"
   ]
  },
  {
   "cell_type": "markdown",
   "metadata": {},
   "source": [
    "From the boxplot, we can see that the inter-quartile range (25th-75th) of left foot players is located higher than that of the right foot players. Most of the left foot players have a higher free kick accuracy than right foot players do."
   ]
  },
  {
   "cell_type": "markdown",
   "metadata": {},
   "source": [
    "From the first glance, it seems the left foot players do enjoy a higher free kick accuracy than the right foot players do, for about 5%.\n",
    "\n",
    "Let's dig deeper by looking into their free kick accuracy individually. "
   ]
  },
  {
   "cell_type": "code",
   "execution_count": 18,
   "metadata": {},
   "outputs": [],
   "source": [
    "### Filter out the left foot players and right foot players separately from the Player Stats DataFrame.\n",
    "\n",
    "# Create a DataFrame for the left foot players\n",
    "left_foot = player_stats.query('preferred_foot == \"left\"')\n",
    "\n",
    "# Create a DataFrame for the right foot players\n",
    "right_foot = player_stats.query('preferred_foot == \"right\"')"
   ]
  },
  {
   "cell_type": "markdown",
   "metadata": {},
   "source": [
    "I wonder if the free kick accuracy in each player group is actually normally distributed. \n",
    "\n",
    "Let's validate this by comparing the cumulative distribution function of the real data set and that of a sample data set which will have been normalized. If they in general overlap with each other, that player group is normally distributed."
   ]
  },
  {
   "cell_type": "code",
   "execution_count": 19,
   "metadata": {},
   "outputs": [],
   "source": [
    "### Create a ECDF function for plotting data sets\n",
    "\n",
    "# The ECDF function\n",
    "def ecdf(data):\n",
    "    \"\"\"Compute ECDF for a one-dimensional array of measurements.\"\"\"\n",
    "\n",
    "    # Number of data points: n\n",
    "    n = len(data)\n",
    "\n",
    "    # x-data for the ECDF: x\n",
    "    x = np.sort(data)\n",
    "\n",
    "    # y-data for the ECDF: y\n",
    "    y = np.arange(1, n+1) / n\n",
    "\n",
    "    return x, y"
   ]
  },
  {
   "cell_type": "markdown",
   "metadata": {},
   "source": [
    "Let's plot it for the left foot players."
   ]
  },
  {
   "cell_type": "code",
   "execution_count": 20,
   "metadata": {},
   "outputs": [
    {
     "data": {
      "image/png": "[encoded data removed]",
      "text/plain": [
       "<matplotlib.figure.Figure at 0x10e59ee48>"
      ]
     },
     "metadata": {},
     "output_type": "display_data"
    }
   ],
   "source": [
    "# Compute mean and standard deviation\n",
    "mu_lf = np.mean(left_foot.free_kick_accuracy)\n",
    "sigma_lf = np.std(left_foot.free_kick_accuracy)\n",
    "\n",
    "# Sample out of a normal distribution with this mu and sigma\n",
    "samples_lf = np.random.normal(mu_lf, sigma_lf, size=10000)\n",
    "\n",
    "# Get the CDF of the samples and of the data\n",
    "x_l_foot, y_l_foot = ecdf(left_foot.free_kick_accuracy)\n",
    "x_l_theor, y_l_theor = ecdf(samples_lf)\n",
    "\n",
    "# Plot the CDFs and show the plot\n",
    "plt.plot(x_l_foot, y_l_foot, marker='.', linestyle='none')\n",
    "plt.plot(x_l_theor, y_l_theor)\n",
    "plt.title('Emperical & Theoretical Comparison')\n",
    "plt.xlabel('Free Kick Accuracy')\n",
    "plt.ylabel('CDF')\n",
    "plt.legend(('Emperical', 'Theoretical'), loc='lower right')\n",
    "plt.margins(0.02)\n",
    "plt.show()"
   ]
  },
  {
   "cell_type": "markdown",
   "metadata": {},
   "source": [
    "The curves generally overlay nicely, which implies that the free kick accuracy of the left foot players is normally distributed.\n",
    "\n",
    "Now let's do the same thing for the right foot players."
   ]
  },
  {
   "cell_type": "code",
   "execution_count": 21,
   "metadata": {},
   "outputs": [
    {
     "data": {
      "image/png": "[encoded data removed]",
      "text/plain": [
       "<matplotlib.figure.Figure at 0x10fe513c8>"
      ]
     },
     "metadata": {},
     "output_type": "display_data"
    }
   ],
   "source": [
    "# Compute mean and standard deviation\n",
    "mu_rf = np.mean(right_foot.free_kick_accuracy)\n",
    "sigma_rf = np.std(right_foot.free_kick_accuracy)\n",
    "\n",
    "# Sample out of a normal distribution with this mu and sigma\n",
    "samples_rf = np.random.normal(mu_rf, sigma_rf, size=10000)\n",
    "\n",
    "# Get the CDF of the samples and of the data\n",
    "x_r_foot, y_r_foot = ecdf(right_foot.free_kick_accuracy)\n",
    "x_r_theor, y_r_theor = ecdf(samples_rf)\n",
    "\n",
    "# Plot the CDFs and show the plot\n",
    "plt.plot(x_r_foot, y_r_foot, marker='.', linestyle='none')\n",
    "plt.plot(x_r_theor, y_r_theor)\n",
    "plt.title('Emperical & Theoretical Comparison')\n",
    "plt.xlabel('Free Kick Accuracy')\n",
    "plt.ylabel('CDF')\n",
    "plt.legend(('Emperical', 'Theoretical'), loc='lower right')\n",
    "plt.margins(0.02)\n",
    "plt.show()"
   ]
  },
  {
   "cell_type": "markdown",
   "metadata": {},
   "source": [
    "This group's curves overlay even nicer; so the free kick accuracy in both player groups are indeed normally distributed.\n",
    "\n",
    "Now let's dig in deeper. Some people argue that there is no difference in free kick accuracy between left foot players and right foot players. In other words, the free kick accuracy of both groups is identically distributed.\n",
    "\n",
    "This implies that the difference in mean that we observed above is just by chance becasue according to them, the mean of both groups should be the same. \n",
    "\n",
    "Or is it?\n",
    "\n",
    "First, I wonder if we keep repeating the measurement (To see if there is a difference in mean), what would those potential values be/ lie between?\n",
    "\n",
    "Second, I doubt if the argument claiming that the two player groups are identically distributed is legit."
   ]
  },
  {
   "cell_type": "markdown",
   "metadata": {},
   "source": [
    "Regarding the first point, I am going to validate it by using the technique of bootstrapping, in which I will generate bootstrap replicates to find the 95% confidence interval.\n",
    "\n",
    "Regarding the second point, I am going to validate it by doing a hypothesis testing with the technique of permutation, in which I will generate permuted data to see if I could reject the null hypothesis, in this case, the two groups are identically distributed."
   ]
  },
  {
   "cell_type": "markdown",
   "metadata": {},
   "source": [
    "Let's first create a mean difference function and a bootstrap function for drawing bootstrap replicates."
   ]
  },
  {
   "cell_type": "code",
   "execution_count": 22,
   "metadata": {},
   "outputs": [],
   "source": [
    "### Create a mean difference function.\n",
    "\n",
    "def diff_of_means(data_1, data_2):\n",
    "    \"\"\"Difference in means of two arrays.\"\"\"\n",
    "\n",
    "    # The difference of means of data_1, data_2: diff\n",
    "    diff = np.mean(data_1) - np.mean(data_2)\n",
    "    \n",
    "    return diff"
   ]
  },
  {
   "cell_type": "code",
   "execution_count": 23,
   "metadata": {},
   "outputs": [],
   "source": [
    "### Create a bootstrap function for drawing bootstrap replicates.\n",
    "\n",
    "def bootstrap_replicate_1d(data, func):\n",
    "    return func(np.random.choice(data, size=len(data)))\n",
    "\n",
    "def draw_bs_reps(data, func, size=1):\n",
    "    \"\"\"Draw bootstrap replicates.\"\"\"\n",
    "\n",
    "    # Initialize array of replicates\n",
    "    bs_replicates = np.empty(size)\n",
    "\n",
    "    # Generate replicates\n",
    "    for i in range(size):\n",
    "        bs_replicates[i] = bootstrap_replicate_1d(data, func)\n",
    "\n",
    "    return bs_replicates"
   ]
  },
  {
   "cell_type": "code",
   "execution_count": 24,
   "metadata": {},
   "outputs": [
    {
     "name": "stdout",
     "output_type": "stream",
     "text": [
      "Difference of means = 5.14801165142665 %\n",
      "95% confidence interval = [ 4.96551105  5.33505009]\n"
     ]
    }
   ],
   "source": [
    "# Compute the difference of the means\n",
    "mean_diff = diff_of_means(left_foot.free_kick_accuracy, right_foot.free_kick_accuracy)\n",
    "\n",
    "# Get bootstrap replicates of means\n",
    "bs_replicates_lf = draw_bs_reps(left_foot.free_kick_accuracy, np.mean, 10000)\n",
    "bs_replicates_rf = draw_bs_reps(right_foot.free_kick_accuracy, np.mean, 10000)\n",
    "\n",
    "# Compute samples of difference of means\n",
    "bs_diff_replicates = bs_replicates_lf - bs_replicates_rf\n",
    "\n",
    "# Compute 95% confidence interval\n",
    "conf_int = np.percentile(bs_diff_replicates, [2.5, 97.5])\n",
    "\n",
    "# Print the results\n",
    "print('Difference of means =', mean_diff, '%')\n",
    "print('95% confidence interval =', conf_int)"
   ]
  },
  {
   "cell_type": "markdown",
   "metadata": {},
   "source": [
    "We can see that the emperical difference obtained from our real data set indeed lies between the 95% confidence interval.\n",
    "\n",
    "Now let's do the hypothesis testing. \n",
    "\n",
    "The null hypothesis here is:\n",
    "The free kick accuracy of left foot players and right foot players are identically distributed"
   ]
  },
  {
   "cell_type": "markdown",
   "metadata": {},
   "source": [
    "Let's first create a permutation function."
   ]
  },
  {
   "cell_type": "code",
   "execution_count": 25,
   "metadata": {},
   "outputs": [],
   "source": [
    "### Create a permutation function for drawing permuted replicates.\n",
    "\n",
    "def permutation_sample(data1, data2):\n",
    "    \"\"\"Generate a permutation sample from two data sets.\"\"\"\n",
    "\n",
    "    # Concatenate the data sets: data\n",
    "    data = np.concatenate((data1, data2))\n",
    "\n",
    "    # Permute the concatenated array\n",
    "    permuted_data = np.random.permutation(data)\n",
    "\n",
    "    # Split the permuted array into two\n",
    "    perm_sample_1 = permuted_data[:len(data1)]\n",
    "    perm_sample_2 = permuted_data[len(data1):]\n",
    "\n",
    "    return perm_sample_1, perm_sample_2\n",
    "\n",
    "def draw_perm_reps(data_1, data_2, func, size=1):\n",
    "    \"\"\"Generate multiple permutation replicates.\"\"\"\n",
    "\n",
    "    # Initialize array of replicates\n",
    "    perm_replicates = np.empty(size)\n",
    "\n",
    "    for i in range(size):\n",
    "        # Generate permutation sample\n",
    "        perm_sample_1, perm_sample_2 = permutation_sample(data_1, data_2)\n",
    "\n",
    "        # Compute the test statistic\n",
    "        perm_replicates[i] = func(perm_sample_1, perm_sample_2)\n",
    "\n",
    "    return perm_replicates"
   ]
  },
  {
   "cell_type": "markdown",
   "metadata": {},
   "source": [
    "Let's plot the ECDF of the permuted samples distribution to have a glance."
   ]
  },
  {
   "cell_type": "code",
   "execution_count": 26,
   "metadata": {},
   "outputs": [
    {
     "data": {
      "image/png": "[encoded data removed]",
      "text/plain": [
       "<matplotlib.figure.Figure at 0x10ec1e588>"
      ]
     },
     "metadata": {},
     "output_type": "display_data"
    }
   ],
   "source": [
    "for i in range(50):\n",
    "    # Generate permutation samples\n",
    "    perm_sample_1, perm_sample_2 = permutation_sample(left_foot.free_kick_accuracy, right_foot.free_kick_accuracy)\n",
    "\n",
    "\n",
    "    # Compute ECDFs\n",
    "    x_ps_1, y_ps_1 = ecdf(perm_sample_1)\n",
    "    x_ps_2, y_ps_2 = ecdf(perm_sample_2)\n",
    "\n",
    "    # Plot ECDFs of permutation sample\n",
    "    plt.plot(x_ps_1, y_ps_1, marker='.', linestyle='none',\n",
    "                 color='green', alpha=0.02)\n",
    "    plt.plot(x_ps_2, y_ps_2, marker='.', linestyle='none',\n",
    "                 color='yellow', alpha=0.02)\n",
    "\n",
    "# Create and plot ECDFs from original data\n",
    "x_1, y_1 = ecdf(left_foot.free_kick_accuracy)\n",
    "x_2, y_2 = ecdf(right_foot.free_kick_accuracy)\n",
    "plt.plot(x_1, y_1, marker='.', linestyle='none', color='red')\n",
    "plt.plot(x_2, y_2, marker='.', linestyle='none', color='blue')\n",
    "plt.xlabel('Free Kick Accuracy')\n",
    "plt.ylabel('ECDF')\n",
    "plt.margins(0.02)"
   ]
  },
  {
   "cell_type": "markdown",
   "metadata": {},
   "source": [
    "From the graph, we can see that the permuted samples (Green and yellow) are generally located within the two original data sets. This suggests that the hypothesis might not commensurate with the data sets, in this case, the two player groups might not be identically distributed.\n",
    "\n",
    "Having said that, there seems to be some blurry area; so we cannot draw a conclusion yet.\n",
    "\n",
    "Let's dig deeper by calculating the p-value with the permuted replicates, which in this case will be the difference in means."
   ]
  },
  {
   "cell_type": "code",
   "execution_count": 27,
   "metadata": {},
   "outputs": [
    {
     "name": "stdout",
     "output_type": "stream",
     "text": [
      "p-value = 0.0\n"
     ]
    }
   ],
   "source": [
    "# Compute difference of mean impact force from experiment\n",
    "empirical_diff_means = diff_of_means(left_foot.free_kick_accuracy, right_foot.free_kick_accuracy)\n",
    "\n",
    "# Draw 10,000 permutation replicates\n",
    "perm_replicates = draw_perm_reps(left_foot.free_kick_accuracy, right_foot.free_kick_accuracy,\n",
    "                                 diff_of_means, size=10000)\n",
    "\n",
    "# Compute p-value\n",
    "p = np.sum(perm_replicates >= empirical_diff_means) / len(perm_replicates)\n",
    "\n",
    "# Print the result\n",
    "print('p-value =', p)"
   ]
  },
  {
   "cell_type": "markdown",
   "metadata": {},
   "source": [
    "The p-value is so small that is almost 0. This suggests that under the assumption of the player groups are identically distributed is true, the probability we would obtain a difference in mean, in this case 5.15%, is pretty much 0%.\n",
    "\n",
    "This is statistically significant; hence, we reject the null hypothesis. "
   ]
  },
  {
   "cell_type": "markdown",
   "metadata": {},
   "source": [
    "### Question 2: Are there any relationships between height and heading accuracy?\n",
    "\n",
    "Now let's move onto investigating the relationship between height and heading accuracy. \n",
    "\n",
    "I'd like to first check the distribution of heights."
   ]
  },
  {
   "cell_type": "code",
   "execution_count": 28,
   "metadata": {},
   "outputs": [
    {
     "data": {
      "text/plain": [
       "182    31632\n",
       "177    23821\n",
       "180    22440\n",
       "187    21468\n",
       "185    21003\n",
       "175    19288\n",
       "190    10843\n",
       "172     8778\n",
       "193     8002\n",
       "170     7028\n",
       "195     2102\n",
       "167     1952\n",
       "165      943\n",
       "198      926\n",
       "200      160\n",
       "162      152\n",
       "203      136\n",
       "160       50\n",
       "208       14\n",
       "157       10\n",
       "Name: height, dtype: int64"
      ]
     },
     "execution_count": 28,
     "metadata": {},
     "output_type": "execute_result"
    }
   ],
   "source": [
    "# Count the number of each age\n",
    "player_stats.height.value_counts()"
   ]
  },
  {
   "cell_type": "code",
   "execution_count": 29,
   "metadata": {},
   "outputs": [
    {
     "data": {
      "text/plain": [
       "<matplotlib.text.Text at 0x10edb0e48>"
      ]
     },
     "execution_count": 29,
     "metadata": {},
     "output_type": "execute_result"
    },
    {
     "data": {
      "image/png": "[encoded data removed]",
      "text/plain": [
       "<matplotlib.figure.Figure at 0x10e5886a0>"
      ]
     },
     "metadata": {},
     "output_type": "display_data"
    }
   ],
   "source": [
    "### Univariate distribution for height.\n",
    "\n",
    "# Plot the distribution for height\n",
    "sns.distplot(player_stats.height, bins=20, hist=True)\n",
    "plt.title('Distribution of Players Height')"
   ]
  },
  {
   "cell_type": "markdown",
   "metadata": {},
   "source": [
    "From the graph, we cannot really tell if the height is normally distributed; so let's compare the emperical and theoretical ECDF."
   ]
  },
  {
   "cell_type": "code",
   "execution_count": 30,
   "metadata": {},
   "outputs": [
    {
     "data": {
      "image/png": "[encoded data removed]",
      "text/plain": [
       "<matplotlib.figure.Figure at 0x10e7560b8>"
      ]
     },
     "metadata": {},
     "output_type": "display_data"
    }
   ],
   "source": [
    "# Compute mean and standard deviation\n",
    "mu_height = np.mean(player_stats.height)\n",
    "sigma_height = np.std(player_stats.height)\n",
    "\n",
    "# Sample out of a normal distribution with this mu and sigma\n",
    "samples_height = np.random.normal(mu_height, sigma_height, size=10000)\n",
    "\n",
    "# Get the CDF of the samples and of the data\n",
    "x_height, y_height = ecdf(player_stats.height)\n",
    "x_height_theor, y_height_theor = ecdf(samples_height)\n",
    "\n",
    "# Plot the CDFs and show the plot\n",
    "plt.plot(x_height, y_height, marker='.', linestyle='none')\n",
    "plt.plot(x_height_theor, y_height_theor)\n",
    "plt.title('Emperical & Theoretical Comparison')\n",
    "plt.xlabel('Players Height')\n",
    "plt.ylabel('CDF')\n",
    "plt.legend(('Emperical', 'Theoretical'), loc='lower right')\n",
    "plt.margins(0.02)\n",
    "plt.show()"
   ]
  },
  {
   "cell_type": "markdown",
   "metadata": {},
   "source": [
    "For the sake of better visualization, I am going to create a percentile object which stores the 2.5, 25, 50 ,75, and 97.5 percentiles for visualization afterwards."
   ]
  },
  {
   "cell_type": "code",
   "execution_count": 31,
   "metadata": {},
   "outputs": [
    {
     "name": "stdout",
     "output_type": "stream",
     "text": [
      "[ 170.  177.  182.  185.  193.]\n"
     ]
    }
   ],
   "source": [
    "# Plug in the heights\n",
    "x_height, y_height = ecdf(player_stats['height'])\n",
    "\n",
    "# Specify array of percentiles\n",
    "percentiles = np.array([2.5, 25, 50 ,75, 97.5])\n",
    "\n",
    "# Compute percentiles\n",
    "ptiles_height = np.percentile(player_stats['height'], percentiles)\n",
    "\n",
    "print(ptiles_height)"
   ]
  },
  {
   "cell_type": "code",
   "execution_count": 32,
   "metadata": {
    "scrolled": true
   },
   "outputs": [
    {
     "data": {
      "image/png": "[encoded data removed]",
      "text/plain": [
       "<matplotlib.figure.Figure at 0x10e85eb00>"
      ]
     },
     "metadata": {},
     "output_type": "display_data"
    }
   ],
   "source": [
    "# Compute mean and standard deviation\n",
    "mu_height = np.mean(player_stats.height)\n",
    "sigma_height = np.std(player_stats.height)\n",
    "\n",
    "# Sample out of a normal distribution with this mu and sigma\n",
    "samples_height = np.random.normal(mu_height, sigma_height, size=10000)\n",
    "\n",
    "# Get the CDF of the samples and of the data\n",
    "x_height, y_height = ecdf(player_stats.height)\n",
    "x_height_theor, y_height_theor = ecdf(samples_height)\n",
    "\n",
    "# Compute percentiles\n",
    "ptiles_height = np.percentile(player_stats.height, percentiles)\n",
    "\n",
    "# Plot the ECDF\n",
    "plt.plot(x_height, y_height, marker='.', linestyle='none')\n",
    "plt.plot(x_height_theor, y_height_theor)\n",
    "plt.plot(ptiles_height, percentiles/100, marker='D', color='red', linestyle='none')\n",
    "plt.title('Distribution of Players Height')\n",
    "plt.xlabel('Height')\n",
    "plt.ylabel('ECDF')\n",
    "plt.legend(('Emperical', 'Theoretical'), loc='lower right')\n",
    "plt.margins(0.02)"
   ]
  },
  {
   "cell_type": "markdown",
   "metadata": {},
   "source": [
    "Now we have a better idea. The curves in general overlay pretty nicely. It seems that players' heights are normally distributed."
   ]
  },
  {
   "cell_type": "markdown",
   "metadata": {},
   "source": [
    "182CM is the threshold (Median) of this data set. "
   ]
  },
  {
   "cell_type": "markdown",
   "metadata": {},
   "source": [
    "Now let's dig in and see if there is a correlation between height and heading accuracy.\n",
    "\n",
    "Let's create a jointplot to grab a first glance."
   ]
  },
  {
   "cell_type": "code",
   "execution_count": 33,
   "metadata": {},
   "outputs": [
    {
     "data": {
      "text/plain": [
       "<seaborn.axisgrid.JointGrid at 0x10e8d1940>"
      ]
     },
     "execution_count": 33,
     "metadata": {},
     "output_type": "execute_result"
    },
    {
     "data": {
      "image/png": "[encoded data removed]",
      "text/plain": [
       "<matplotlib.figure.Figure at 0x10e8dc898>"
      ]
     },
     "metadata": {},
     "output_type": "display_data"
    }
   ],
   "source": [
    "# A jointplot to visualize players' height against heading accuracy\n",
    "sns.jointplot(x='height', y='heading_accuracy', data=player_stats, kind='reg')"
   ]
  },
  {
   "cell_type": "code",
   "execution_count": 34,
   "metadata": {},
   "outputs": [],
   "source": [
    "### Create a function to get the correlation coefficient\n",
    "\n",
    "# The correlatin coefficient function\n",
    "def pearson_r(x, y):\n",
    "    \"\"\"Compute Pearson correlation coefficient between two arrays.\"\"\"\n",
    "    # Compute correlation matrix: corr_mat\n",
    "    corr_mat = np.corrcoef(x,y)\n",
    "\n",
    "    # Return entry [0,1]\n",
    "    return corr_mat[0,1]"
   ]
  },
  {
   "cell_type": "code",
   "execution_count": 35,
   "metadata": {},
   "outputs": [
    {
     "data": {
      "text/plain": [
       "0.10895266428856185"
      ]
     },
     "execution_count": 35,
     "metadata": {},
     "output_type": "execute_result"
    }
   ],
   "source": [
    "# Run the function on the variables\n",
    "pearson_r(player_stats.height, player_stats.heading_accuracy)"
   ]
  },
  {
   "cell_type": "markdown",
   "metadata": {},
   "source": [
    "Although positive, the correlation is not that strong based on our real data set. \n",
    "\n",
    "Let's use bootstrapping to find the 95% confidence interval of the correlation. For this, we need to write a another function that boostraps in pairs and returns a single statistic because the statistical inference is now parametric (Correlation)."
   ]
  },
  {
   "cell_type": "code",
   "execution_count": 36,
   "metadata": {},
   "outputs": [],
   "source": [
    "### Create a bootstrap function.\n",
    "\n",
    "def draw_bs_pairs(x, y, func, size=1):\n",
    "    \"\"\"Perform pairs bootstrap for single statistic.\"\"\"\n",
    "\n",
    "    # Set up array of indices to sample from\n",
    "    inds = np.arange(len(x))\n",
    "\n",
    "    # Initialize replicates\n",
    "    bs_replicates = np.empty(size)\n",
    "\n",
    "    # Generate replicates\n",
    "    for i in range(size):\n",
    "        bs_inds = np.random.choice(inds, len(inds))\n",
    "        bs_x, bs_y = x[bs_inds], y[bs_inds]\n",
    "        bs_replicates[i] = func(bs_x, bs_y)\n",
    "\n",
    "    return bs_replicates"
   ]
  },
  {
   "cell_type": "code",
   "execution_count": 37,
   "metadata": {},
   "outputs": [
    {
     "name": "stdout",
     "output_type": "stream",
     "text": [
      "Correlation between height and heading accuracy - 95% Confidence Interval: [ 0.10347816  0.11432936]\n"
     ]
    }
   ],
   "source": [
    "# Run the function to draw bootstrap replicates of correlation\n",
    "bs_replicates_heading = draw_bs_pairs(player_stats.height, player_stats.heading_accuracy, pearson_r, 1000)\n",
    "\n",
    "# Get the 95% confidence interval\n",
    "conf_int_heading = np.percentile(bs_replicates_heading, [2.5, 97.5])\n",
    "\n",
    "print('Correlation between height and heading accuracy - 95% Confidence Interval:', conf_int_heading)"
   ]
  },
  {
   "cell_type": "markdown",
   "metadata": {},
   "source": [
    "The observed value, 0.11, in this case lies between the interval. Again, some people might argue that this is just by chance. \n",
    "\n",
    "So let's test if height and heading accuracy are independent to each other. \n",
    "\n",
    "To clarify, our null hypothesis is:\n",
    "The heading accuracy of a given player is totally independent of his height"
   ]
  },
  {
   "cell_type": "markdown",
   "metadata": {},
   "source": [
    "To test this, we will again use the technique of permutation, only this time we permute one variable and leave the other one fixed. This should simulate the hypothesis that the variables are independent of each other."
   ]
  },
  {
   "cell_type": "code",
   "execution_count": 38,
   "metadata": {},
   "outputs": [
    {
     "name": "stdout",
     "output_type": "stream",
     "text": [
      "p-value = 0.0\n"
     ]
    }
   ],
   "source": [
    "# Compute observed correlation\n",
    "r_observed = pearson_r(player_stats.height, player_stats.heading_accuracy)\n",
    "\n",
    "# Initialize permutation replicates: perm_replicates\n",
    "perm_replicates = np.empty(10000)\n",
    "\n",
    "# Draw replicates\n",
    "for i in range(10000):\n",
    "    # Permute height\n",
    "    height_permuted = np.random.permutation(player_stats.height)\n",
    "\n",
    "    # Compute Pearson correlation\n",
    "    perm_replicates[i] = pearson_r(height_permuted, player_stats.heading_accuracy)\n",
    "\n",
    "# Compute p-value\n",
    "p = np.sum(perm_replicates >= r_observed) / len(perm_replicates)\n",
    "print('p-value =', p)"
   ]
  },
  {
   "cell_type": "markdown",
   "metadata": {},
   "source": [
    "The p-value is so small that is almost 0. This suggests that under the assumption of height and heading accuracy are totally independent of each other is true, the probability we would obtain a correlation, in this case 0.11, is pretty much 0%.\n",
    "\n",
    "This is statistically significant; hence, we reject the the null hypothesis."
   ]
  },
  {
   "cell_type": "markdown",
   "metadata": {},
   "source": [
    "### Question 3: Are there any relationships between players' age and overall rating?\n",
    "\n",
    "Age is usually a big factor to consider when taking part in different activities, especially athletic ones (Sports).\n",
    "\n",
    "Let's check the age range in this data set."
   ]
  },
  {
   "cell_type": "code",
   "execution_count": 39,
   "metadata": {},
   "outputs": [
    {
     "data": {
      "text/plain": [
       "age\n",
       "18.0        7\n",
       "19.0      109\n",
       "20.0      798\n",
       "21.0     2147\n",
       "22.0     3895\n",
       "23.0     6262\n",
       "24.0     8416\n",
       "25.0     9903\n",
       "26.0    12451\n",
       "27.0    12993\n",
       "28.0    13341\n",
       "29.0    14609\n",
       "30.0    14360\n",
       "31.0    13476\n",
       "32.0    11415\n",
       "33.0    10829\n",
       "34.0    10096\n",
       "35.0     8246\n",
       "36.0     7578\n",
       "37.0     6386\n",
       "38.0     4888\n",
       "39.0     3125\n",
       "40.0     2090\n",
       "41.0     1432\n",
       "42.0      907\n",
       "43.0      460\n",
       "44.0      221\n",
       "45.0      139\n",
       "46.0       86\n",
       "47.0       58\n",
       "48.0       12\n",
       "49.0        9\n",
       "51.0        4\n",
       "Name: player_name, dtype: int64"
      ]
     },
     "execution_count": 39,
     "metadata": {},
     "output_type": "execute_result"
    }
   ],
   "source": [
    "# Group by age\n",
    "player_stats.groupby(['age'])['player_name'].count()"
   ]
  },
  {
   "cell_type": "markdown",
   "metadata": {},
   "source": [
    "The ages vary from 18 to 50 and converge to 30, with a few outliers.\n",
    "\n",
    "The ages seem to be normally distributed. Let's plot them out to have a glance."
   ]
  },
  {
   "cell_type": "code",
   "execution_count": 40,
   "metadata": {},
   "outputs": [
    {
     "data": {
      "text/plain": [
       "<matplotlib.text.Text at 0x10e7c0da0>"
      ]
     },
     "execution_count": 40,
     "metadata": {},
     "output_type": "execute_result"
    },
    {
     "data": {
      "image/png": "[encoded data removed]",
      "text/plain": [
       "<matplotlib.figure.Figure at 0x10ed5a208>"
      ]
     },
     "metadata": {},
     "output_type": "display_data"
    }
   ],
   "source": [
    "### Univariate distribution for age.\n",
    "\n",
    "#Plot the distribution for age\n",
    "sns.distplot(player_stats.age, bins=32, hist=True)\n",
    "plt.title('Distribution of Players Age')"
   ]
  },
  {
   "cell_type": "markdown",
   "metadata": {},
   "source": [
    "Let's double-check to see if the age is normally distributed by comparing the emperical and the theoretical ECDF."
   ]
  },
  {
   "cell_type": "code",
   "execution_count": 41,
   "metadata": {},
   "outputs": [
    {
     "data": {
      "image/png": "[encoded data removed]",
      "text/plain": [
       "<matplotlib.figure.Figure at 0x10eb417b8>"
      ]
     },
     "metadata": {},
     "output_type": "display_data"
    }
   ],
   "source": [
    "# Compute mean and standard deviation\n",
    "mu_age = np.mean(player_stats.age)\n",
    "sigma_age = np.std(player_stats.age)\n",
    "\n",
    "# Sample out of a normal distribution with this mu and sigma\n",
    "samples_age = np.random.normal(mu_age, sigma_age, size=10000)\n",
    "\n",
    "# Get the CDF of the samples and of the data\n",
    "x_age, y_age = ecdf(player_stats.age)\n",
    "x_age_theor, y_age_theor = ecdf(samples_age)\n",
    "\n",
    "# Compute percentiles\n",
    "ptiles_age = np.percentile(player_stats.age, percentiles)\n",
    "\n",
    "# Plot the CDFs and show the plot\n",
    "plt.plot(x_age, y_age, marker='.', linestyle='none')\n",
    "plt.plot(x_age_theor, y_age_theor)\n",
    "plt.title('Emperical & Theoretical Comparison')\n",
    "plt.plot(ptiles_age, percentiles/100, marker='D', color='red', linestyle='none')\n",
    "plt.title('Distribution of Players Age')\n",
    "plt.ylabel('CDF')\n",
    "plt.legend(('Emperical', 'Theoretical'), loc='lower right')\n",
    "plt.margins(0.02)\n",
    "plt.show()"
   ]
  },
  {
   "cell_type": "markdown",
   "metadata": {},
   "source": [
    "30 year-old is the threshold (Median) in this data set.\n",
    "\n",
    "The normal distribution model fits the data set pretty much perfectly."
   ]
  },
  {
   "cell_type": "markdown",
   "metadata": {},
   "source": [
    "Let's see if there is a correlation between age and overall rating."
   ]
  },
  {
   "cell_type": "code",
   "execution_count": 42,
   "metadata": {},
   "outputs": [
    {
     "data": {
      "text/plain": [
       "0.27881901269813164"
      ]
     },
     "execution_count": 42,
     "metadata": {},
     "output_type": "execute_result"
    }
   ],
   "source": [
    "pearson_r(player_stats.age, player_stats.overall_rating)"
   ]
  },
  {
   "cell_type": "markdown",
   "metadata": {},
   "source": [
    "Although not very strong, there is indeed a positive relationship between age and overall rating. \n",
    "\n",
    "Let's further illustrate it in a jointplot."
   ]
  },
  {
   "cell_type": "code",
   "execution_count": 43,
   "metadata": {},
   "outputs": [
    {
     "data": {
      "text/plain": [
       "<seaborn.axisgrid.JointGrid at 0x10edaf278>"
      ]
     },
     "execution_count": 43,
     "metadata": {},
     "output_type": "execute_result"
    },
    {
     "data": {
      "image/png": "[encoded data removed]",
      "text/plain": [
       "<matplotlib.figure.Figure at 0x10edafeb8>"
      ]
     },
     "metadata": {},
     "output_type": "display_data"
    }
   ],
   "source": [
    "# A jointplot to visualize players' age against overall rating\n",
    "sns.jointplot(player_stats['age'], player_stats['overall_rating'], kind='reg')"
   ]
  },
  {
   "cell_type": "markdown",
   "metadata": {},
   "source": [
    "From the jointplot, we can see that as age goes up, overall rating in general also goes up."
   ]
  },
  {
   "cell_type": "markdown",
   "metadata": {},
   "source": [
    "Now let's find the 95% confidence internal of the correlation and test if age and overall rating are completely independent of each other like we did for height and heading accuracy."
   ]
  },
  {
   "cell_type": "code",
   "execution_count": 44,
   "metadata": {},
   "outputs": [
    {
     "name": "stdout",
     "output_type": "stream",
     "text": [
      "Correlation between age and overall rating - 95% Confidence Interval: [ 0.27447251  0.28321603]\n"
     ]
    }
   ],
   "source": [
    "# Run the function to draw bootstrap replicates of correlation\n",
    "bs_replicates_or = draw_bs_pairs(player_stats.age, player_stats.overall_rating, pearson_r, 1000)\n",
    "\n",
    "# Get the 95% confidence interval\n",
    "conf_int_or = np.percentile(bs_replicates_or, [2.5, 97.5])\n",
    "\n",
    "print('Correlation between age and overall rating - 95% Confidence Interval:', conf_int_or)"
   ]
  },
  {
   "cell_type": "code",
   "execution_count": 45,
   "metadata": {},
   "outputs": [
    {
     "name": "stdout",
     "output_type": "stream",
     "text": [
      "p-value = 0.0\n"
     ]
    }
   ],
   "source": [
    "# Compute observed correlation\n",
    "r_observed_or = pearson_r(player_stats.age, player_stats.overall_rating)\n",
    "\n",
    "# Initialize permutation replicates\n",
    "perm_replicates = np.empty(10000)\n",
    "\n",
    "# Draw replicates\n",
    "for i in range(10000):\n",
    "    # Permute age\n",
    "    age_permuted = np.random.permutation(player_stats.age)\n",
    "\n",
    "    # Compute Pearson correlation\n",
    "    perm_replicates[i] = pearson_r(age_permuted, player_stats.overall_rating)\n",
    "\n",
    "# Compute p-value\n",
    "p = np.sum(perm_replicates >= r_observed_or) / len(perm_replicates)\n",
    "print('p-value =', p)"
   ]
  },
  {
   "cell_type": "markdown",
   "metadata": {},
   "source": [
    "The p-value is so small that is almost 0. This suggests that under the assumption of age and overall rating are totally independent of each other is true, the probability we would obtain a correlation, in this case 0.28, is pretty much 0%.\n",
    "\n",
    "This is statistically significant; hence, we reject the the null hypothesis."
   ]
  },
  {
   "cell_type": "markdown",
   "metadata": {},
   "source": [
    "<a id='conclusions'></a>\n",
    "## Conclusions\n",
    "\n"
   ]
  },
  {
   "cell_type": "markdown",
   "metadata": {},
   "source": [
    "From the EDA, we can draw quite a few conclusions. Nonetheless, there is still something that remains unclear in which further analysis needed to be conducted.\n",
    "\n",
    "Question 1:<br>\n",
    "Left foot players do possess higher free kick accuracy than right foot players do, and each group's free kick accuracy is normally distributed. Having said that, they are not identically distributed. In other words, the difference observed in the data set is not by chance. We validated this by running a hypothesis testing with the help of permutation. To clarify, this does not mean using left foot will directly increase free kick accuracy, and it remains unclear that why using left foot will casue a higher free kick accuracy.\n",
    "\n",
    "Question 2:<br>\n",
    "The heights of players are normally distributed. It is also concluded that height and heading accuracy are not totally independent of each other. We validated this by running hypothesis testing with the help of permutation. We also found the 95% confidence internal of the correlation in which our observed value lies between.\n",
    "\n",
    "Questions 3:<br>\n",
    "The ages of players are normally distributed. We found that age and overall rating are not completely independent of each other. We validated this by running hypothesis testing with the help of permutation. On top of that, we found the the 95% confidence internal of the correlation in which our observed value lies between.\n",
    "\n",
    "\n",
    "As we can see, there is still quite a lot of area that remains unclear. Questions that we could ponder upon include:<br>\n",
    "1. Should goal keepers be considered as a factor when evaluating free kick accuracy? Chances are goal keepers may find left foot players gestures harder to capture, which could potentially put left foot players in a better position for shooting.\n",
    "2. Why is there a positive correlation between age and overall rating? And if age itself as an indicator of physical condition of players, shouldn't there be a negative correlation instead? One of the reasons to explain this is probably experience among players, which is also a factor that plays a very significant role in all kinds of activities including athletic ones (Sports)."
   ]
  },
  {
   "cell_type": "code",
   "execution_count": 46,
   "metadata": {},
   "outputs": [
    {
     "data": {
      "text/plain": [
       "0"
      ]
     },
     "execution_count": 46,
     "metadata": {},
     "output_type": "execute_result"
    }
   ],
   "source": [
    "from subprocess import call\n",
    "call(['python', '-m', 'nbconvert', 'Investigate_a_Dataset.ipynb'])"
   ]
  }
 ],
 "metadata": {
  "kernelspec": {
   "display_name": "Python [default]",
   "language": "python",
   "name": "python3"
  },
  "language_info": {
   "codemirror_mode": {
    "name": "ipython",
    "version": 3
   },
   "file_extension": ".py",
   "mimetype": "text/x-python",
   "name": "python",
   "nbconvert_exporter": "python",
   "pygments_lexer": "ipython3",
   "version": "3.6.4"
  }
 },
 "nbformat": 4,
 "nbformat_minor": 2
}
